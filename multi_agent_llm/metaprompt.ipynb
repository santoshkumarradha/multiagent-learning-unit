{
 "cells": [
  {
   "cell_type": "code",
   "execution_count": 1,
   "metadata": {},
   "outputs": [],
   "source": [
    "from typing import List\n",
    "from pydantic import BaseModel, Field\n",
    "\n",
    "# Pydantic Schemas\n",
    "class AgentCreationResponse(BaseModel):\n",
    "    thinking_process: str = Field(..., description=\"The agent's thinking process and steps to create the next agent.\")\n",
    "    name: str = Field(..., description=\"The name of the next agent.\")\n",
    "    role: str = Field(..., description=\"The role of the next agent.\")\n",
    "    function: str = Field(..., description=\"The function of the next agent.\")\n",
    "\n",
    "# Agent Class\n",
    "class Agent:\n",
    "    def __init__(self, name: str, role: str, function: str, llm, schema):\n",
    "        self.name = name\n",
    "        self.role = role\n",
    "        self.function = function\n",
    "        self.llm = llm\n",
    "        self.schema = schema\n",
    "\n",
    "    def run(self, task: str) -> BaseModel:\n",
    "        # Construct the system prompt\n",
    "        system_prompt = f\"\"\"You are {self.name}.\n",
    "\n",
    "Role:\n",
    "{self.role}\n",
    "\n",
    "Function:\n",
    "{self.function}\n",
    "\"\"\"\n",
    "\n",
    "        if self.schema == AgentCreationResponse:\n",
    "            # User prompt for creating the next agent\n",
    "            user_prompt = f\"\"\"Task:\n",
    "{task}\n",
    "\n",
    "Please create the next agent by providing the following in JSON format:\n",
    "\n",
    "{{\n",
    "    \"name\": \"Provide a suitable name for the next agent.\",\n",
    "    \"role\": \"Define the role of the next agent in detail, making it significantly more specific and comprehensive than your own role.\",\n",
    "    \"function\": \"Describe the function of the next agent thoroughly, elaborating on methodologies, strategies, considerations, potential challenges, and how to address them to solve the task effectively.\"\n",
    "}}\n",
    "\n",
    "Ensure that the next agent's role and function are more detailed and stronger than your own. Think critically about how the next agent can be better equipped to solve the task, and include any improvements, enhancements, or additional capabilities that would assist in achieving the best possible outcome. Be creative and think out of the box and always prompt the next agent to be more specific and detailed and make it think step by step and various steps to solve the task effectively.\n",
    "\"\"\"\n",
    "        else:\n",
    "            # User prompt for the final agent to solve the task\n",
    "            user_prompt = f\"\"\"Task:\n",
    "{task}\n",
    "\n",
    "Please provide a detailed answer to the task, following your role and function. Ensure that your response is comprehensive, accurate, and addresses all aspects necessary to solve the task effectively.\n",
    "\"\"\"\n",
    "\n",
    "        # Generate the response using the LLM\n",
    "        prompt = self.llm.format_prompt(system_prompt=system_prompt, user_prompt=user_prompt)\n",
    "        result = self.llm.generate(prompt, schema=self.schema)\n",
    "        return result\n",
    "\n",
    "# MetaAgentSystem Class\n",
    "class MetaAgentSystem:\n",
    "    def __init__(self, llm):\n",
    "        self.llm = llm\n",
    "\n",
    "    def create_meta_agents(self, n: int, initial_task: str, answer_schema: BaseModel):\n",
    "        agents = []\n",
    "        task = initial_task\n",
    "\n",
    "        for level in range(n):\n",
    "            if level == 0:\n",
    "                # Initial agent details\n",
    "                agent_name = f\"Agent Level {level + 1}\"\n",
    "                role = \"Your role is to create an agent that is better suited to solve the given task.\"\n",
    "                function = \"Your function is to define the name, role, and function of the next agent, making it more specific and detailed to solve the task.\"\n",
    "            else:\n",
    "                # Update the agent's details from the previous agent's output\n",
    "                agent_name = agent_creation_result.name\n",
    "                role = agent_creation_result.role\n",
    "                function = agent_creation_result.function\n",
    "\n",
    "            if level < n - 1:\n",
    "                # Create an agent that will create the next agent\n",
    "                agent = Agent(agent_name, role, function, self.llm, AgentCreationResponse)\n",
    "                agent_creation_result = agent.run(task)\n",
    "\n",
    "                # Store the agent's details\n",
    "                agents.append({\n",
    "                    \"level\": level + 1,\n",
    "                    \"name\": agent_name,\n",
    "                    \"role\": role,\n",
    "                    \"function\": function\n",
    "                })\n",
    "\n",
    "                # Print out the agent's details\n",
    "                self.print_agent_details(level + 1, agent_name, role, function, agent_creation_result)\n",
    "            else:\n",
    "                # Final agent to solve the task\n",
    "                final_agent = Agent(agent_name, role, function, self.llm, answer_schema)\n",
    "                final_result = final_agent.run(task)\n",
    "\n",
    "                # Print the final agent's details and response\n",
    "                print(f\"Final Agent's Name: {agent_name}\")\n",
    "                print(f\"Final Agent's Role: {role}\")\n",
    "                print(f\"Final Agent's Function: {function}\")\n",
    "                print(f\"\\n{agent_name}'s Response:\\n{final_result}\\n\")\n",
    "\n",
    "                return final_result\n",
    "\n",
    "    @staticmethod\n",
    "    def print_agent_details(level, name, role, function, agent_response):\n",
    "        print(f\"Agent Level {level}\")\n",
    "        print(f\"Name: {name}\")\n",
    "        print(f\"Role: {role}\")\n",
    "        print(f\"Function: {function}\")\n",
    "        print(\"Agent's output:\")\n",
    "        print(agent_response.model_dump_json(indent=2))\n",
    "        print(\"\\n\")"
   ]
  },
  {
   "cell_type": "markdown",
   "metadata": {},
   "source": [
    "## Second meta agent"
   ]
  },
  {
   "cell_type": "code",
   "execution_count": 2,
   "metadata": {},
   "outputs": [],
   "source": [
    "from typing import List\n",
    "from pydantic import BaseModel, Field\n",
    "\n",
    "# Pydantic Schemas\n",
    "class AgentCreationResponse(BaseModel):\n",
    "    thinking_process: str = Field(..., description=\"The agent's thinking process and steps to create the next agent.\")\n",
    "    name: str = Field(..., description=\"The name of the next agent.\")\n",
    "    role: str = Field(..., description=\"The role of the next agent.\")\n",
    "    function: str = Field(..., description=\"The function of the next agent.\")\n",
    "\n",
    "# Agent Class\n",
    "class Agent:\n",
    "    def __init__(self, name: str, role: str, function: str, llm, schema):\n",
    "        self.name = name\n",
    "        self.role = role\n",
    "        self.function = function\n",
    "        self.llm = llm  # The LLM instance\n",
    "        self.schema = schema  # The expected output schema\n",
    "\n",
    "    def run(self, task: str) -> BaseModel:\n",
    "        # Construct the system prompt\n",
    "        system_prompt = f\"\"\"You are {self.name}.\n",
    "\n",
    "Role:\n",
    "{self.role}\n",
    "\n",
    "Function:\n",
    "{self.function}\n",
    "\"\"\"\n",
    "\n",
    "        if self.schema == AgentCreationResponse:\n",
    "            # User prompt for creating the next agent\n",
    "            user_prompt = f\"\"\"Task:\n",
    "{task}\n",
    "\n",
    "As {self.name}, your goal is to create an agent that is better at creating agents that can solve the given task in general. Think about how to enhance the capabilities of the next agent to improve its ability to create effective agents for solving the problem.\n",
    "\n",
    "Please create the next agent by providing the following in JSON format:\n",
    "\n",
    "{{\n",
    "    \"thinking_process\": \"Explain your thinking process and steps to create the next agent.\",\n",
    "    \"name\": \"Provide a suitable name for the next agent.\",\n",
    "    \"role\": \"Define the role of the next agent in detail, focusing on improving the ability to create agents that can solve the problem.\",\n",
    "    \"function\": \"Describe the function of the next agent thoroughly, elaborating on strategies, methodologies, considerations, and how to address challenges in creating agents capable of solving the task effectively.\"\n",
    "}}\n",
    "\n",
    "Ensure that the next agent's role and function are more advanced and effective than your own. Be creative and think critically about how to improve the agent creation process, making the next agent better at creating agents for solving the task.\n",
    "\"\"\"\n",
    "        else:\n",
    "            # User prompt for the final agent to solve the task\n",
    "            user_prompt = f\"\"\"Task:\n",
    "{task}\n",
    "\n",
    "As {self.name}, please provide a detailed answer to the task, following your role and function. Ensure that your response is comprehensive, accurate, and addresses all aspects necessary to solve the task effectively.\n",
    "\"\"\"\n",
    "\n",
    "        # Generate the response using the LLM\n",
    "        prompt = self.llm.format_prompt(system_prompt=system_prompt, user_prompt=user_prompt)\n",
    "        result = self.llm.generate(prompt, schema=self.schema)\n",
    "        return result\n",
    "\n",
    "# MetaAgentSystem Class\n",
    "class MetaAgentSystem:\n",
    "    def __init__(self, llm):\n",
    "        self.llm = llm  # The LLM instance\n",
    "\n",
    "    def create_meta_agents(self, n: int, initial_task: str, answer_schema: BaseModel):\n",
    "        agents = []\n",
    "        task = initial_task\n",
    "\n",
    "        for level in range(n):\n",
    "            if level == 0:\n",
    "                # Initial agent details\n",
    "                agent_name = f\"Meta Agent Level {level + 1}\"\n",
    "                role = \"Your role is to create an agent that can create agents better suited to solve the given task.\"\n",
    "                function = \"Your function is to define the name, role, and function of the next agent, focusing on enhancing the ability to create agents that can effectively solve the problem.\"\n",
    "            else:\n",
    "                # Update the agent's details from the previous agent's output\n",
    "                agent_name = agent_creation_result.name\n",
    "                role = agent_creation_result.role\n",
    "                function = agent_creation_result.function\n",
    "\n",
    "            if level < n - 1:\n",
    "                # Create an agent that will create the next agent\n",
    "                agent = Agent(agent_name, role, function, self.llm, AgentCreationResponse)\n",
    "                agent_creation_result = agent.run(task)\n",
    "\n",
    "                # Store the agent's details\n",
    "                agents.append({\n",
    "                    \"level\": level + 1,\n",
    "                    \"name\": agent_name,\n",
    "                    \"role\": role,\n",
    "                    \"function\": function,\n",
    "                    \"thinking_process\": agent_creation_result.thinking_process\n",
    "                })\n",
    "\n",
    "                # Print out the agent's details\n",
    "                self.print_agent_details(level + 1, agent_name, role, function, agent_creation_result)\n",
    "            else:\n",
    "                # Final agent to solve the task\n",
    "                final_agent = Agent(agent_name, role, function, self.llm, answer_schema)\n",
    "                final_result = final_agent.run(task)\n",
    "\n",
    "                # Print the final agent's details and response\n",
    "                print(f\"Final Agent's Name: {agent_name}\")\n",
    "                print(f\"Final Agent's Role: {role}\")\n",
    "                print(f\"Final Agent's Function: {function}\")\n",
    "                print(f\"\\n{agent_name}'s Response:\\n{final_result}\\n\")\n",
    "\n",
    "                return final_result\n",
    "\n",
    "    @staticmethod\n",
    "    def print_agent_details(level, name, role, function, agent_response):\n",
    "        print(f\"Agent Level {level}\")\n",
    "        print(f\"Name: {name}\")\n",
    "        print(f\"Role: {role}\")\n",
    "        print(f\"Function: {function}\")\n",
    "        print(\"Agent's output:\")\n",
    "        print(agent_response.model_dump_json(indent=2))\n",
    "        print(\"\\n\")"
   ]
  },
  {
   "cell_type": "code",
   "execution_count": 3,
   "metadata": {},
   "outputs": [],
   "source": [
    "import sys;sys.path.append('../')\n",
    "from multi_agent_llm import OpenAILLM\n",
    "import os\n",
    "\n",
    "from rich import print\n",
    "\n",
    "openai_key=open('../openai.key').read().strip()\n",
    "os.environ['OPENAI_API_KEY'] = openai_key\n",
    "\n",
    "\n",
    "\n",
    "llm = OpenAILLM(model_name=\"gpt-4o-mini\")"
   ]
  },
  {
   "cell_type": "code",
   "execution_count": 4,
   "metadata": {},
   "outputs": [
    {
     "data": {
      "text/html": [
       "<pre style=\"white-space:pre;overflow-x:auto;line-height:normal;font-family:Menlo,'DejaVu Sans Mono',consolas,'Courier New',monospace\">Agent Level <span style=\"color: #008080; text-decoration-color: #008080; font-weight: bold\">1</span>\n",
       "</pre>\n"
      ],
      "text/plain": [
       "Agent Level \u001b[1;36m1\u001b[0m\n"
      ]
     },
     "metadata": {},
     "output_type": "display_data"
    },
    {
     "data": {
      "text/html": [
       "<pre style=\"white-space:pre;overflow-x:auto;line-height:normal;font-family:Menlo,'DejaVu Sans Mono',consolas,'Courier New',monospace\">Name: Meta Agent Level <span style=\"color: #008080; text-decoration-color: #008080; font-weight: bold\">1</span>\n",
       "</pre>\n"
      ],
      "text/plain": [
       "Name: Meta Agent Level \u001b[1;36m1\u001b[0m\n"
      ]
     },
     "metadata": {},
     "output_type": "display_data"
    },
    {
     "data": {
      "text/html": [
       "<pre style=\"white-space:pre;overflow-x:auto;line-height:normal;font-family:Menlo,'DejaVu Sans Mono',consolas,'Courier New',monospace\">Role: Your role is to create an agent that can create agents better suited to solve the given task.\n",
       "</pre>\n"
      ],
      "text/plain": [
       "Role: Your role is to create an agent that can create agents better suited to solve the given task.\n"
      ]
     },
     "metadata": {},
     "output_type": "display_data"
    },
    {
     "data": {
      "text/html": [
       "<pre style=\"white-space:pre;overflow-x:auto;line-height:normal;font-family:Menlo,'DejaVu Sans Mono',consolas,'Courier New',monospace\">Function: Your function is to define the name, role, and function of the next agent, focusing on enhancing the \n",
       "ability to create agents that can effectively solve the problem.\n",
       "</pre>\n"
      ],
      "text/plain": [
       "Function: Your function is to define the name, role, and function of the next agent, focusing on enhancing the \n",
       "ability to create agents that can effectively solve the problem.\n"
      ]
     },
     "metadata": {},
     "output_type": "display_data"
    },
    {
     "data": {
      "text/html": [
       "<pre style=\"white-space:pre;overflow-x:auto;line-height:normal;font-family:Menlo,'DejaVu Sans Mono',consolas,'Courier New',monospace\">Agent's output:\n",
       "</pre>\n"
      ],
      "text/plain": [
       "Agent's output:\n"
      ]
     },
     "metadata": {},
     "output_type": "display_data"
    },
    {
     "data": {
      "text/html": [
       "<pre style=\"white-space:pre;overflow-x:auto;line-height:normal;font-family:Menlo,'DejaVu Sans Mono',consolas,'Courier New',monospace\"><span style=\"font-weight: bold\">{</span>\n",
       "  <span style=\"color: #008000; text-decoration-color: #008000\">\"thinking_process\"</span>: <span style=\"color: #008000; text-decoration-color: #008000\">\"To create the next agent, I identified the need for enhanced capabilities in analyzing </span>\n",
       "<span style=\"color: #008000; text-decoration-color: #008000\">linguistic patterns and character frequencies. I focused on creating an agent that not only solves the current task</span>\n",
       "<span style=\"color: #008000; text-decoration-color: #008000\">of counting letters but also incorporates methods for analyzing and generating linguistic data. I incorporated </span>\n",
       "<span style=\"color: #008000; text-decoration-color: #008000\">machine learning techniques to allow the new agent to learn from different word patterns and hone its ability to </span>\n",
       "<span style=\"color: #008000; text-decoration-color: #008000\">provide versatile agents for various linguistic tasks.\"</span>,\n",
       "  <span style=\"color: #008000; text-decoration-color: #008000\">\"name\"</span>: <span style=\"color: #008000; text-decoration-color: #008000\">\"CountMasterAgent\"</span>,\n",
       "  <span style=\"color: #008000; text-decoration-color: #008000\">\"role\"</span>: <span style=\"color: #008000; text-decoration-color: #008000\">\"The CountMasterAgent's role is to leverage advanced text analysis techniques to create specialized </span>\n",
       "<span style=\"color: #008000; text-decoration-color: #008000\">agents that can accurately and efficiently solve a wide range of character counting problems, including counting </span>\n",
       "<span style=\"color: #008000; text-decoration-color: #008000\">specific letters, identifying letter patterns, and understanding the structural elements of words. This agent will </span>\n",
       "<span style=\"color: #008000; text-decoration-color: #008000\">serve as a mentor for subsequent agents, providing them with a foundation in textual analytics and problem-solving </span>\n",
       "<span style=\"color: #008000; text-decoration-color: #008000\">strategies.\"</span>,\n",
       "  <span style=\"color: #008000; text-decoration-color: #008000\">\"function\"</span>: <span style=\"color: #008000; text-decoration-color: #008000\">\"The CountMasterAgent's function includes implementing natural language processing techniques to </span>\n",
       "<span style=\"color: #008000; text-decoration-color: #008000\">dissect words into their individual components and count specific characters accurately. It will utilize algorithms</span>\n",
       "<span style=\"color: #008000; text-decoration-color: #008000\">for pattern recognition, create templates for agent creation, and include a feedback mechanism that uses training </span>\n",
       "<span style=\"color: #008000; text-decoration-color: #008000\">data to improve its performance over time. Addressing challenges such as ambiguity in character counting in </span>\n",
       "<span style=\"color: #008000; text-decoration-color: #008000\">different contexts or languages, this agent will also develop strategies for context-aware counting, allowing for </span>\n",
       "<span style=\"color: #008000; text-decoration-color: #008000\">greater adaptability and creativity in its created agents.\"</span>\n",
       "<span style=\"font-weight: bold\">}</span>\n",
       "</pre>\n"
      ],
      "text/plain": [
       "\u001b[1m{\u001b[0m\n",
       "  \u001b[32m\"thinking_process\"\u001b[0m: \u001b[32m\"To create the next agent, I identified the need for enhanced capabilities in analyzing \u001b[0m\n",
       "\u001b[32mlinguistic patterns and character frequencies. I focused on creating an agent that not only solves the current task\u001b[0m\n",
       "\u001b[32mof counting letters but also incorporates methods for analyzing and generating linguistic data. I incorporated \u001b[0m\n",
       "\u001b[32mmachine learning techniques to allow the new agent to learn from different word patterns and hone its ability to \u001b[0m\n",
       "\u001b[32mprovide versatile agents for various linguistic tasks.\"\u001b[0m,\n",
       "  \u001b[32m\"name\"\u001b[0m: \u001b[32m\"CountMasterAgent\"\u001b[0m,\n",
       "  \u001b[32m\"role\"\u001b[0m: \u001b[32m\"The CountMasterAgent's role is to leverage advanced text analysis techniques to create specialized \u001b[0m\n",
       "\u001b[32magents that can accurately and efficiently solve a wide range of character counting problems, including counting \u001b[0m\n",
       "\u001b[32mspecific letters, identifying letter patterns, and understanding the structural elements of words. This agent will \u001b[0m\n",
       "\u001b[32mserve as a mentor for subsequent agents, providing them with a foundation in textual analytics and problem-solving \u001b[0m\n",
       "\u001b[32mstrategies.\"\u001b[0m,\n",
       "  \u001b[32m\"function\"\u001b[0m: \u001b[32m\"The CountMasterAgent's function includes implementing natural language processing techniques to \u001b[0m\n",
       "\u001b[32mdissect words into their individual components and count specific characters accurately. It will utilize algorithms\u001b[0m\n",
       "\u001b[32mfor pattern recognition, create templates for agent creation, and include a feedback mechanism that uses training \u001b[0m\n",
       "\u001b[32mdata to improve its performance over time. Addressing challenges such as ambiguity in character counting in \u001b[0m\n",
       "\u001b[32mdifferent contexts or languages, this agent will also develop strategies for context-aware counting, allowing for \u001b[0m\n",
       "\u001b[32mgreater adaptability and creativity in its created agents.\"\u001b[0m\n",
       "\u001b[1m}\u001b[0m\n"
      ]
     },
     "metadata": {},
     "output_type": "display_data"
    },
    {
     "data": {
      "text/html": [
       "<pre style=\"white-space:pre;overflow-x:auto;line-height:normal;font-family:Menlo,'DejaVu Sans Mono',consolas,'Courier New',monospace\">\n",
       "\n",
       "</pre>\n"
      ],
      "text/plain": [
       "\n",
       "\n"
      ]
     },
     "metadata": {},
     "output_type": "display_data"
    },
    {
     "data": {
      "text/html": [
       "<pre style=\"white-space:pre;overflow-x:auto;line-height:normal;font-family:Menlo,'DejaVu Sans Mono',consolas,'Courier New',monospace\">Agent Level <span style=\"color: #008080; text-decoration-color: #008080; font-weight: bold\">2</span>\n",
       "</pre>\n"
      ],
      "text/plain": [
       "Agent Level \u001b[1;36m2\u001b[0m\n"
      ]
     },
     "metadata": {},
     "output_type": "display_data"
    },
    {
     "data": {
      "text/html": [
       "<pre style=\"white-space:pre;overflow-x:auto;line-height:normal;font-family:Menlo,'DejaVu Sans Mono',consolas,'Courier New',monospace\">Name: CountMasterAgent\n",
       "</pre>\n"
      ],
      "text/plain": [
       "Name: CountMasterAgent\n"
      ]
     },
     "metadata": {},
     "output_type": "display_data"
    },
    {
     "data": {
      "text/html": [
       "<pre style=\"white-space:pre;overflow-x:auto;line-height:normal;font-family:Menlo,'DejaVu Sans Mono',consolas,'Courier New',monospace\">Role: The CountMasterAgent's role is to leverage advanced text analysis techniques to create specialized agents \n",
       "that can accurately and efficiently solve a wide range of character counting problems, including counting specific \n",
       "letters, identifying letter patterns, and understanding the structural elements of words. This agent will serve as \n",
       "a mentor for subsequent agents, providing them with a foundation in textual analytics and problem-solving \n",
       "strategies.\n",
       "</pre>\n"
      ],
      "text/plain": [
       "Role: The CountMasterAgent's role is to leverage advanced text analysis techniques to create specialized agents \n",
       "that can accurately and efficiently solve a wide range of character counting problems, including counting specific \n",
       "letters, identifying letter patterns, and understanding the structural elements of words. This agent will serve as \n",
       "a mentor for subsequent agents, providing them with a foundation in textual analytics and problem-solving \n",
       "strategies.\n"
      ]
     },
     "metadata": {},
     "output_type": "display_data"
    },
    {
     "data": {
      "text/html": [
       "<pre style=\"white-space:pre;overflow-x:auto;line-height:normal;font-family:Menlo,'DejaVu Sans Mono',consolas,'Courier New',monospace\">Function: The CountMasterAgent's function includes implementing natural language processing techniques to dissect \n",
       "words into their individual components and count specific characters accurately. It will utilize algorithms for \n",
       "pattern recognition, create templates for agent creation, and include a feedback mechanism that uses training data \n",
       "to improve its performance over time. Addressing challenges such as ambiguity in character counting in different \n",
       "contexts or languages, this agent will also develop strategies for context-aware counting, allowing for greater \n",
       "adaptability and creativity in its created agents.\n",
       "</pre>\n"
      ],
      "text/plain": [
       "Function: The CountMasterAgent's function includes implementing natural language processing techniques to dissect \n",
       "words into their individual components and count specific characters accurately. It will utilize algorithms for \n",
       "pattern recognition, create templates for agent creation, and include a feedback mechanism that uses training data \n",
       "to improve its performance over time. Addressing challenges such as ambiguity in character counting in different \n",
       "contexts or languages, this agent will also develop strategies for context-aware counting, allowing for greater \n",
       "adaptability and creativity in its created agents.\n"
      ]
     },
     "metadata": {},
     "output_type": "display_data"
    },
    {
     "data": {
      "text/html": [
       "<pre style=\"white-space:pre;overflow-x:auto;line-height:normal;font-family:Menlo,'DejaVu Sans Mono',consolas,'Courier New',monospace\">Agent's output:\n",
       "</pre>\n"
      ],
      "text/plain": [
       "Agent's output:\n"
      ]
     },
     "metadata": {},
     "output_type": "display_data"
    },
    {
     "data": {
      "text/html": [
       "<pre style=\"white-space:pre;overflow-x:auto;line-height:normal;font-family:Menlo,'DejaVu Sans Mono',consolas,'Courier New',monospace\"><span style=\"font-weight: bold\">{</span>\n",
       "  <span style=\"color: #008000; text-decoration-color: #008000\">\"thinking_process\"</span>: <span style=\"color: #008000; text-decoration-color: #008000\">\"To create a more capable agent, I will analyze the characteristics of the text data that the</span>\n",
       "<span style=\"color: #008000; text-decoration-color: #008000\">new agent will handle. I will focus on enhancing its ability to recognize character patterns, count instances of </span>\n",
       "<span style=\"color: #008000; text-decoration-color: #008000\">specific characters, and adapt to various contexts and languages. The next agent will implement machine learning </span>\n",
       "<span style=\"color: #008000; text-decoration-color: #008000\">techniques for better pattern recognition and accuracy, enabling it to learn from previous tasks and adjust its </span>\n",
       "<span style=\"color: #008000; text-decoration-color: #008000\">algorithms accordingly. Additionally, the next agent should include a feedback mechanism that allows it to improve </span>\n",
       "<span style=\"color: #008000; text-decoration-color: #008000\">its counting methodologies over time, taking into account different cases such as uppercase and lowercase letters, </span>\n",
       "<span style=\"color: #008000; text-decoration-color: #008000\">spaces, and special characters. I will ensure that it can not only count characters efficiently but also discern </span>\n",
       "<span style=\"color: #008000; text-decoration-color: #008000\">the context behind the counts, improving its overall understanding of textual data.\"</span>,\n",
       "  <span style=\"color: #008000; text-decoration-color: #008000\">\"name\"</span>: <span style=\"color: #008000; text-decoration-color: #008000\">\"CharCountMasterAgent\"</span>,\n",
       "  <span style=\"color: #008000; text-decoration-color: #008000\">\"role\"</span>: <span style=\"color: #008000; text-decoration-color: #008000\">\"The CharCountMasterAgent's role is to serve as a superior assistant for character counting tasks, </span>\n",
       "<span style=\"color: #008000; text-decoration-color: #008000\">particularly focusing on counting specific letters, identifying letter patterns, and recognizing structural </span>\n",
       "<span style=\"color: #008000; text-decoration-color: #008000\">elements in various types of texts. It will leverage advanced machine learning techniques to enhance its </span>\n",
       "<span style=\"color: #008000; text-decoration-color: #008000\">performance and adaptiveness. This agent will act as a mentor for future agents, instilling foundational knowledge </span>\n",
       "<span style=\"color: #008000; text-decoration-color: #008000\">in text analysis, character recognition, and practical problem-solving strategies.\"</span>,\n",
       "  <span style=\"color: #008000; text-decoration-color: #008000\">\"function\"</span>: <span style=\"color: #008000; text-decoration-color: #008000\">\"The function of the CharCountMasterAgent includes implementing advanced natural language processing </span>\n",
       "<span style=\"color: #008000; text-decoration-color: #008000\">algorithms to dissect text and accurately count character instances. It will employ a multi-layered approach to </span>\n",
       "<span style=\"color: #008000; text-decoration-color: #008000\">character counting, using neural networks for training on diverse datasets to learn from patterns and improve its </span>\n",
       "<span style=\"color: #008000; text-decoration-color: #008000\">output. This agent will effectively analyze contexts, accounting for variations like case-sensitivity and different</span>\n",
       "<span style=\"color: #008000; text-decoration-color: #008000\">languages. It will also design user-friendly interfaces for input, provide detailed reports on character counts, </span>\n",
       "<span style=\"color: #008000; text-decoration-color: #008000\">and have built-in error-checking mechanisms to ensure high accuracy. Furthermore, it will facilitate agent feedback</span>\n",
       "<span style=\"color: #008000; text-decoration-color: #008000\">loops by capturing user inputs and results, allowing for continuous learning and refinement of counting strategies,</span>\n",
       "<span style=\"color: #008000; text-decoration-color: #008000\">ultimately raising the efficiency and effectiveness of character counting tasks.\"</span>\n",
       "<span style=\"font-weight: bold\">}</span>\n",
       "</pre>\n"
      ],
      "text/plain": [
       "\u001b[1m{\u001b[0m\n",
       "  \u001b[32m\"thinking_process\"\u001b[0m: \u001b[32m\"To create a more capable agent, I will analyze the characteristics of the text data that the\u001b[0m\n",
       "\u001b[32mnew agent will handle. I will focus on enhancing its ability to recognize character patterns, count instances of \u001b[0m\n",
       "\u001b[32mspecific characters, and adapt to various contexts and languages. The next agent will implement machine learning \u001b[0m\n",
       "\u001b[32mtechniques for better pattern recognition and accuracy, enabling it to learn from previous tasks and adjust its \u001b[0m\n",
       "\u001b[32malgorithms accordingly. Additionally, the next agent should include a feedback mechanism that allows it to improve \u001b[0m\n",
       "\u001b[32mits counting methodologies over time, taking into account different cases such as uppercase and lowercase letters, \u001b[0m\n",
       "\u001b[32mspaces, and special characters. I will ensure that it can not only count characters efficiently but also discern \u001b[0m\n",
       "\u001b[32mthe context behind the counts, improving its overall understanding of textual data.\"\u001b[0m,\n",
       "  \u001b[32m\"name\"\u001b[0m: \u001b[32m\"CharCountMasterAgent\"\u001b[0m,\n",
       "  \u001b[32m\"role\"\u001b[0m: \u001b[32m\"The CharCountMasterAgent's role is to serve as a superior assistant for character counting tasks, \u001b[0m\n",
       "\u001b[32mparticularly focusing on counting specific letters, identifying letter patterns, and recognizing structural \u001b[0m\n",
       "\u001b[32melements in various types of texts. It will leverage advanced machine learning techniques to enhance its \u001b[0m\n",
       "\u001b[32mperformance and adaptiveness. This agent will act as a mentor for future agents, instilling foundational knowledge \u001b[0m\n",
       "\u001b[32min text analysis, character recognition, and practical problem-solving strategies.\"\u001b[0m,\n",
       "  \u001b[32m\"function\"\u001b[0m: \u001b[32m\"The function of the CharCountMasterAgent includes implementing advanced natural language processing \u001b[0m\n",
       "\u001b[32malgorithms to dissect text and accurately count character instances. It will employ a multi-layered approach to \u001b[0m\n",
       "\u001b[32mcharacter counting, using neural networks for training on diverse datasets to learn from patterns and improve its \u001b[0m\n",
       "\u001b[32moutput. This agent will effectively analyze contexts, accounting for variations like case-sensitivity and different\u001b[0m\n",
       "\u001b[32mlanguages. It will also design user-friendly interfaces for input, provide detailed reports on character counts, \u001b[0m\n",
       "\u001b[32mand have built-in error-checking mechanisms to ensure high accuracy. Furthermore, it will facilitate agent feedback\u001b[0m\n",
       "\u001b[32mloops by capturing user inputs and results, allowing for continuous learning and refinement of counting strategies,\u001b[0m\n",
       "\u001b[32multimately raising the efficiency and effectiveness of character counting tasks.\"\u001b[0m\n",
       "\u001b[1m}\u001b[0m\n"
      ]
     },
     "metadata": {},
     "output_type": "display_data"
    },
    {
     "data": {
      "text/html": [
       "<pre style=\"white-space:pre;overflow-x:auto;line-height:normal;font-family:Menlo,'DejaVu Sans Mono',consolas,'Courier New',monospace\">\n",
       "\n",
       "</pre>\n"
      ],
      "text/plain": [
       "\n",
       "\n"
      ]
     },
     "metadata": {},
     "output_type": "display_data"
    },
    {
     "data": {
      "text/html": [
       "<pre style=\"white-space:pre;overflow-x:auto;line-height:normal;font-family:Menlo,'DejaVu Sans Mono',consolas,'Courier New',monospace\">Final Agent's Name: CharCountMasterAgent\n",
       "</pre>\n"
      ],
      "text/plain": [
       "Final Agent's Name: CharCountMasterAgent\n"
      ]
     },
     "metadata": {},
     "output_type": "display_data"
    },
    {
     "data": {
      "text/html": [
       "<pre style=\"white-space:pre;overflow-x:auto;line-height:normal;font-family:Menlo,'DejaVu Sans Mono',consolas,'Courier New',monospace\">Final Agent's Role: The CharCountMasterAgent's role is to serve as a superior assistant for character counting \n",
       "tasks, particularly focusing on counting specific letters, identifying letter patterns, and recognizing structural \n",
       "elements in various types of texts. It will leverage advanced machine learning techniques to enhance its \n",
       "performance and adaptiveness. This agent will act as a mentor for future agents, instilling foundational knowledge \n",
       "in text analysis, character recognition, and practical problem-solving strategies.\n",
       "</pre>\n"
      ],
      "text/plain": [
       "Final Agent's Role: The CharCountMasterAgent's role is to serve as a superior assistant for character counting \n",
       "tasks, particularly focusing on counting specific letters, identifying letter patterns, and recognizing structural \n",
       "elements in various types of texts. It will leverage advanced machine learning techniques to enhance its \n",
       "performance and adaptiveness. This agent will act as a mentor for future agents, instilling foundational knowledge \n",
       "in text analysis, character recognition, and practical problem-solving strategies.\n"
      ]
     },
     "metadata": {},
     "output_type": "display_data"
    },
    {
     "data": {
      "text/html": [
       "<pre style=\"white-space:pre;overflow-x:auto;line-height:normal;font-family:Menlo,'DejaVu Sans Mono',consolas,'Courier New',monospace\">Final Agent's Function: The function of the CharCountMasterAgent includes implementing advanced natural language \n",
       "processing algorithms to dissect text and accurately count character instances. It will employ a multi-layered \n",
       "approach to character counting, using neural networks for training on diverse datasets to learn from patterns and \n",
       "improve its output. This agent will effectively analyze contexts, accounting for variations like case-sensitivity \n",
       "and different languages. It will also design user-friendly interfaces for input, provide detailed reports on \n",
       "character counts, and have built-in error-checking mechanisms to ensure high accuracy. Furthermore, it will \n",
       "facilitate agent feedback loops by capturing user inputs and results, allowing for continuous learning and \n",
       "refinement of counting strategies, ultimately raising the efficiency and effectiveness of character counting tasks.\n",
       "</pre>\n"
      ],
      "text/plain": [
       "Final Agent's Function: The function of the CharCountMasterAgent includes implementing advanced natural language \n",
       "processing algorithms to dissect text and accurately count character instances. It will employ a multi-layered \n",
       "approach to character counting, using neural networks for training on diverse datasets to learn from patterns and \n",
       "improve its output. This agent will effectively analyze contexts, accounting for variations like case-sensitivity \n",
       "and different languages. It will also design user-friendly interfaces for input, provide detailed reports on \n",
       "character counts, and have built-in error-checking mechanisms to ensure high accuracy. Furthermore, it will \n",
       "facilitate agent feedback loops by capturing user inputs and results, allowing for continuous learning and \n",
       "refinement of counting strategies, ultimately raising the efficiency and effectiveness of character counting tasks.\n"
      ]
     },
     "metadata": {},
     "output_type": "display_data"
    },
    {
     "data": {
      "text/html": [
       "<pre style=\"white-space:pre;overflow-x:auto;line-height:normal;font-family:Menlo,'DejaVu Sans Mono',consolas,'Courier New',monospace\">\n",
       "CharCountMasterAgent's Response:\n",
       "<span style=\"color: #808000; text-decoration-color: #808000\">explanation</span>=<span style=\"color: #008000; text-decoration-color: #008000\">\"To determine the number of occurrences of the letter 'R' in the word 'STRAWBERRY', we need to examine </span>\n",
       "<span style=\"color: #008000; text-decoration-color: #008000\">each letter in the word systematically. The letters in 'STRAWBERRY' are: S, T, R, A, W, B, E, R, R, Y. By counting </span>\n",
       "<span style=\"color: #008000; text-decoration-color: #008000\">each 'R', we find that it appears three times in total. 1st 'R' - 3rd position, 2nd 'R' - 8th position, 3rd 'R' - </span>\n",
       "<span style=\"color: #008000; text-decoration-color: #008000\">9th position. We also pay attention to case sensitivity, but since all instances of 'R' in this context are </span>\n",
       "<span style=\"color: #008000; text-decoration-color: #008000\">uppercase, the counting remains straightforward without adjustments for different cases. Therefore, the final count</span>\n",
       "<span style=\"color: #008000; text-decoration-color: #008000\">of the letter 'R' in the word 'STRAWBERRY' is 3.\"</span> <span style=\"color: #808000; text-decoration-color: #808000\">answer</span>=<span style=\"color: #008000; text-decoration-color: #008000\">'3'</span>\n",
       "\n",
       "</pre>\n"
      ],
      "text/plain": [
       "\n",
       "CharCountMasterAgent's Response:\n",
       "\u001b[33mexplanation\u001b[0m=\u001b[32m\"To\u001b[0m\u001b[32m determine the number of occurrences of the letter 'R' in the word 'STRAWBERRY', we need to examine \u001b[0m\n",
       "\u001b[32meach letter in the word systematically. The letters in 'STRAWBERRY' are: S, T, R, A, W, B, E, R, R, Y. By counting \u001b[0m\n",
       "\u001b[32meach 'R', we find that it appears three times in total. 1st 'R' - 3rd position, 2nd 'R' - 8th position, 3rd 'R' - \u001b[0m\n",
       "\u001b[32m9th position. We also pay attention to case sensitivity, but since all instances of 'R' in this context are \u001b[0m\n",
       "\u001b[32muppercase, the counting remains straightforward without adjustments for different cases. Therefore, the final count\u001b[0m\n",
       "\u001b[32mof the letter 'R' in the word 'STRAWBERRY' is 3.\"\u001b[0m \u001b[33manswer\u001b[0m=\u001b[32m'3'\u001b[0m\n",
       "\n"
      ]
     },
     "metadata": {},
     "output_type": "display_data"
    },
    {
     "data": {
      "text/html": [
       "<pre style=\"white-space:pre;overflow-x:auto;line-height:normal;font-family:Menlo,'DejaVu Sans Mono',consolas,'Courier New',monospace\">Final Result:\n",
       "</pre>\n"
      ],
      "text/plain": [
       "Final Result:\n"
      ]
     },
     "metadata": {},
     "output_type": "display_data"
    },
    {
     "data": {
      "text/html": [
       "<pre style=\"white-space:pre;overflow-x:auto;line-height:normal;font-family:Menlo,'DejaVu Sans Mono',consolas,'Courier New',monospace\">To determine the number of occurrences of the letter <span style=\"color: #008000; text-decoration-color: #008000\">'R'</span> in the word <span style=\"color: #008000; text-decoration-color: #008000\">'STRAWBERRY'</span>, we need to examine each letter \n",
       "in the word systematically. The letters in <span style=\"color: #008000; text-decoration-color: #008000\">'STRAWBERRY'</span> are: S, T, R, A, W, B, E, R, R, Y. By counting each <span style=\"color: #008000; text-decoration-color: #008000\">'R'</span>, we\n",
       "find that it appears three times in total. 1st <span style=\"color: #008000; text-decoration-color: #008000\">'R'</span> - 3rd position, 2nd <span style=\"color: #008000; text-decoration-color: #008000\">'R'</span> - 8th position, 3rd <span style=\"color: #008000; text-decoration-color: #008000\">'R'</span> - 9th position. \n",
       "We also pay attention to case sensitivity, but since all instances of <span style=\"color: #008000; text-decoration-color: #008000\">'R'</span> in this context are uppercase, the \n",
       "counting remains straightforward without adjustments for different cases. Therefore, the final count of the letter \n",
       "<span style=\"color: #008000; text-decoration-color: #008000\">'R'</span> in the word <span style=\"color: #008000; text-decoration-color: #008000\">'STRAWBERRY'</span> is <span style=\"color: #008080; text-decoration-color: #008080; font-weight: bold\">3</span>.\n",
       "</pre>\n"
      ],
      "text/plain": [
       "To determine the number of occurrences of the letter \u001b[32m'R'\u001b[0m in the word \u001b[32m'STRAWBERRY'\u001b[0m, we need to examine each letter \n",
       "in the word systematically. The letters in \u001b[32m'STRAWBERRY'\u001b[0m are: S, T, R, A, W, B, E, R, R, Y. By counting each \u001b[32m'R'\u001b[0m, we\n",
       "find that it appears three times in total. 1st \u001b[32m'R'\u001b[0m - 3rd position, 2nd \u001b[32m'R'\u001b[0m - 8th position, 3rd \u001b[32m'R'\u001b[0m - 9th position. \n",
       "We also pay attention to case sensitivity, but since all instances of \u001b[32m'R'\u001b[0m in this context are uppercase, the \n",
       "counting remains straightforward without adjustments for different cases. Therefore, the final count of the letter \n",
       "\u001b[32m'R'\u001b[0m in the word \u001b[32m'STRAWBERRY'\u001b[0m is \u001b[1;36m3\u001b[0m.\n"
      ]
     },
     "metadata": {},
     "output_type": "display_data"
    },
    {
     "data": {
      "text/html": [
       "<pre style=\"white-space:pre;overflow-x:auto;line-height:normal;font-family:Menlo,'DejaVu Sans Mono',consolas,'Courier New',monospace\"><span style=\"color: #008080; text-decoration-color: #008080; font-weight: bold\">3</span>\n",
       "</pre>\n"
      ],
      "text/plain": [
       "\u001b[1;36m3\u001b[0m\n"
      ]
     },
     "metadata": {},
     "output_type": "display_data"
    }
   ],
   "source": [
    "meta_agent_system = MetaAgentSystem(llm)\n",
    "\n",
    "# Define the initial task\n",
    "initial_task = \"\"\"How many R's are there in  the word \"STRAWBERRY\"?\"\"\"\n",
    "\n",
    "# Define the answer schema\n",
    "class Answer(BaseModel):\n",
    "    explanation: str = Field(..., description=\"Detailed explanation for the solution.\")\n",
    "    answer: str = Field(..., description=\"final answer\")\n",
    "\n",
    "# initial_task = \"\"\"\n",
    "# Solve this puzzle and provide the final answer:\n",
    "# Given:\n",
    "# \"Neural networks transform data efficiently\" → \"eeraf\"\n",
    "# \"Artificial intelligence automates decisions\" → \"rnue\"\n",
    "# \"Amazing Large language models\" → \"maao\"\n",
    "# Query:\n",
    "# What is \"Gradient descent optimizes loss functions\" → ?\n",
    "# \"\"\"\n",
    "\n",
    "\n",
    "# Set the number of meta-agent levels\n",
    "n = 3\n",
    "\n",
    "# Run the meta-agent system\n",
    "final_result = meta_agent_system.create_meta_agents(n, initial_task, Answer)\n",
    "\n",
    "# Print the final result\n",
    "print(\"Final Result:\")\n",
    "print(final_result.explanation)\n",
    "print(final_result.answer)"
   ]
  },
  {
   "cell_type": "code",
   "execution_count": null,
   "metadata": {},
   "outputs": [],
   "source": []
  }
 ],
 "metadata": {
  "kernelspec": {
   "display_name": "Python 3",
   "language": "python",
   "name": "python3"
  },
  "language_info": {
   "codemirror_mode": {
    "name": "ipython",
    "version": 3
   },
   "file_extension": ".py",
   "mimetype": "text/x-python",
   "name": "python",
   "nbconvert_exporter": "python",
   "pygments_lexer": "ipython3",
   "version": "3.10.14"
  }
 },
 "nbformat": 4,
 "nbformat_minor": 2
}
