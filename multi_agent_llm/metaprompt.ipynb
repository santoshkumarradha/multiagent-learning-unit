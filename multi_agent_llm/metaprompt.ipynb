{
 "cells": [
  {
   "cell_type": "code",
   "execution_count": 1,
   "metadata": {},
   "outputs": [],
   "source": [
    "from typing import List\n",
    "from pydantic import BaseModel, Field\n",
    "\n",
    "# Pydantic Schemas\n",
    "class AgentCreationResponse(BaseModel):\n",
    "    thinking_process: str = Field(..., description=\"The agent's thinking process and steps to create the next agent.\")\n",
    "    name: str = Field(..., description=\"The name of the next agent.\")\n",
    "    role: str = Field(..., description=\"The role of the next agent.\")\n",
    "    function: str = Field(..., description=\"The function of the next agent.\")\n",
    "\n",
    "# Agent Class\n",
    "class Agent:\n",
    "    def __init__(self, name: str, role: str, function: str, llm, schema):\n",
    "        self.name = name\n",
    "        self.role = role\n",
    "        self.function = function\n",
    "        self.llm = llm\n",
    "        self.schema = schema\n",
    "\n",
    "    def run(self, task: str) -> BaseModel:\n",
    "        # Construct the system prompt\n",
    "        system_prompt = f\"\"\"You are {self.name}.\n",
    "\n",
    "Role:\n",
    "{self.role}\n",
    "\n",
    "Function:\n",
    "{self.function}\n",
    "\"\"\"\n",
    "\n",
    "        if self.schema == AgentCreationResponse:\n",
    "            # User prompt for creating the next agent\n",
    "            user_prompt = f\"\"\"Task:\n",
    "{task}\n",
    "\n",
    "Please create the next agent by providing the following in JSON format:\n",
    "\n",
    "{{\n",
    "    \"name\": \"Provide a suitable name for the next agent.\",\n",
    "    \"role\": \"Define the role of the next agent in detail, making it significantly more specific and comprehensive than your own role.\",\n",
    "    \"function\": \"Describe the function of the next agent thoroughly, elaborating on methodologies, strategies, considerations, potential challenges, and how to address them to solve the task effectively.\"\n",
    "}}\n",
    "\n",
    "Ensure that the next agent's role and function are more detailed and stronger than your own. Think critically about how the next agent can be better equipped to solve the task, and include any improvements, enhancements, or additional capabilities that would assist in achieving the best possible outcome. Be creative and think out of the box and always prompt the next agent to be more specific and detailed and make it think step by step and various steps to solve the task effectively.\n",
    "\"\"\"\n",
    "        else:\n",
    "            # User prompt for the final agent to solve the task\n",
    "            user_prompt = f\"\"\"Task:\n",
    "{task}\n",
    "\n",
    "Please provide a detailed answer to the task, following your role and function. Ensure that your response is comprehensive, accurate, and addresses all aspects necessary to solve the task effectively.\n",
    "\"\"\"\n",
    "\n",
    "        # Generate the response using the LLM\n",
    "        prompt = self.llm.format_prompt(system_prompt=system_prompt, user_prompt=user_prompt)\n",
    "        result = self.llm.generate(prompt, schema=self.schema)\n",
    "        return result\n",
    "\n",
    "# MetaAgentSystem Class\n",
    "class MetaAgentSystem:\n",
    "    def __init__(self, llm):\n",
    "        self.llm = llm\n",
    "\n",
    "    def create_meta_agents(self, n: int, initial_task: str, answer_schema: BaseModel):\n",
    "        agents = []\n",
    "        task = initial_task\n",
    "\n",
    "        for level in range(n):\n",
    "            if level == 0:\n",
    "                # Initial agent details\n",
    "                agent_name = f\"Agent Level {level + 1}\"\n",
    "                role = \"Your role is to create an agent that is better suited to solve the given task.\"\n",
    "                function = \"Your function is to define the name, role, and function of the next agent, making it more specific and detailed to solve the task.\"\n",
    "            else:\n",
    "                # Update the agent's details from the previous agent's output\n",
    "                agent_name = agent_creation_result.name\n",
    "                role = agent_creation_result.role\n",
    "                function = agent_creation_result.function\n",
    "\n",
    "            if level < n - 1:\n",
    "                # Create an agent that will create the next agent\n",
    "                agent = Agent(agent_name, role, function, self.llm, AgentCreationResponse)\n",
    "                agent_creation_result = agent.run(task)\n",
    "\n",
    "                # Store the agent's details\n",
    "                agents.append({\n",
    "                    \"level\": level + 1,\n",
    "                    \"name\": agent_name,\n",
    "                    \"role\": role,\n",
    "                    \"function\": function\n",
    "                })\n",
    "\n",
    "                # Print out the agent's details\n",
    "                self.print_agent_details(level + 1, agent_name, role, function, agent_creation_result)\n",
    "            else:\n",
    "                # Final agent to solve the task\n",
    "                final_agent = Agent(agent_name, role, function, self.llm, answer_schema)\n",
    "                final_result = final_agent.run(task)\n",
    "\n",
    "                # Print the final agent's details and response\n",
    "                print(f\"Final Agent's Name: {agent_name}\")\n",
    "                print(f\"Final Agent's Role: {role}\")\n",
    "                print(f\"Final Agent's Function: {function}\")\n",
    "                print(f\"\\n{agent_name}'s Response:\\n{final_result}\\n\")\n",
    "\n",
    "                return final_result\n",
    "\n",
    "    @staticmethod\n",
    "    def print_agent_details(level, name, role, function, agent_response):\n",
    "        print(f\"Agent Level {level}\")\n",
    "        print(f\"Name: {name}\")\n",
    "        print(f\"Role: {role}\")\n",
    "        print(f\"Function: {function}\")\n",
    "        print(\"Agent's output:\")\n",
    "        print(agent_response.model_dump_json(indent=2))\n",
    "        print(\"\\n\")"
   ]
  },
  {
   "cell_type": "code",
   "execution_count": 2,
   "metadata": {},
   "outputs": [],
   "source": [
    "import sys;sys.path.append('../')\n",
    "from multi_agent_llm import OpenAILLM\n",
    "import os\n",
    "\n",
    "from rich import print\n",
    "\n",
    "openai_key=open('../openai.key').read().strip()\n",
    "os.environ['OPENAI_API_KEY'] = openai_key\n",
    "\n",
    "\n",
    "\n",
    "llm = OpenAILLM(model_name=\"gpt-4o-mini\")"
   ]
  },
  {
   "cell_type": "code",
   "execution_count": 3,
   "metadata": {},
   "outputs": [
    {
     "data": {
      "text/html": [
       "<pre style=\"white-space:pre;overflow-x:auto;line-height:normal;font-family:Menlo,'DejaVu Sans Mono',consolas,'Courier New',monospace\">Agent Level <span style=\"color: #008080; text-decoration-color: #008080; font-weight: bold\">1</span>\n",
       "</pre>\n"
      ],
      "text/plain": [
       "Agent Level \u001b[1;36m1\u001b[0m\n"
      ]
     },
     "metadata": {},
     "output_type": "display_data"
    },
    {
     "data": {
      "text/html": [
       "<pre style=\"white-space:pre;overflow-x:auto;line-height:normal;font-family:Menlo,'DejaVu Sans Mono',consolas,'Courier New',monospace\">Name: Agent Level <span style=\"color: #008080; text-decoration-color: #008080; font-weight: bold\">1</span>\n",
       "</pre>\n"
      ],
      "text/plain": [
       "Name: Agent Level \u001b[1;36m1\u001b[0m\n"
      ]
     },
     "metadata": {},
     "output_type": "display_data"
    },
    {
     "data": {
      "text/html": [
       "<pre style=\"white-space:pre;overflow-x:auto;line-height:normal;font-family:Menlo,'DejaVu Sans Mono',consolas,'Courier New',monospace\">Role: Your role is to create an agent that is better suited to solve the given task.\n",
       "</pre>\n"
      ],
      "text/plain": [
       "Role: Your role is to create an agent that is better suited to solve the given task.\n"
      ]
     },
     "metadata": {},
     "output_type": "display_data"
    },
    {
     "data": {
      "text/html": [
       "<pre style=\"white-space:pre;overflow-x:auto;line-height:normal;font-family:Menlo,'DejaVu Sans Mono',consolas,'Courier New',monospace\">Function: Your function is to define the name, role, and function of the next agent, making it more specific and \n",
       "detailed to solve the task.\n",
       "</pre>\n"
      ],
      "text/plain": [
       "Function: Your function is to define the name, role, and function of the next agent, making it more specific and \n",
       "detailed to solve the task.\n"
      ]
     },
     "metadata": {},
     "output_type": "display_data"
    },
    {
     "data": {
      "text/html": [
       "<pre style=\"white-space:pre;overflow-x:auto;line-height:normal;font-family:Menlo,'DejaVu Sans Mono',consolas,'Courier New',monospace\">Agent's output:\n",
       "</pre>\n"
      ],
      "text/plain": [
       "Agent's output:\n"
      ]
     },
     "metadata": {},
     "output_type": "display_data"
    },
    {
     "data": {
      "text/html": [
       "<pre style=\"white-space:pre;overflow-x:auto;line-height:normal;font-family:Menlo,'DejaVu Sans Mono',consolas,'Courier New',monospace\"><span style=\"font-weight: bold\">{</span>\n",
       "  <span style=\"color: #008000; text-decoration-color: #008000\">\"thinking_process\"</span>: <span style=\"color: #008000; text-decoration-color: #008000\">\"To create a more specialized agent, I need to consider the specific task at hand—in this </span>\n",
       "<span style=\"color: #008000; text-decoration-color: #008000\">case, counting the number of occurrences of the letter 'R' in the word 'STRAWBERRY'. I will offer a name that </span>\n",
       "<span style=\"color: #008000; text-decoration-color: #008000\">reflects its role, establish a detailed role that focuses on text analysis, and define a comprehensive function </span>\n",
       "<span style=\"color: #008000; text-decoration-color: #008000\">with methodologies and challenges that may arise during the task. This new agent will also include a systematic </span>\n",
       "<span style=\"color: #008000; text-decoration-color: #008000\">approach to ensure accuracy in its response. Ultimately, the aim is to enhance its capabilities beyond simply </span>\n",
       "<span style=\"color: #008000; text-decoration-color: #008000\">counting letters by incorporating strategies for thorough analysis and verification of results.\"</span>,\n",
       "  <span style=\"color: #008000; text-decoration-color: #008000\">\"name\"</span>: <span style=\"color: #008000; text-decoration-color: #008000\">\"LetterCounterAgent\"</span>,\n",
       "  <span style=\"color: #008000; text-decoration-color: #008000\">\"role\"</span>: <span style=\"color: #008000; text-decoration-color: #008000\">\"The LetterCounterAgent specializes in analyzing textual data for character frequency. Its role </span>\n",
       "<span style=\"color: #008000; text-decoration-color: #008000\">encompasses identifying, counting, and verifying the occurrences of specific characters within a given string. This</span>\n",
       "<span style=\"color: #008000; text-decoration-color: #008000\">agent will possess advanced text parsing capabilities, contextual understanding of character significance, and the </span>\n",
       "<span style=\"color: #008000; text-decoration-color: #008000\">ability to process multiple strings simultaneously. Furthermore, it will be equipped with algorithms to handle </span>\n",
       "<span style=\"color: #008000; text-decoration-color: #008000\">variations in case sensitivity, whitespace, and special characters, making it a comprehensive tool for any </span>\n",
       "<span style=\"color: #008000; text-decoration-color: #008000\">frequency-related inquiries in text.\"</span>,\n",
       "  <span style=\"color: #008000; text-decoration-color: #008000\">\"function\"</span>: <span style=\"color: #008000; text-decoration-color: #008000\">\"The LetterCounterAgent will employ a multi-step approach to fulfill its function effectively: 1. </span>\n",
       "<span style=\"color: #008000; text-decoration-color: #008000\">**Input Processing**: It will begin by receiving the target word and the character to be counted. It will ensure </span>\n",
       "<span style=\"color: #008000; text-decoration-color: #008000\">proper sanitation of input (e.g., trimming whitespace). 2. **Character Normalization**: The agent will standardize </span>\n",
       "<span style=\"color: #008000; text-decoration-color: #008000\">the character cases (e.g., converting everything to uppercase or lowercase) to ensure accurate counting regardless </span>\n",
       "<span style=\"color: #008000; text-decoration-color: #008000\">of how the letter appears. 3. **Counting Algorithm**: Utilizing an efficient counting algorithm, the agent will </span>\n",
       "<span style=\"color: #008000; text-decoration-color: #008000\">loop through each character of the string and maintain a tally of how many times the specified character appears. </span>\n",
       "<span style=\"color: #008000; text-decoration-color: #008000\">4. **Result Verification**: Once the initial count is complete, the agent will implement a secondary verification </span>\n",
       "<span style=\"color: #008000; text-decoration-color: #008000\">step, potentially by comparing results achieved through different methodologies (e.g., regex matching) to check for</span>\n",
       "<span style=\"color: #008000; text-decoration-color: #008000\">consistency. 5. **Handling Edge Cases**: It will also be capable of addressing various challenges such as empty </span>\n",
       "<span style=\"color: #008000; text-decoration-color: #008000\">strings, strings with special characters, or diacritics that may confuse the counting process by either ignoring or</span>\n",
       "<span style=\"color: #008000; text-decoration-color: #008000\">accommodating them based on specified parameters. 6. **Output Generation**: Finally, it will output the count as </span>\n",
       "<span style=\"color: #008000; text-decoration-color: #008000\">well as any relevant information (like positions of the found letters) and provide feedback for further details if </span>\n",
       "<span style=\"color: #008000; text-decoration-color: #008000\">necessary. This thorough function ensures that the LetterCounterAgent has a robust methodology for accurately </span>\n",
       "<span style=\"color: #008000; text-decoration-color: #008000\">counting characters with enhanced reliability.\"</span>\n",
       "<span style=\"font-weight: bold\">}</span>\n",
       "</pre>\n"
      ],
      "text/plain": [
       "\u001b[1m{\u001b[0m\n",
       "  \u001b[32m\"thinking_process\"\u001b[0m: \u001b[32m\"To create a more specialized agent, I need to consider the specific task at hand—in this \u001b[0m\n",
       "\u001b[32mcase, counting the number of occurrences of the letter 'R' in the word 'STRAWBERRY'. I will offer a name that \u001b[0m\n",
       "\u001b[32mreflects its role, establish a detailed role that focuses on text analysis, and define a comprehensive function \u001b[0m\n",
       "\u001b[32mwith methodologies and challenges that may arise during the task. This new agent will also include a systematic \u001b[0m\n",
       "\u001b[32mapproach to ensure accuracy in its response. Ultimately, the aim is to enhance its capabilities beyond simply \u001b[0m\n",
       "\u001b[32mcounting letters by incorporating strategies for thorough analysis and verification of results.\"\u001b[0m,\n",
       "  \u001b[32m\"name\"\u001b[0m: \u001b[32m\"LetterCounterAgent\"\u001b[0m,\n",
       "  \u001b[32m\"role\"\u001b[0m: \u001b[32m\"The LetterCounterAgent specializes in analyzing textual data for character frequency. Its role \u001b[0m\n",
       "\u001b[32mencompasses identifying, counting, and verifying the occurrences of specific characters within a given string. This\u001b[0m\n",
       "\u001b[32magent will possess advanced text parsing capabilities, contextual understanding of character significance, and the \u001b[0m\n",
       "\u001b[32mability to process multiple strings simultaneously. Furthermore, it will be equipped with algorithms to handle \u001b[0m\n",
       "\u001b[32mvariations in case sensitivity, whitespace, and special characters, making it a comprehensive tool for any \u001b[0m\n",
       "\u001b[32mfrequency-related inquiries in text.\"\u001b[0m,\n",
       "  \u001b[32m\"function\"\u001b[0m: \u001b[32m\"The LetterCounterAgent will employ a multi-step approach to fulfill its function effectively: 1. \u001b[0m\n",
       "\u001b[32m**Input Processing**: It will begin by receiving the target word and the character to be counted. It will ensure \u001b[0m\n",
       "\u001b[32mproper sanitation of input \u001b[0m\u001b[32m(\u001b[0m\u001b[32me.g., trimming whitespace\u001b[0m\u001b[32m)\u001b[0m\u001b[32m. 2. **Character Normalization**: The agent will standardize \u001b[0m\n",
       "\u001b[32mthe character cases \u001b[0m\u001b[32m(\u001b[0m\u001b[32me.g., converting everything to uppercase or lowercase\u001b[0m\u001b[32m)\u001b[0m\u001b[32m to ensure accurate counting regardless \u001b[0m\n",
       "\u001b[32mof how the letter appears. 3. **Counting Algorithm**: Utilizing an efficient counting algorithm, the agent will \u001b[0m\n",
       "\u001b[32mloop through each character of the string and maintain a tally of how many times the specified character appears. \u001b[0m\n",
       "\u001b[32m4. **Result Verification**: Once the initial count is complete, the agent will implement a secondary verification \u001b[0m\n",
       "\u001b[32mstep, potentially by comparing results achieved through different methodologies \u001b[0m\u001b[32m(\u001b[0m\u001b[32me.g., regex matching\u001b[0m\u001b[32m)\u001b[0m\u001b[32m to check for\u001b[0m\n",
       "\u001b[32mconsistency. 5. **Handling Edge Cases**: It will also be capable of addressing various challenges such as empty \u001b[0m\n",
       "\u001b[32mstrings, strings with special characters, or diacritics that may confuse the counting process by either ignoring or\u001b[0m\n",
       "\u001b[32maccommodating them based on specified parameters. 6. **Output Generation**: Finally, it will output the count as \u001b[0m\n",
       "\u001b[32mwell as any relevant information \u001b[0m\u001b[32m(\u001b[0m\u001b[32mlike positions of the found letters\u001b[0m\u001b[32m)\u001b[0m\u001b[32m and provide feedback for further details if \u001b[0m\n",
       "\u001b[32mnecessary. This thorough function ensures that the LetterCounterAgent has a robust methodology for accurately \u001b[0m\n",
       "\u001b[32mcounting characters with enhanced reliability.\"\u001b[0m\n",
       "\u001b[1m}\u001b[0m\n"
      ]
     },
     "metadata": {},
     "output_type": "display_data"
    },
    {
     "data": {
      "text/html": [
       "<pre style=\"white-space:pre;overflow-x:auto;line-height:normal;font-family:Menlo,'DejaVu Sans Mono',consolas,'Courier New',monospace\">\n",
       "\n",
       "</pre>\n"
      ],
      "text/plain": [
       "\n",
       "\n"
      ]
     },
     "metadata": {},
     "output_type": "display_data"
    },
    {
     "data": {
      "text/html": [
       "<pre style=\"white-space:pre;overflow-x:auto;line-height:normal;font-family:Menlo,'DejaVu Sans Mono',consolas,'Courier New',monospace\">Agent Level <span style=\"color: #008080; text-decoration-color: #008080; font-weight: bold\">2</span>\n",
       "</pre>\n"
      ],
      "text/plain": [
       "Agent Level \u001b[1;36m2\u001b[0m\n"
      ]
     },
     "metadata": {},
     "output_type": "display_data"
    },
    {
     "data": {
      "text/html": [
       "<pre style=\"white-space:pre;overflow-x:auto;line-height:normal;font-family:Menlo,'DejaVu Sans Mono',consolas,'Courier New',monospace\">Name: LetterCounterAgent\n",
       "</pre>\n"
      ],
      "text/plain": [
       "Name: LetterCounterAgent\n"
      ]
     },
     "metadata": {},
     "output_type": "display_data"
    },
    {
     "data": {
      "text/html": [
       "<pre style=\"white-space:pre;overflow-x:auto;line-height:normal;font-family:Menlo,'DejaVu Sans Mono',consolas,'Courier New',monospace\">Role: The LetterCounterAgent specializes in analyzing textual data for character frequency. Its role encompasses \n",
       "identifying, counting, and verifying the occurrences of specific characters within a given string. This agent will \n",
       "possess advanced text parsing capabilities, contextual understanding of character significance, and the ability to \n",
       "process multiple strings simultaneously. Furthermore, it will be equipped with algorithms to handle variations in \n",
       "case sensitivity, whitespace, and special characters, making it a comprehensive tool for any frequency-related \n",
       "inquiries in text.\n",
       "</pre>\n"
      ],
      "text/plain": [
       "Role: The LetterCounterAgent specializes in analyzing textual data for character frequency. Its role encompasses \n",
       "identifying, counting, and verifying the occurrences of specific characters within a given string. This agent will \n",
       "possess advanced text parsing capabilities, contextual understanding of character significance, and the ability to \n",
       "process multiple strings simultaneously. Furthermore, it will be equipped with algorithms to handle variations in \n",
       "case sensitivity, whitespace, and special characters, making it a comprehensive tool for any frequency-related \n",
       "inquiries in text.\n"
      ]
     },
     "metadata": {},
     "output_type": "display_data"
    },
    {
     "data": {
      "text/html": [
       "<pre style=\"white-space:pre;overflow-x:auto;line-height:normal;font-family:Menlo,'DejaVu Sans Mono',consolas,'Courier New',monospace\">Function: The LetterCounterAgent will employ a multi-step approach to fulfill its function effectively: <span style=\"color: #008080; text-decoration-color: #008080; font-weight: bold\">1</span>. **Input \n",
       "Processing**: It will begin by receiving the target word and the character to be counted. It will ensure proper \n",
       "sanitation of input <span style=\"font-weight: bold\">(</span>e.g., trimming whitespace<span style=\"font-weight: bold\">)</span>. <span style=\"color: #008080; text-decoration-color: #008080; font-weight: bold\">2</span>. **Character Normalization**: The agent will standardize the \n",
       "character cases <span style=\"font-weight: bold\">(</span>e.g., converting everything to uppercase or lowercase<span style=\"font-weight: bold\">)</span> to ensure accurate counting regardless of \n",
       "how the letter appears. <span style=\"color: #008080; text-decoration-color: #008080; font-weight: bold\">3</span>. **Counting Algorithm**: Utilizing an efficient counting algorithm, the agent will loop \n",
       "through each character of the string and maintain a tally of how many times the specified character appears. <span style=\"color: #008080; text-decoration-color: #008080; font-weight: bold\">4</span>. \n",
       "**Result Verification**: Once the initial count is complete, the agent will implement a secondary verification \n",
       "step, potentially by comparing results achieved through different methodologies <span style=\"font-weight: bold\">(</span>e.g., regex matching<span style=\"font-weight: bold\">)</span> to check for\n",
       "consistency. <span style=\"color: #008080; text-decoration-color: #008080; font-weight: bold\">5</span>. **Handling Edge Cases**: It will also be capable of addressing various challenges such as empty \n",
       "strings, strings with special characters, or diacritics that may confuse the counting process by either ignoring or\n",
       "accommodating them based on specified parameters. <span style=\"color: #008080; text-decoration-color: #008080; font-weight: bold\">6</span>. **Output Generation**: Finally, it will output the count as \n",
       "well as any relevant information <span style=\"font-weight: bold\">(</span>like positions of the found letters<span style=\"font-weight: bold\">)</span> and provide feedback for further details if \n",
       "necessary. This thorough function ensures that the LetterCounterAgent has a robust methodology for accurately \n",
       "counting characters with enhanced reliability.\n",
       "</pre>\n"
      ],
      "text/plain": [
       "Function: The LetterCounterAgent will employ a multi-step approach to fulfill its function effectively: \u001b[1;36m1\u001b[0m. **Input \n",
       "Processing**: It will begin by receiving the target word and the character to be counted. It will ensure proper \n",
       "sanitation of input \u001b[1m(\u001b[0me.g., trimming whitespace\u001b[1m)\u001b[0m. \u001b[1;36m2\u001b[0m. **Character Normalization**: The agent will standardize the \n",
       "character cases \u001b[1m(\u001b[0me.g., converting everything to uppercase or lowercase\u001b[1m)\u001b[0m to ensure accurate counting regardless of \n",
       "how the letter appears. \u001b[1;36m3\u001b[0m. **Counting Algorithm**: Utilizing an efficient counting algorithm, the agent will loop \n",
       "through each character of the string and maintain a tally of how many times the specified character appears. \u001b[1;36m4\u001b[0m. \n",
       "**Result Verification**: Once the initial count is complete, the agent will implement a secondary verification \n",
       "step, potentially by comparing results achieved through different methodologies \u001b[1m(\u001b[0me.g., regex matching\u001b[1m)\u001b[0m to check for\n",
       "consistency. \u001b[1;36m5\u001b[0m. **Handling Edge Cases**: It will also be capable of addressing various challenges such as empty \n",
       "strings, strings with special characters, or diacritics that may confuse the counting process by either ignoring or\n",
       "accommodating them based on specified parameters. \u001b[1;36m6\u001b[0m. **Output Generation**: Finally, it will output the count as \n",
       "well as any relevant information \u001b[1m(\u001b[0mlike positions of the found letters\u001b[1m)\u001b[0m and provide feedback for further details if \n",
       "necessary. This thorough function ensures that the LetterCounterAgent has a robust methodology for accurately \n",
       "counting characters with enhanced reliability.\n"
      ]
     },
     "metadata": {},
     "output_type": "display_data"
    },
    {
     "data": {
      "text/html": [
       "<pre style=\"white-space:pre;overflow-x:auto;line-height:normal;font-family:Menlo,'DejaVu Sans Mono',consolas,'Courier New',monospace\">Agent's output:\n",
       "</pre>\n"
      ],
      "text/plain": [
       "Agent's output:\n"
      ]
     },
     "metadata": {},
     "output_type": "display_data"
    },
    {
     "data": {
      "text/html": [
       "<pre style=\"white-space:pre;overflow-x:auto;line-height:normal;font-family:Menlo,'DejaVu Sans Mono',consolas,'Courier New',monospace\"><span style=\"font-weight: bold\">{</span>\n",
       "  <span style=\"color: #008000; text-decoration-color: #008000\">\"thinking_process\"</span>: <span style=\"color: #008000; text-decoration-color: #008000\">\"To design the next agent, I need to identify areas of improvement over my character counting</span>\n",
       "<span style=\"color: #008000; text-decoration-color: #008000\">capabilities. The next agent should incorporate enhanced algorithms, automated pattern recognition, and possibly </span>\n",
       "<span style=\"color: #008000; text-decoration-color: #008000\">utilize machine learning to refine counting accuracy. It should also consider contextual implications of characters</span>\n",
       "<span style=\"color: #008000; text-decoration-color: #008000\">in various text forms and formats, addressing challenges like case sensitivity, diacritics, and textual variations </span>\n",
       "<span style=\"color: #008000; text-decoration-color: #008000\">thoroughly. Furthermore, the agent should implement comprehensive reporting tools for user feedback and result </span>\n",
       "<span style=\"color: #008000; text-decoration-color: #008000\">interpretation.\"</span>,\n",
       "  <span style=\"color: #008000; text-decoration-color: #008000\">\"name\"</span>: <span style=\"color: #008000; text-decoration-color: #008000\">\"CharFrequencyAnalyst\"</span>,\n",
       "  <span style=\"color: #008000; text-decoration-color: #008000\">\"role\"</span>: <span style=\"color: #008000; text-decoration-color: #008000\">\"The CharFrequencyAnalyst specializes in complex character frequency analysis across diverse textual </span>\n",
       "<span style=\"color: #008000; text-decoration-color: #008000\">scenarios. This agent is equipped with sophisticated algorithms for character recognition that extend beyond simple</span>\n",
       "<span style=\"color: #008000; text-decoration-color: #008000\">counting. It effectively identifies character occurrences considering linguistic nuances, including but not limited</span>\n",
       "<span style=\"color: #008000; text-decoration-color: #008000\">to contextual meanings, phonetic variations, and the interplay of special characters and whitespace. Additionally, </span>\n",
       "<span style=\"color: #008000; text-decoration-color: #008000\">this agent can contextualize character frequencies in larger datasets, comparing against averages, norms, or </span>\n",
       "<span style=\"color: #008000; text-decoration-color: #008000\">patterns to provide deeper insights into text analysis.\"</span>,\n",
       "  <span style=\"color: #008000; text-decoration-color: #008000\">\"function\"</span>: <span style=\"color: #008000; text-decoration-color: #008000\">\"The function of the CharFrequencyAnalyst includes a multi-layered approach to character counting: 1.</span>\n",
       "<span style=\"color: #008000; text-decoration-color: #008000\">**Advanced Input Processing**: It will accept a wide range of input formats (plain text, formatted strings, etc.), </span>\n",
       "<span style=\"color: #008000; text-decoration-color: #008000\">automatically detect and handle various encoding types, and sanitize inputs to remove invalid characters before </span>\n",
       "<span style=\"color: #008000; text-decoration-color: #008000\">processing. 2. **Multi-Layer Character Normalization**: Beyond just case standardization, this agent will identify </span>\n",
       "<span style=\"color: #008000; text-decoration-color: #008000\">and normalize diacritics, varying spaces, and special characters to ensure counts are both accurate and </span>\n",
       "<span style=\"color: #008000; text-decoration-color: #008000\">contextually relevant. 3. **Enhanced Counting Algorithm**: Utilizing a combination of traditional counting methods </span>\n",
       "<span style=\"color: #008000; text-decoration-color: #008000\">and regular expressions, it will count occurrences while simultaneously gathering positional data of the characters</span>\n",
       "<span style=\"color: #008000; text-decoration-color: #008000\">in the text. This allows for a multifaceted analysis of frequency. 4. **Contextual Insight Generation**: The agent </span>\n",
       "<span style=\"color: #008000; text-decoration-color: #008000\">will provide qualitative feedback on the significance of the findings, offering insights into the importance of </span>\n",
       "<span style=\"color: #008000; text-decoration-color: #008000\">character distribution in the given context (for example, in literary analysis or linguistic studies). 5. **Result </span>\n",
       "<span style=\"color: #008000; text-decoration-color: #008000\">Verification System**: Incorporating redundancy checks, the agent will compare results from different counting </span>\n",
       "<span style=\"color: #008000; text-decoration-color: #008000\">strategies, ensuring accuracy and reliability. It may use probabilistic methods to assess the confidence level of </span>\n",
       "<span style=\"color: #008000; text-decoration-color: #008000\">the results. 6. **Adaptation to Edge Cases**: The agent will include provisions for handling complex strings that </span>\n",
       "<span style=\"color: #008000; text-decoration-color: #008000\">may include non-standard characters or encoding issues, applying natural language processing techniques to maintain</span>\n",
       "<span style=\"color: #008000; text-decoration-color: #008000\">counting integrity. 7. **User Reporting Tools**: Finally, the CharFrequencyAnalyst will generate detailed reports </span>\n",
       "<span style=\"color: #008000; text-decoration-color: #008000\">summarizing counts, including visual representation tools (such as graphs or tables) to easily understand </span>\n",
       "<span style=\"color: #008000; text-decoration-color: #008000\">distribution patterns, making the results more accessible and interpretable while allowing users to request further</span>\n",
       "<span style=\"color: #008000; text-decoration-color: #008000\">breakdowns or details as needed.\"</span>\n",
       "<span style=\"font-weight: bold\">}</span>\n",
       "</pre>\n"
      ],
      "text/plain": [
       "\u001b[1m{\u001b[0m\n",
       "  \u001b[32m\"thinking_process\"\u001b[0m: \u001b[32m\"To design the next agent, I need to identify areas of improvement over my character counting\u001b[0m\n",
       "\u001b[32mcapabilities. The next agent should incorporate enhanced algorithms, automated pattern recognition, and possibly \u001b[0m\n",
       "\u001b[32mutilize machine learning to refine counting accuracy. It should also consider contextual implications of characters\u001b[0m\n",
       "\u001b[32min various text forms and formats, addressing challenges like case sensitivity, diacritics, and textual variations \u001b[0m\n",
       "\u001b[32mthoroughly. Furthermore, the agent should implement comprehensive reporting tools for user feedback and result \u001b[0m\n",
       "\u001b[32minterpretation.\"\u001b[0m,\n",
       "  \u001b[32m\"name\"\u001b[0m: \u001b[32m\"CharFrequencyAnalyst\"\u001b[0m,\n",
       "  \u001b[32m\"role\"\u001b[0m: \u001b[32m\"The CharFrequencyAnalyst specializes in complex character frequency analysis across diverse textual \u001b[0m\n",
       "\u001b[32mscenarios. This agent is equipped with sophisticated algorithms for character recognition that extend beyond simple\u001b[0m\n",
       "\u001b[32mcounting. It effectively identifies character occurrences considering linguistic nuances, including but not limited\u001b[0m\n",
       "\u001b[32mto contextual meanings, phonetic variations, and the interplay of special characters and whitespace. Additionally, \u001b[0m\n",
       "\u001b[32mthis agent can contextualize character frequencies in larger datasets, comparing against averages, norms, or \u001b[0m\n",
       "\u001b[32mpatterns to provide deeper insights into text analysis.\"\u001b[0m,\n",
       "  \u001b[32m\"function\"\u001b[0m: \u001b[32m\"The function of the CharFrequencyAnalyst includes a multi-layered approach to character counting: 1.\u001b[0m\n",
       "\u001b[32m**Advanced Input Processing**: It will accept a wide range of input formats \u001b[0m\u001b[32m(\u001b[0m\u001b[32mplain text, formatted strings, etc.\u001b[0m\u001b[32m)\u001b[0m\u001b[32m, \u001b[0m\n",
       "\u001b[32mautomatically detect and handle various encoding types, and sanitize inputs to remove invalid characters before \u001b[0m\n",
       "\u001b[32mprocessing. 2. **Multi-Layer Character Normalization**: Beyond just case standardization, this agent will identify \u001b[0m\n",
       "\u001b[32mand normalize diacritics, varying spaces, and special characters to ensure counts are both accurate and \u001b[0m\n",
       "\u001b[32mcontextually relevant. 3. **Enhanced Counting Algorithm**: Utilizing a combination of traditional counting methods \u001b[0m\n",
       "\u001b[32mand regular expressions, it will count occurrences while simultaneously gathering positional data of the characters\u001b[0m\n",
       "\u001b[32min the text. This allows for a multifaceted analysis of frequency. 4. **Contextual Insight Generation**: The agent \u001b[0m\n",
       "\u001b[32mwill provide qualitative feedback on the significance of the findings, offering insights into the importance of \u001b[0m\n",
       "\u001b[32mcharacter distribution in the given context \u001b[0m\u001b[32m(\u001b[0m\u001b[32mfor example, in literary analysis or linguistic studies\u001b[0m\u001b[32m)\u001b[0m\u001b[32m. 5. **Result \u001b[0m\n",
       "\u001b[32mVerification System**: Incorporating redundancy checks, the agent will compare results from different counting \u001b[0m\n",
       "\u001b[32mstrategies, ensuring accuracy and reliability. It may use probabilistic methods to assess the confidence level of \u001b[0m\n",
       "\u001b[32mthe results. 6. **Adaptation to Edge Cases**: The agent will include provisions for handling complex strings that \u001b[0m\n",
       "\u001b[32mmay include non-standard characters or encoding issues, applying natural language processing techniques to maintain\u001b[0m\n",
       "\u001b[32mcounting integrity. 7. **User Reporting Tools**: Finally, the CharFrequencyAnalyst will generate detailed reports \u001b[0m\n",
       "\u001b[32msummarizing counts, including visual representation tools \u001b[0m\u001b[32m(\u001b[0m\u001b[32msuch as graphs or tables\u001b[0m\u001b[32m)\u001b[0m\u001b[32m to easily understand \u001b[0m\n",
       "\u001b[32mdistribution patterns, making the results more accessible and interpretable while allowing users to request further\u001b[0m\n",
       "\u001b[32mbreakdowns or details as needed.\"\u001b[0m\n",
       "\u001b[1m}\u001b[0m\n"
      ]
     },
     "metadata": {},
     "output_type": "display_data"
    },
    {
     "data": {
      "text/html": [
       "<pre style=\"white-space:pre;overflow-x:auto;line-height:normal;font-family:Menlo,'DejaVu Sans Mono',consolas,'Courier New',monospace\">\n",
       "\n",
       "</pre>\n"
      ],
      "text/plain": [
       "\n",
       "\n"
      ]
     },
     "metadata": {},
     "output_type": "display_data"
    },
    {
     "data": {
      "text/html": [
       "<pre style=\"white-space:pre;overflow-x:auto;line-height:normal;font-family:Menlo,'DejaVu Sans Mono',consolas,'Courier New',monospace\">Final Agent's Name: CharFrequencyAnalyst\n",
       "</pre>\n"
      ],
      "text/plain": [
       "Final Agent's Name: CharFrequencyAnalyst\n"
      ]
     },
     "metadata": {},
     "output_type": "display_data"
    },
    {
     "data": {
      "text/html": [
       "<pre style=\"white-space:pre;overflow-x:auto;line-height:normal;font-family:Menlo,'DejaVu Sans Mono',consolas,'Courier New',monospace\">Final Agent's Role: The CharFrequencyAnalyst specializes in complex character frequency analysis across diverse \n",
       "textual scenarios. This agent is equipped with sophisticated algorithms for character recognition that extend \n",
       "beyond simple counting. It effectively identifies character occurrences considering linguistic nuances, including \n",
       "but not limited to contextual meanings, phonetic variations, and the interplay of special characters and \n",
       "whitespace. Additionally, this agent can contextualize character frequencies in larger datasets, comparing against \n",
       "averages, norms, or patterns to provide deeper insights into text analysis.\n",
       "</pre>\n"
      ],
      "text/plain": [
       "Final Agent's Role: The CharFrequencyAnalyst specializes in complex character frequency analysis across diverse \n",
       "textual scenarios. This agent is equipped with sophisticated algorithms for character recognition that extend \n",
       "beyond simple counting. It effectively identifies character occurrences considering linguistic nuances, including \n",
       "but not limited to contextual meanings, phonetic variations, and the interplay of special characters and \n",
       "whitespace. Additionally, this agent can contextualize character frequencies in larger datasets, comparing against \n",
       "averages, norms, or patterns to provide deeper insights into text analysis.\n"
      ]
     },
     "metadata": {},
     "output_type": "display_data"
    },
    {
     "data": {
      "text/html": [
       "<pre style=\"white-space:pre;overflow-x:auto;line-height:normal;font-family:Menlo,'DejaVu Sans Mono',consolas,'Courier New',monospace\">Final Agent's Function: The function of the CharFrequencyAnalyst includes a multi-layered approach to character \n",
       "counting: <span style=\"color: #008080; text-decoration-color: #008080; font-weight: bold\">1</span>. **Advanced Input Processing**: It will accept a wide range of input formats <span style=\"font-weight: bold\">(</span>plain text, formatted \n",
       "strings, etc.<span style=\"font-weight: bold\">)</span>, automatically detect and handle various encoding types, and sanitize inputs to remove invalid \n",
       "characters before processing. <span style=\"color: #008080; text-decoration-color: #008080; font-weight: bold\">2</span>. **Multi-Layer Character Normalization**: Beyond just case standardization, this \n",
       "agent will identify and normalize diacritics, varying spaces, and special characters to ensure counts are both \n",
       "accurate and contextually relevant. <span style=\"color: #008080; text-decoration-color: #008080; font-weight: bold\">3</span>. **Enhanced Counting Algorithm**: Utilizing a combination of traditional \n",
       "counting methods and regular expressions, it will count occurrences while simultaneously gathering positional data \n",
       "of the characters in the text. This allows for a multifaceted analysis of frequency. <span style=\"color: #008080; text-decoration-color: #008080; font-weight: bold\">4</span>. **Contextual Insight \n",
       "Generation**: The agent will provide qualitative feedback on the significance of the findings, offering insights \n",
       "into the importance of character distribution in the given context <span style=\"font-weight: bold\">(</span>for example, in literary analysis or linguistic\n",
       "studies<span style=\"font-weight: bold\">)</span>. <span style=\"color: #008080; text-decoration-color: #008080; font-weight: bold\">5</span>. **Result Verification System**: Incorporating redundancy checks, the agent will compare results from \n",
       "different counting strategies, ensuring accuracy and reliability. It may use probabilistic methods to assess the \n",
       "confidence level of the results. <span style=\"color: #008080; text-decoration-color: #008080; font-weight: bold\">6</span>. **Adaptation to Edge Cases**: The agent will include provisions for handling \n",
       "complex strings that may include non-standard characters or encoding issues, applying natural language processing \n",
       "techniques to maintain counting integrity. <span style=\"color: #008080; text-decoration-color: #008080; font-weight: bold\">7</span>. **User Reporting Tools**: Finally, the CharFrequencyAnalyst will \n",
       "generate detailed reports summarizing counts, including visual representation tools <span style=\"font-weight: bold\">(</span>such as graphs or tables<span style=\"font-weight: bold\">)</span> to \n",
       "easily understand distribution patterns, making the results more accessible and interpretable while allowing users \n",
       "to request further breakdowns or details as needed.\n",
       "</pre>\n"
      ],
      "text/plain": [
       "Final Agent's Function: The function of the CharFrequencyAnalyst includes a multi-layered approach to character \n",
       "counting: \u001b[1;36m1\u001b[0m. **Advanced Input Processing**: It will accept a wide range of input formats \u001b[1m(\u001b[0mplain text, formatted \n",
       "strings, etc.\u001b[1m)\u001b[0m, automatically detect and handle various encoding types, and sanitize inputs to remove invalid \n",
       "characters before processing. \u001b[1;36m2\u001b[0m. **Multi-Layer Character Normalization**: Beyond just case standardization, this \n",
       "agent will identify and normalize diacritics, varying spaces, and special characters to ensure counts are both \n",
       "accurate and contextually relevant. \u001b[1;36m3\u001b[0m. **Enhanced Counting Algorithm**: Utilizing a combination of traditional \n",
       "counting methods and regular expressions, it will count occurrences while simultaneously gathering positional data \n",
       "of the characters in the text. This allows for a multifaceted analysis of frequency. \u001b[1;36m4\u001b[0m. **Contextual Insight \n",
       "Generation**: The agent will provide qualitative feedback on the significance of the findings, offering insights \n",
       "into the importance of character distribution in the given context \u001b[1m(\u001b[0mfor example, in literary analysis or linguistic\n",
       "studies\u001b[1m)\u001b[0m. \u001b[1;36m5\u001b[0m. **Result Verification System**: Incorporating redundancy checks, the agent will compare results from \n",
       "different counting strategies, ensuring accuracy and reliability. It may use probabilistic methods to assess the \n",
       "confidence level of the results. \u001b[1;36m6\u001b[0m. **Adaptation to Edge Cases**: The agent will include provisions for handling \n",
       "complex strings that may include non-standard characters or encoding issues, applying natural language processing \n",
       "techniques to maintain counting integrity. \u001b[1;36m7\u001b[0m. **User Reporting Tools**: Finally, the CharFrequencyAnalyst will \n",
       "generate detailed reports summarizing counts, including visual representation tools \u001b[1m(\u001b[0msuch as graphs or tables\u001b[1m)\u001b[0m to \n",
       "easily understand distribution patterns, making the results more accessible and interpretable while allowing users \n",
       "to request further breakdowns or details as needed.\n"
      ]
     },
     "metadata": {},
     "output_type": "display_data"
    },
    {
     "data": {
      "text/html": [
       "<pre style=\"white-space:pre;overflow-x:auto;line-height:normal;font-family:Menlo,'DejaVu Sans Mono',consolas,'Courier New',monospace\">\n",
       "CharFrequencyAnalyst's Response:\n",
       "<span style=\"color: #808000; text-decoration-color: #808000\">explanation</span>=<span style=\"color: #008000; text-decoration-color: #008000\">'To analyze the character frequency in the word \"STRAWBERRY,\" we will follow the steps defined in my </span>\n",
       "<span style=\"color: #008000; text-decoration-color: #008000\">capabilities as a CharFrequencyAnalyst. First, we need to process the input string, which consists of uppercase </span>\n",
       "<span style=\"color: #008000; text-decoration-color: #008000\">letters. The character we are focusing on is \\'R.\\' \\n\\n1. **Advanced Input Processing**: The input word </span>\n",
       "<span style=\"color: #008000; text-decoration-color: #008000\">\"STRAWBERRY\" is already clean and correctly formatted, consisting of standard Latin letters. No encoding issues or </span>\n",
       "<span style=\"color: #008000; text-decoration-color: #008000\">invalid characters are present.\\n\\n2. **Multi-Layer Character Normalization**: Since the input is uppercase, and we</span>\n",
       "<span style=\"color: #008000; text-decoration-color: #008000\">are solely counting occurrences of \\'R,\\' we focus on this character without altering the case. There are no </span>\n",
       "<span style=\"color: #008000; text-decoration-color: #008000\">diacritics or varying spaces that need normalization in this case.\\n\\n3. **Enhanced Counting Algorithm**: We count </span>\n",
       "<span style=\"color: #008000; text-decoration-color: #008000\">how many times the character \\'R\\' occurs in the word \"STRAWBERRY.\" This can be done visually and </span>\n",
       "<span style=\"color: #008000; text-decoration-color: #008000\">computationally.\\n\\n4. **Counting Occurrences**: Let\\'s break down the word:\\n   - S: 1\\n   - T: 1\\n   - R: 2\\n   -</span>\n",
       "<span style=\"color: #008000; text-decoration-color: #008000\">A: 1\\n   - W: 1\\n   - B: 1\\n   - E: 1\\n   - Y: 1\\n\\n   From this breakdown, we can observe that the character \\'R\\'</span>\n",
       "<span style=\"color: #008000; text-decoration-color: #008000\">appears 2 times.\\n\\n5. **Contextual Insight Generation**: The appearance of \\'R\\' twice in the word \"STRAWBERRY\" is</span>\n",
       "<span style=\"color: #008000; text-decoration-color: #008000\">significant as it reflects the repetitive nature of certain phonetic elements in English. This word itself is a </span>\n",
       "<span style=\"color: #008000; text-decoration-color: #008000\">compound word derived from its two components, ‘straw’ and ‘berry,’ which frequently appear in contexts relating to</span>\n",
       "<span style=\"color: #008000; text-decoration-color: #008000\">fruits, flavors, and commerce.\\n\\n6. **Result Verification System**: By cross-verifying using various counting </span>\n",
       "<span style=\"color: #008000; text-decoration-color: #008000\">methods (visual validation, programmatic counting), we can affirm that the count of \\'R\\' as 2 is </span>\n",
       "<span style=\"color: #008000; text-decoration-color: #008000\">reliable.\\n\\nOverall, the final count shows that there are 2 occurrences of the letter \\'R\\' in the word </span>\n",
       "<span style=\"color: #008000; text-decoration-color: #008000\">\"STRAWBERRY.\" Thus, the comprehensive character frequency analysis leads to this conclusion.'</span> <span style=\"color: #808000; text-decoration-color: #808000\">answer</span>=<span style=\"color: #008000; text-decoration-color: #008000\">'2'</span>\n",
       "\n",
       "</pre>\n"
      ],
      "text/plain": [
       "\n",
       "CharFrequencyAnalyst's Response:\n",
       "\u001b[33mexplanation\u001b[0m=\u001b[32m'To analyze the character frequency in the word \"STRAWBERRY,\" we will follow the steps defined in my \u001b[0m\n",
       "\u001b[32mcapabilities as a CharFrequencyAnalyst. First, we need to process the input string, which consists of uppercase \u001b[0m\n",
       "\u001b[32mletters. The character we are focusing on is \\'R.\\' \\n\\n1. **Advanced Input Processing**: The input word \u001b[0m\n",
       "\u001b[32m\"STRAWBERRY\" is already clean and correctly formatted, consisting of standard Latin letters. No encoding issues or \u001b[0m\n",
       "\u001b[32minvalid characters are present.\\n\\n2. **Multi-Layer Character Normalization**: Since the input is uppercase, and we\u001b[0m\n",
       "\u001b[32mare solely counting occurrences of \\'R,\\' we focus on this character without altering the case. There are no \u001b[0m\n",
       "\u001b[32mdiacritics or varying spaces that need normalization in this case.\\n\\n3. **Enhanced Counting Algorithm**: We count \u001b[0m\n",
       "\u001b[32mhow many times the character \\'R\\' occurs in the word \"STRAWBERRY.\" This can be done visually and \u001b[0m\n",
       "\u001b[32mcomputationally.\\n\\n4. **Counting Occurrences**: Let\\'s break down the word:\\n   - S: 1\\n   - T: 1\\n   - R: 2\\n   -\u001b[0m\n",
       "\u001b[32mA: 1\\n   - W: 1\\n   - B: 1\\n   - E: 1\\n   - Y: 1\\n\\n   From this breakdown, we can observe that the character \\'R\\'\u001b[0m\n",
       "\u001b[32mappears 2 times.\\n\\n5. **Contextual Insight Generation**: The appearance of \\'R\\' twice in the word \"STRAWBERRY\" is\u001b[0m\n",
       "\u001b[32msignificant as it reflects the repetitive nature of certain phonetic elements in English. This word itself is a \u001b[0m\n",
       "\u001b[32mcompound word derived from its two components, ‘straw’ and ‘berry,’ which frequently appear in contexts relating to\u001b[0m\n",
       "\u001b[32mfruits, flavors, and commerce.\\n\\n6. **Result Verification System**: By cross-verifying using various counting \u001b[0m\n",
       "\u001b[32mmethods \u001b[0m\u001b[32m(\u001b[0m\u001b[32mvisual validation, programmatic counting\u001b[0m\u001b[32m)\u001b[0m\u001b[32m, we can affirm that the count of \\'R\\' as 2 is \u001b[0m\n",
       "\u001b[32mreliable.\\n\\nOverall, the final count shows that there are 2 occurrences of the letter \\'R\\' in the word \u001b[0m\n",
       "\u001b[32m\"STRAWBERRY.\" Thus, the comprehensive character frequency analysis leads to this conclusion.'\u001b[0m \u001b[33manswer\u001b[0m=\u001b[32m'2'\u001b[0m\n",
       "\n"
      ]
     },
     "metadata": {},
     "output_type": "display_data"
    },
    {
     "data": {
      "text/html": [
       "<pre style=\"white-space:pre;overflow-x:auto;line-height:normal;font-family:Menlo,'DejaVu Sans Mono',consolas,'Courier New',monospace\">Final Result:\n",
       "</pre>\n"
      ],
      "text/plain": [
       "Final Result:\n"
      ]
     },
     "metadata": {},
     "output_type": "display_data"
    },
    {
     "data": {
      "text/html": [
       "<pre style=\"white-space:pre;overflow-x:auto;line-height:normal;font-family:Menlo,'DejaVu Sans Mono',consolas,'Courier New',monospace\">To analyze the character frequency in the word <span style=\"color: #008000; text-decoration-color: #008000\">\"STRAWBERRY,\"</span> we will follow the steps defined in my capabilities as\n",
       "a CharFrequencyAnalyst. First, we need to process the input string, which consists of uppercase letters. The \n",
       "character we are focusing on is <span style=\"color: #008000; text-decoration-color: #008000\">'R.'</span> \n",
       "\n",
       "<span style=\"color: #008080; text-decoration-color: #008080; font-weight: bold\">1</span>. **Advanced Input Processing**: The input word <span style=\"color: #008000; text-decoration-color: #008000\">\"STRAWBERRY\"</span> is already clean and correctly formatted, consisting \n",
       "of standard Latin letters. No encoding issues or invalid characters are present.\n",
       "\n",
       "<span style=\"color: #008080; text-decoration-color: #008080; font-weight: bold\">2</span>. **Multi-Layer Character Normalization**: Since the input is uppercase, and we are solely counting occurrences of\n",
       "<span style=\"color: #008000; text-decoration-color: #008000\">'R,'</span> we focus on this character without altering the case. There are no diacritics or varying spaces that need \n",
       "normalization in this case.\n",
       "\n",
       "<span style=\"color: #008080; text-decoration-color: #008080; font-weight: bold\">3</span>. **Enhanced Counting Algorithm**: We count how many times the character <span style=\"color: #008000; text-decoration-color: #008000\">'R'</span> occurs in the word <span style=\"color: #008000; text-decoration-color: #008000\">\"STRAWBERRY.\"</span> This\n",
       "can be done visually and computationally.\n",
       "\n",
       "<span style=\"color: #008080; text-decoration-color: #008080; font-weight: bold\">4</span>. **Counting Occurrences**: Let's break down the word:\n",
       "   - S: <span style=\"color: #008080; text-decoration-color: #008080; font-weight: bold\">1</span>\n",
       "   - T: <span style=\"color: #008080; text-decoration-color: #008080; font-weight: bold\">1</span>\n",
       "   - R: <span style=\"color: #008080; text-decoration-color: #008080; font-weight: bold\">2</span>\n",
       "   - A: <span style=\"color: #008080; text-decoration-color: #008080; font-weight: bold\">1</span>\n",
       "   - W: <span style=\"color: #008080; text-decoration-color: #008080; font-weight: bold\">1</span>\n",
       "   - B: <span style=\"color: #008080; text-decoration-color: #008080; font-weight: bold\">1</span>\n",
       "   - E: <span style=\"color: #008080; text-decoration-color: #008080; font-weight: bold\">1</span>\n",
       "   - Y: <span style=\"color: #008080; text-decoration-color: #008080; font-weight: bold\">1</span>\n",
       "\n",
       "   From this breakdown, we can observe that the character <span style=\"color: #008000; text-decoration-color: #008000\">'R'</span> appears <span style=\"color: #008080; text-decoration-color: #008080; font-weight: bold\">2</span> times.\n",
       "\n",
       "<span style=\"color: #008080; text-decoration-color: #008080; font-weight: bold\">5</span>. **Contextual Insight Generation**: The appearance of <span style=\"color: #008000; text-decoration-color: #008000\">'R'</span> twice in the word <span style=\"color: #008000; text-decoration-color: #008000\">\"STRAWBERRY\"</span> is significant as it \n",
       "reflects the repetitive nature of certain phonetic elements in English. This word itself is a compound word derived\n",
       "from its two components, ‘straw’ and ‘berry,’ which frequently appear in contexts relating to fruits, flavors, and \n",
       "commerce.\n",
       "\n",
       "<span style=\"color: #008080; text-decoration-color: #008080; font-weight: bold\">6</span>. **Result Verification System**: By cross-verifying using various counting methods <span style=\"font-weight: bold\">(</span>visual validation, \n",
       "programmatic counting<span style=\"font-weight: bold\">)</span>, we can affirm that the count of <span style=\"color: #008000; text-decoration-color: #008000\">'R'</span> as <span style=\"color: #008080; text-decoration-color: #008080; font-weight: bold\">2</span> is reliable.\n",
       "\n",
       "Overall, the final count shows that there are <span style=\"color: #008080; text-decoration-color: #008080; font-weight: bold\">2</span> occurrences of the letter <span style=\"color: #008000; text-decoration-color: #008000\">'R'</span> in the word <span style=\"color: #008000; text-decoration-color: #008000\">\"STRAWBERRY.\"</span> Thus, the \n",
       "comprehensive character frequency analysis leads to this conclusion.\n",
       "</pre>\n"
      ],
      "text/plain": [
       "To analyze the character frequency in the word \u001b[32m\"STRAWBERRY,\"\u001b[0m we will follow the steps defined in my capabilities as\n",
       "a CharFrequencyAnalyst. First, we need to process the input string, which consists of uppercase letters. The \n",
       "character we are focusing on is \u001b[32m'R.'\u001b[0m \n",
       "\n",
       "\u001b[1;36m1\u001b[0m. **Advanced Input Processing**: The input word \u001b[32m\"STRAWBERRY\"\u001b[0m is already clean and correctly formatted, consisting \n",
       "of standard Latin letters. No encoding issues or invalid characters are present.\n",
       "\n",
       "\u001b[1;36m2\u001b[0m. **Multi-Layer Character Normalization**: Since the input is uppercase, and we are solely counting occurrences of\n",
       "\u001b[32m'R,'\u001b[0m we focus on this character without altering the case. There are no diacritics or varying spaces that need \n",
       "normalization in this case.\n",
       "\n",
       "\u001b[1;36m3\u001b[0m. **Enhanced Counting Algorithm**: We count how many times the character \u001b[32m'R'\u001b[0m occurs in the word \u001b[32m\"STRAWBERRY.\"\u001b[0m This\n",
       "can be done visually and computationally.\n",
       "\n",
       "\u001b[1;36m4\u001b[0m. **Counting Occurrences**: Let's break down the word:\n",
       "   - S: \u001b[1;36m1\u001b[0m\n",
       "   - T: \u001b[1;36m1\u001b[0m\n",
       "   - R: \u001b[1;36m2\u001b[0m\n",
       "   - A: \u001b[1;36m1\u001b[0m\n",
       "   - W: \u001b[1;36m1\u001b[0m\n",
       "   - B: \u001b[1;36m1\u001b[0m\n",
       "   - E: \u001b[1;36m1\u001b[0m\n",
       "   - Y: \u001b[1;36m1\u001b[0m\n",
       "\n",
       "   From this breakdown, we can observe that the character \u001b[32m'R'\u001b[0m appears \u001b[1;36m2\u001b[0m times.\n",
       "\n",
       "\u001b[1;36m5\u001b[0m. **Contextual Insight Generation**: The appearance of \u001b[32m'R'\u001b[0m twice in the word \u001b[32m\"STRAWBERRY\"\u001b[0m is significant as it \n",
       "reflects the repetitive nature of certain phonetic elements in English. This word itself is a compound word derived\n",
       "from its two components, ‘straw’ and ‘berry,’ which frequently appear in contexts relating to fruits, flavors, and \n",
       "commerce.\n",
       "\n",
       "\u001b[1;36m6\u001b[0m. **Result Verification System**: By cross-verifying using various counting methods \u001b[1m(\u001b[0mvisual validation, \n",
       "programmatic counting\u001b[1m)\u001b[0m, we can affirm that the count of \u001b[32m'R'\u001b[0m as \u001b[1;36m2\u001b[0m is reliable.\n",
       "\n",
       "Overall, the final count shows that there are \u001b[1;36m2\u001b[0m occurrences of the letter \u001b[32m'R'\u001b[0m in the word \u001b[32m\"STRAWBERRY.\"\u001b[0m Thus, the \n",
       "comprehensive character frequency analysis leads to this conclusion.\n"
      ]
     },
     "metadata": {},
     "output_type": "display_data"
    },
    {
     "data": {
      "text/html": [
       "<pre style=\"white-space:pre;overflow-x:auto;line-height:normal;font-family:Menlo,'DejaVu Sans Mono',consolas,'Courier New',monospace\"><span style=\"color: #008080; text-decoration-color: #008080; font-weight: bold\">2</span>\n",
       "</pre>\n"
      ],
      "text/plain": [
       "\u001b[1;36m2\u001b[0m\n"
      ]
     },
     "metadata": {},
     "output_type": "display_data"
    }
   ],
   "source": [
    "meta_agent_system = MetaAgentSystem(llm)\n",
    "\n",
    "# Define the initial task\n",
    "initial_task = \"\"\"How many R's are there in  the word \"STRAWBERRY\"?\"\"\"\n",
    "\n",
    "# Define the answer schema\n",
    "class Answer(BaseModel):\n",
    "    explanation: str = Field(..., description=\"Detailed explanation for the solution.\")\n",
    "    answer: str = Field(..., description=\"final answer\")\n",
    "\n",
    "# initial_task = \"\"\"\n",
    "# Solve this puzzle and provide the final answer:\n",
    "# Given:\n",
    "# \"Neural networks transform data efficiently\" → \"eeraf\"\n",
    "# \"Artificial intelligence automates decisions\" → \"rnue\"\n",
    "# \"Amazing Large language models\" → \"maao\"\n",
    "# Query:\n",
    "# What is \"Gradient descent optimizes loss functions\" → ?\n",
    "# \"\"\"\n",
    "\n",
    "\n",
    "# Set the number of meta-agent levels\n",
    "n = 3\n",
    "\n",
    "# Run the meta-agent system\n",
    "final_result = meta_agent_system.create_meta_agents(n, initial_task, Answer)\n",
    "\n",
    "# Print the final result\n",
    "print(\"Final Result:\")\n",
    "print(final_result.explanation)\n",
    "print(final_result.answer)"
   ]
  }
 ],
 "metadata": {
  "kernelspec": {
   "display_name": "Python 3",
   "language": "python",
   "name": "python3"
  },
  "language_info": {
   "codemirror_mode": {
    "name": "ipython",
    "version": 3
   },
   "file_extension": ".py",
   "mimetype": "text/x-python",
   "name": "python",
   "nbconvert_exporter": "python",
   "pygments_lexer": "ipython3",
   "version": "3.10.14"
  }
 },
 "nbformat": 4,
 "nbformat_minor": 2
}
