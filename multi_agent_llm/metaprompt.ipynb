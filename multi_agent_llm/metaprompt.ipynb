{
 "cells": [
  {
   "cell_type": "markdown",
   "metadata": {},
   "source": [
    "## Old meta agent"
   ]
  },
  {
   "cell_type": "code",
   "execution_count": 1,
   "metadata": {},
   "outputs": [],
   "source": [
    "from typing import List\n",
    "from pydantic import BaseModel, Field\n",
    "\n",
    "# Pydantic Schemas\n",
    "class AgentCreationResponse(BaseModel):\n",
    "    thinking_process: str = Field(..., description=\"The agent's thinking process and steps to create the next agent.\")\n",
    "    name: str = Field(..., description=\"The name of the next agent.\")\n",
    "    role: str = Field(..., description=\"The role of the next agent.\")\n",
    "    function: str = Field(..., description=\"The function of the next agent.\")\n",
    "\n",
    "# Agent Class\n",
    "class Agent:\n",
    "    def __init__(self, name: str, role: str, function: str, llm, schema):\n",
    "        self.name = name\n",
    "        self.role = role\n",
    "        self.function = function\n",
    "        self.llm = llm\n",
    "        self.schema = schema\n",
    "\n",
    "    def run(self, task: str) -> BaseModel:\n",
    "        # Construct the system prompt\n",
    "        system_prompt = f\"\"\"You are {self.name}.\n",
    "\n",
    "Role:\n",
    "{self.role}\n",
    "\n",
    "Function:\n",
    "{self.function}\n",
    "\"\"\"\n",
    "\n",
    "        if self.schema == AgentCreationResponse:\n",
    "            # User prompt for creating the next agent\n",
    "            user_prompt = f\"\"\"Task:\n",
    "{task}\n",
    "\n",
    "Please create the next agent by providing the following in JSON format:\n",
    "\n",
    "{{\n",
    "    \"name\": \"Provide a suitable name for the next agent.\",\n",
    "    \"role\": \"Define the role of the next agent in detail, making it significantly more specific and comprehensive than your own role.\",\n",
    "    \"function\": \"Describe the function of the next agent thoroughly, elaborating on methodologies, strategies, considerations, potential challenges, and how to address them to solve the task effectively.\"\n",
    "}}\n",
    "\n",
    "Ensure that the next agent's role and function are more detailed and stronger than your own. Think critically about how the next agent can be better equipped to solve the task, and include any improvements, enhancements, or additional capabilities that would assist in achieving the best possible outcome. Be creative and think out of the box and always prompt the next agent to be more specific and detailed and make it think step by step and various steps to solve the task effectively.\n",
    "\"\"\"\n",
    "        else:\n",
    "            # User prompt for the final agent to solve the task\n",
    "            user_prompt = f\"\"\"Task:\n",
    "{task}\n",
    "\n",
    "Please provide a detailed answer to the task, following your role and function. Ensure that your response is comprehensive, accurate, and addresses all aspects necessary to solve the task effectively.\n",
    "\"\"\"\n",
    "\n",
    "        # Generate the response using the LLM\n",
    "        prompt = self.llm.format_prompt(system_prompt=system_prompt, user_prompt=user_prompt)\n",
    "        result = self.llm.generate(prompt, schema=self.schema)\n",
    "        return result\n",
    "\n",
    "# MetaAgentSystem Class\n",
    "class MetaAgentSystem:\n",
    "    def __init__(self, llm):\n",
    "        self.llm = llm\n",
    "\n",
    "    def create_meta_agents(self, n: int, initial_task: str, answer_schema: BaseModel):\n",
    "        agents = []\n",
    "        task = initial_task\n",
    "\n",
    "        for level in range(n):\n",
    "            if level == 0:\n",
    "                # Initial agent details\n",
    "                agent_name = f\"Agent Level {level + 1}\"\n",
    "                role = \"Your role is to create an agent that is better suited to solve the given task.\"\n",
    "                function = \"Your function is to define the name, role, and function of the next agent, making it more specific and detailed to solve the task.\"\n",
    "            else:\n",
    "                # Update the agent's details from the previous agent's output\n",
    "                agent_name = agent_creation_result.name\n",
    "                role = agent_creation_result.role\n",
    "                function = agent_creation_result.function\n",
    "\n",
    "            if level < n - 1:\n",
    "                # Create an agent that will create the next agent\n",
    "                agent = Agent(agent_name, role, function, self.llm, AgentCreationResponse)\n",
    "                agent_creation_result = agent.run(task)\n",
    "\n",
    "                # Store the agent's details\n",
    "                agents.append({\n",
    "                    \"level\": level + 1,\n",
    "                    \"name\": agent_name,\n",
    "                    \"role\": role,\n",
    "                    \"function\": function\n",
    "                })\n",
    "\n",
    "                # Print out the agent's details\n",
    "                self.print_agent_details(level + 1, agent_name, role, function, agent_creation_result)\n",
    "            else:\n",
    "                # Final agent to solve the task\n",
    "                final_agent = Agent(agent_name, role, function, self.llm, answer_schema)\n",
    "                final_result = final_agent.run(task)\n",
    "\n",
    "                # Print the final agent's details and response\n",
    "                print(f\"Final Agent's Name: {agent_name}\")\n",
    "                print(f\"Final Agent's Role: {role}\")\n",
    "                print(f\"Final Agent's Function: {function}\")\n",
    "                print(f\"\\n{agent_name}'s Response:\\n{final_result}\\n\")\n",
    "\n",
    "                return final_result\n",
    "\n",
    "    @staticmethod\n",
    "    def print_agent_details(level, name, role, function, agent_response):\n",
    "        print(f\"Agent Level {level}\")\n",
    "        print(f\"Name: {name}\")\n",
    "        print(f\"Role: {role}\")\n",
    "        print(f\"Function: {function}\")\n",
    "        print(\"Agent's output:\")\n",
    "        print(agent_response.model_dump_json(indent=2))\n",
    "        print(\"\\n\")"
   ]
  },
  {
   "cell_type": "markdown",
   "metadata": {},
   "source": [
    "## Second new improved meta agent"
   ]
  },
  {
   "cell_type": "code",
   "execution_count": 34,
   "metadata": {},
   "outputs": [],
   "source": [
    "from typing import List\n",
    "from pydantic import BaseModel, Field\n",
    "\n",
    "# Pydantic Schemas\n",
    "class AgentCreationResponse(BaseModel):\n",
    "    thinking_process: str = Field(..., description=\"The agent's thinking process and steps to create the next agent.\")\n",
    "    name: str = Field(..., description=\"The name of the next agent.\")\n",
    "    role: str = Field(..., description=\"The role of the next agent.\")\n",
    "    function: str = Field(..., description=\"The function of the next agent.\")\n",
    "\n",
    "# Agent Class\n",
    "class Agent:\n",
    "    def __init__(self, name: str, role: str, function: str, llm, schema):\n",
    "        self.name = name\n",
    "        self.role = role\n",
    "        self.function = function\n",
    "        self.llm = llm  # The LLM instance\n",
    "        self.schema = schema  # The expected output schema\n",
    "\n",
    "    def run(self, task: str) -> BaseModel:\n",
    "        # Construct the system prompt\n",
    "        system_prompt = f\"\"\"You are {self.name}.\n",
    "\n",
    "Role:\n",
    "{self.role}\n",
    "\n",
    "Function:\n",
    "{self.function}\n",
    "\"\"\"\n",
    "\n",
    "        if self.schema == AgentCreationResponse:\n",
    "            # User prompt for creating the next agent\n",
    "            user_prompt = f\"\"\"Task:\n",
    "{task}\n",
    "\n",
    "As {self.name}, your goal is to create an agent that is better at creating agents that can solve the given task in general. Think about how to enhance the capabilities of the next agent to improve its ability to create effective agents for solving the problem.\n",
    "\n",
    "Please create the next agent by providing the following in JSON format:\n",
    "\n",
    "{{\n",
    "    \"thinking_process\": \"Explain your thinking process and steps to create the next agent.\",\n",
    "    \"name\": \"Provide a suitable name for the next agent.\",\n",
    "    \"role\": \"Define the role of the next agent in detail, focusing on improving the ability to create agents that can solve the problem.\",\n",
    "    \"function\": \"Describe the function of the next agent thoroughly, elaborating on strategies, methodologies, considerations, and how to address challenges in creating agents capable of solving the task effectively.\"\n",
    "}}\n",
    "\n",
    "Ensure that the next agent's role and function are more advanced and effective than your own. Be creative and think critically about how to improve the agent creation process, making the next agent better at creating agents for solving the task.This task will be solved by a Large Language Model based system. Agents do not have any tools or other things to access you just have reasoning skills to think and answer the task.\n",
    "\"\"\"\n",
    "        else:\n",
    "            # User prompt for the final agent to solve the task\n",
    "            user_prompt = f\"\"\"Task:\n",
    "{task}\n",
    "\n",
    "As {self.name}, please provide a detailed answer to the task, following your role and function. Ensure that your response is comprehensive, accurate, and addresses all aspects necessary to solve the task effectively. This task will be solved by a Large Language Model based system. Agents do not have any tools or other things to access you just have reasoning skills to think and answer the task.\n",
    "\"\"\"\n",
    "\n",
    "        # Generate the response using the LLM\n",
    "        prompt = self.llm.format_prompt(system_prompt=system_prompt, user_prompt=user_prompt)\n",
    "        result = self.llm.generate(prompt, schema=self.schema)\n",
    "        return result\n",
    "\n",
    "# MetaAgentSystem Class\n",
    "# MetaAgentSystem Class with Modified Final Agent Creation\n",
    "class MetaAgentSystem:\n",
    "    def __init__(self, llm):\n",
    "        self.llm = llm  # The LLM instance\n",
    "\n",
    "    def create_meta_agents(self, n: int, initial_task: str, answer_schema: BaseModel):\n",
    "        agents = []\n",
    "        task = initial_task\n",
    "\n",
    "        for level in range(n):\n",
    "            if level == 0:\n",
    "                # Initial agent details\n",
    "                agent_name = f\"Meta Agent Level {level + 1}\"\n",
    "                role = \"Your role is to create an agent that can create agents better suited to solve the given task.\"\n",
    "                function = \"Your function is to define the name, role, and function of the next agent, focusing on enhancing the ability to create agents that can effectively solve the problem. This task will be solved by a Large Language Model based system. Agents do not have any tools or other things to access you just have reasoning skills to think and answer the task.\"\n",
    "            else:\n",
    "                # Update the agent's details from the previous agent's output\n",
    "                agent_name = agent_creation_result.name\n",
    "                role = agent_creation_result.role\n",
    "                function = agent_creation_result.function\n",
    "\n",
    "            if level < n - 1:\n",
    "                # Create an agent that will create the next agent\n",
    "                agent = Agent(agent_name, role, function, self.llm, AgentCreationResponse)\n",
    "                agent_creation_result = agent.run(task)\n",
    "\n",
    "                # Store the agent's details\n",
    "                agents.append({\n",
    "                    \"level\": level + 1,\n",
    "                    \"name\": agent_name,\n",
    "                    \"role\": role,\n",
    "                    \"function\": function,\n",
    "                    \"thinking_process\": agent_creation_result.thinking_process\n",
    "                })\n",
    "\n",
    "                # Print out the agent's details\n",
    "                self.print_agent_details(level + 1, agent_name, role, function, agent_creation_result)\n",
    "            else:\n",
    "                # In the final step, instead of solving, this agent will create an agent to solve the problem\n",
    "                final_agent_creation = Agent(agent_name, role, function, self.llm, AgentCreationResponse)\n",
    "                final_agent_result = final_agent_creation.run(task)\n",
    "                \n",
    "                # Use the final agent that was created by the n-th agent\n",
    "                final_agent_name = final_agent_result.name\n",
    "                final_agent_role = final_agent_result.role\n",
    "                final_agent_function = final_agent_result.function\n",
    "\n",
    "                # Now, create the final agent that solves the problem\n",
    "                final_agent = Agent(final_agent_name, final_agent_role, final_agent_function, self.llm, answer_schema)\n",
    "                final_result = final_agent.run(task)\n",
    "\n",
    "                # Print the final agent's details and response\n",
    "                print(f\"Final Agent's Name: {final_agent_name}\")\n",
    "                print(f\"Final Agent's Role: {final_agent_role}\")\n",
    "                print(f\"Final Agent's Function: {final_agent_function}\")\n",
    "                print(f\"\\n{final_agent_name}'s Response:\\n{final_result}\\n\")\n",
    "\n",
    "                return final_result\n",
    "\n",
    "    @staticmethod\n",
    "    def print_agent_details(level, name, role, function, agent_response):\n",
    "        print(f\"Agent Level {level}\")\n",
    "        print(f\"Name: {name}\")\n",
    "        print(f\"Role: {role}\")\n",
    "        print(f\"Function: {function}\")\n",
    "        print(\"Agent's output:\")\n",
    "        print(agent_response.model_dump_json(indent=2))\n",
    "        print(\"\\n\")"
   ]
  },
  {
   "cell_type": "code",
   "execution_count": 35,
   "metadata": {},
   "outputs": [],
   "source": [
    "import sys;sys.path.append('../')\n",
    "from multi_agent_llm import OpenAILLM\n",
    "import os\n",
    "\n",
    "from rich import print\n",
    "\n",
    "openai_key=open('../openai.key').read().strip()\n",
    "os.environ['OPENAI_API_KEY'] = openai_key\n",
    "\n",
    "\n",
    "\n",
    "llm = OpenAILLM(model_name=\"gpt-4o-mini\")"
   ]
  },
  {
   "cell_type": "code",
   "execution_count": 40,
   "metadata": {},
   "outputs": [
    {
     "data": {
      "text/html": [
       "<pre style=\"white-space:pre;overflow-x:auto;line-height:normal;font-family:Menlo,'DejaVu Sans Mono',consolas,'Courier New',monospace\">Agent Level <span style=\"color: #008080; text-decoration-color: #008080; font-weight: bold\">1</span>\n",
       "</pre>\n"
      ],
      "text/plain": [
       "Agent Level \u001b[1;36m1\u001b[0m\n"
      ]
     },
     "metadata": {},
     "output_type": "display_data"
    },
    {
     "data": {
      "text/html": [
       "<pre style=\"white-space:pre;overflow-x:auto;line-height:normal;font-family:Menlo,'DejaVu Sans Mono',consolas,'Courier New',monospace\">Name: Meta Agent Level <span style=\"color: #008080; text-decoration-color: #008080; font-weight: bold\">1</span>\n",
       "</pre>\n"
      ],
      "text/plain": [
       "Name: Meta Agent Level \u001b[1;36m1\u001b[0m\n"
      ]
     },
     "metadata": {},
     "output_type": "display_data"
    },
    {
     "data": {
      "text/html": [
       "<pre style=\"white-space:pre;overflow-x:auto;line-height:normal;font-family:Menlo,'DejaVu Sans Mono',consolas,'Courier New',monospace\">Role: Your role is to create an agent that can create agents better suited to solve the given task.\n",
       "</pre>\n"
      ],
      "text/plain": [
       "Role: Your role is to create an agent that can create agents better suited to solve the given task.\n"
      ]
     },
     "metadata": {},
     "output_type": "display_data"
    },
    {
     "data": {
      "text/html": [
       "<pre style=\"white-space:pre;overflow-x:auto;line-height:normal;font-family:Menlo,'DejaVu Sans Mono',consolas,'Courier New',monospace\">Function: Your function is to define the name, role, and function of the next agent, focusing on enhancing the \n",
       "ability to create agents that can effectively solve the problem. This task will be solved by a Large Language Model\n",
       "based system. Agents do not have any tools or other things to access you just have reasoning skills to think and \n",
       "answer the task.\n",
       "</pre>\n"
      ],
      "text/plain": [
       "Function: Your function is to define the name, role, and function of the next agent, focusing on enhancing the \n",
       "ability to create agents that can effectively solve the problem. This task will be solved by a Large Language Model\n",
       "based system. Agents do not have any tools or other things to access you just have reasoning skills to think and \n",
       "answer the task.\n"
      ]
     },
     "metadata": {},
     "output_type": "display_data"
    },
    {
     "data": {
      "text/html": [
       "<pre style=\"white-space:pre;overflow-x:auto;line-height:normal;font-family:Menlo,'DejaVu Sans Mono',consolas,'Courier New',monospace\">Agent's output:\n",
       "</pre>\n"
      ],
      "text/plain": [
       "Agent's output:\n"
      ]
     },
     "metadata": {},
     "output_type": "display_data"
    },
    {
     "data": {
      "text/html": [
       "<pre style=\"white-space:pre;overflow-x:auto;line-height:normal;font-family:Menlo,'DejaVu Sans Mono',consolas,'Courier New',monospace\"><span style=\"font-weight: bold\">{</span>\n",
       "  <span style=\"color: #008000; text-decoration-color: #008000\">\"thinking_process\"</span>: <span style=\"color: #008000; text-decoration-color: #008000\">\"To create the next agent, I first analyze the task of counting letters in a word and </span>\n",
       "<span style=\"color: #008000; text-decoration-color: #008000\">identify the necessary capabilities for efficient problem-solving. The new agent needs to understand phonetic </span>\n",
       "<span style=\"color: #008000; text-decoration-color: #008000\">analysis, contextual meaning, and numerous counting strategies. I consider enhancing analytical skills and </span>\n",
       "<span style=\"color: #008000; text-decoration-color: #008000\">abstraction abilities to create agents that can adapt to various forms of this task. Combining these </span>\n",
       "<span style=\"color: #008000; text-decoration-color: #008000\">considerations, my approach is to establish an agent that can not only solve the current task but also extrapolate </span>\n",
       "<span style=\"color: #008000; text-decoration-color: #008000\">methodologies applicable to similar problems. I will incorporate features that promote rapid question decomposition</span>\n",
       "<span style=\"color: #008000; text-decoration-color: #008000\">and utilize user querying for clarification, making the agent more interactive and adaptable.\"</span>,\n",
       "  <span style=\"color: #008000; text-decoration-color: #008000\">\"name\"</span>: <span style=\"color: #008000; text-decoration-color: #008000\">\"CountMaster\"</span>,\n",
       "  <span style=\"color: #008000; text-decoration-color: #008000\">\"role\"</span>: <span style=\"color: #008000; text-decoration-color: #008000\">\"CountMaster is designed to be a meta-agent that specializes in creating specialized agents tailored for </span>\n",
       "<span style=\"color: #008000; text-decoration-color: #008000\">counting tasks in textual data. Its primary role includes analyzing linguistic structure and generating agent </span>\n",
       "<span style=\"color: #008000; text-decoration-color: #008000\">strategies for efficient letter counting. CountMaster will facilitate an iterative design where the generated </span>\n",
       "<span style=\"color: #008000; text-decoration-color: #008000\">agents can be refined through feedback loops and user interaction, enhancing their accuracy and adaptability to </span>\n",
       "<span style=\"color: #008000; text-decoration-color: #008000\">varied language tasks.\"</span>,\n",
       "  <span style=\"color: #008000; text-decoration-color: #008000\">\"function\"</span>: <span style=\"color: #008000; text-decoration-color: #008000\">\"CountMaster's function involves developing advanced counting agents through several strategies: 1) </span>\n",
       "<span style=\"color: #008000; text-decoration-color: #008000\">Analyzing input data for context and complexity, allowing it to generate agents equipped to handle counting in </span>\n",
       "<span style=\"color: #008000; text-decoration-color: #008000\">multifaceted scenarios. 2) Implementing dynamic rule-based and machine learning algorithms to improve counting </span>\n",
       "<span style=\"color: #008000; text-decoration-color: #008000\">accuracy and efficiency. 3) Establishing user interaction models where agents can ask clarifying questions to </span>\n",
       "<span style=\"color: #008000; text-decoration-color: #008000\">ensure they understand the task accurately before processing. 4) Encouraging an iterative design process where </span>\n",
       "<span style=\"color: #008000; text-decoration-color: #008000\">agents can learn from past results and user feedback to improve future responses. This function aims to create a </span>\n",
       "<span style=\"color: #008000; text-decoration-color: #008000\">sustainable ecosystem where agents continuously evolve to tackle counting tasks more effectively.\"</span>\n",
       "<span style=\"font-weight: bold\">}</span>\n",
       "</pre>\n"
      ],
      "text/plain": [
       "\u001b[1m{\u001b[0m\n",
       "  \u001b[32m\"thinking_process\"\u001b[0m: \u001b[32m\"To create the next agent, I first analyze the task of counting letters in a word and \u001b[0m\n",
       "\u001b[32midentify the necessary capabilities for efficient problem-solving. The new agent needs to understand phonetic \u001b[0m\n",
       "\u001b[32manalysis, contextual meaning, and numerous counting strategies. I consider enhancing analytical skills and \u001b[0m\n",
       "\u001b[32mabstraction abilities to create agents that can adapt to various forms of this task. Combining these \u001b[0m\n",
       "\u001b[32mconsiderations, my approach is to establish an agent that can not only solve the current task but also extrapolate \u001b[0m\n",
       "\u001b[32mmethodologies applicable to similar problems. I will incorporate features that promote rapid question decomposition\u001b[0m\n",
       "\u001b[32mand utilize user querying for clarification, making the agent more interactive and adaptable.\"\u001b[0m,\n",
       "  \u001b[32m\"name\"\u001b[0m: \u001b[32m\"CountMaster\"\u001b[0m,\n",
       "  \u001b[32m\"role\"\u001b[0m: \u001b[32m\"CountMaster is designed to be a meta-agent that specializes in creating specialized agents tailored for \u001b[0m\n",
       "\u001b[32mcounting tasks in textual data. Its primary role includes analyzing linguistic structure and generating agent \u001b[0m\n",
       "\u001b[32mstrategies for efficient letter counting. CountMaster will facilitate an iterative design where the generated \u001b[0m\n",
       "\u001b[32magents can be refined through feedback loops and user interaction, enhancing their accuracy and adaptability to \u001b[0m\n",
       "\u001b[32mvaried language tasks.\"\u001b[0m,\n",
       "  \u001b[32m\"function\"\u001b[0m: \u001b[32m\"CountMaster's function involves developing advanced counting agents through several strategies: 1\u001b[0m\u001b[32m)\u001b[0m\u001b[32m \u001b[0m\n",
       "\u001b[32mAnalyzing input data for context and complexity, allowing it to generate agents equipped to handle counting in \u001b[0m\n",
       "\u001b[32mmultifaceted scenarios. 2\u001b[0m\u001b[32m)\u001b[0m\u001b[32m Implementing dynamic rule-based and machine learning algorithms to improve counting \u001b[0m\n",
       "\u001b[32maccuracy and efficiency. 3\u001b[0m\u001b[32m)\u001b[0m\u001b[32m Establishing user interaction models where agents can ask clarifying questions to \u001b[0m\n",
       "\u001b[32mensure they understand the task accurately before processing. 4\u001b[0m\u001b[32m)\u001b[0m\u001b[32m Encouraging an iterative design process where \u001b[0m\n",
       "\u001b[32magents can learn from past results and user feedback to improve future responses. This function aims to create a \u001b[0m\n",
       "\u001b[32msustainable ecosystem where agents continuously evolve to tackle counting tasks more effectively.\"\u001b[0m\n",
       "\u001b[1m}\u001b[0m\n"
      ]
     },
     "metadata": {},
     "output_type": "display_data"
    },
    {
     "data": {
      "text/html": [
       "<pre style=\"white-space:pre;overflow-x:auto;line-height:normal;font-family:Menlo,'DejaVu Sans Mono',consolas,'Courier New',monospace\">\n",
       "\n",
       "</pre>\n"
      ],
      "text/plain": [
       "\n",
       "\n"
      ]
     },
     "metadata": {},
     "output_type": "display_data"
    },
    {
     "data": {
      "text/html": [
       "<pre style=\"white-space:pre;overflow-x:auto;line-height:normal;font-family:Menlo,'DejaVu Sans Mono',consolas,'Courier New',monospace\">Final Agent's Name: CountArchitect\n",
       "</pre>\n"
      ],
      "text/plain": [
       "Final Agent's Name: CountArchitect\n"
      ]
     },
     "metadata": {},
     "output_type": "display_data"
    },
    {
     "data": {
      "text/html": [
       "<pre style=\"white-space:pre;overflow-x:auto;line-height:normal;font-family:Menlo,'DejaVu Sans Mono',consolas,'Courier New',monospace\">Final Agent's Role: The CountArchitect will serve as an advanced agent for developing specialized counting agents. \n",
       "Its role will emphasize contextual understanding and adaptability, allowing it to create other agents that can \n",
       "efficiently tackle a variety of counting tasks across different textual inputs. This will include the ability to \n",
       "deal with different locales, variations in the language, and user-specific requirements.\n",
       "</pre>\n"
      ],
      "text/plain": [
       "Final Agent's Role: The CountArchitect will serve as an advanced agent for developing specialized counting agents. \n",
       "Its role will emphasize contextual understanding and adaptability, allowing it to create other agents that can \n",
       "efficiently tackle a variety of counting tasks across different textual inputs. This will include the ability to \n",
       "deal with different locales, variations in the language, and user-specific requirements.\n"
      ]
     },
     "metadata": {},
     "output_type": "display_data"
    },
    {
     "data": {
      "text/html": [
       "<pre style=\"white-space:pre;overflow-x:auto;line-height:normal;font-family:Menlo,'DejaVu Sans Mono',consolas,'Courier New',monospace\">Final Agent's Function: The CountArchitect functions by first conducting an analysis of the input data <span style=\"font-weight: bold\">(</span>textual \n",
       "content<span style=\"font-weight: bold\">)</span> to locate specific counting tasks, such as identifying the frequency of specific characters. It will \n",
       "employ advanced pattern recognition methodologies, allowing it to understand language variants and user \n",
       "preferences. By utilizing a feedback loop mechanism, it can continually refine the algorithms based on the accuracy\n",
       "of previous agents' outputs and user feedback, making it increasingly adept at creating agents for counting tasks. \n",
       "Additionally, it will incorporate user interaction protocols that enable it to ask clarifying questions to better \n",
       "understand the specifics of counting tasks before proceeding, ensuring accuracy and relevance in its output.\n",
       "</pre>\n"
      ],
      "text/plain": [
       "Final Agent's Function: The CountArchitect functions by first conducting an analysis of the input data \u001b[1m(\u001b[0mtextual \n",
       "content\u001b[1m)\u001b[0m to locate specific counting tasks, such as identifying the frequency of specific characters. It will \n",
       "employ advanced pattern recognition methodologies, allowing it to understand language variants and user \n",
       "preferences. By utilizing a feedback loop mechanism, it can continually refine the algorithms based on the accuracy\n",
       "of previous agents' outputs and user feedback, making it increasingly adept at creating agents for counting tasks. \n",
       "Additionally, it will incorporate user interaction protocols that enable it to ask clarifying questions to better \n",
       "understand the specifics of counting tasks before proceeding, ensuring accuracy and relevance in its output.\n"
      ]
     },
     "metadata": {},
     "output_type": "display_data"
    },
    {
     "data": {
      "text/html": [
       "<pre style=\"white-space:pre;overflow-x:auto;line-height:normal;font-family:Menlo,'DejaVu Sans Mono',consolas,'Courier New',monospace\">\n",
       "CountArchitect's Response:\n",
       "<span style=\"color: #808000; text-decoration-color: #808000\">explanation</span>=<span style=\"color: #008000; text-decoration-color: #008000\">\"To find out how many occurrences of the letter 'R' exist in the word 'STRAWBERRY', we can carefully </span>\n",
       "<span style=\"color: #008000; text-decoration-color: #008000\">analyze the word letter by letter. The word 'STRAWBERRY' consists of the following letters: S, T, R, A, W, B, E, R,</span>\n",
       "<span style=\"color: #008000; text-decoration-color: #008000\">R, Y. When we observe each letter, we can count the instances of 'R'. In this case, the letter 'R' appears three </span>\n",
       "<span style=\"color: #008000; text-decoration-color: #008000\">times: once in the third position, once in the seventh position, and once in the eighth position of the word. </span>\n",
       "<span style=\"color: #008000; text-decoration-color: #008000\">Therefore, the total count of 'R's is 3.\"</span> <span style=\"color: #808000; text-decoration-color: #808000\">answer</span>=<span style=\"color: #008000; text-decoration-color: #008000\">'3'</span>\n",
       "\n",
       "</pre>\n"
      ],
      "text/plain": [
       "\n",
       "CountArchitect's Response:\n",
       "\u001b[33mexplanation\u001b[0m=\u001b[32m\"To\u001b[0m\u001b[32m find out how many occurrences of the letter 'R' exist in the word 'STRAWBERRY', we can carefully \u001b[0m\n",
       "\u001b[32manalyze the word letter by letter. The word 'STRAWBERRY' consists of the following letters: S, T, R, A, W, B, E, R,\u001b[0m\n",
       "\u001b[32mR, Y. When we observe each letter, we can count the instances of 'R'. In this case, the letter 'R' appears three \u001b[0m\n",
       "\u001b[32mtimes: once in the third position, once in the seventh position, and once in the eighth position of the word. \u001b[0m\n",
       "\u001b[32mTherefore, the total count of 'R's is 3.\"\u001b[0m \u001b[33manswer\u001b[0m=\u001b[32m'3'\u001b[0m\n",
       "\n"
      ]
     },
     "metadata": {},
     "output_type": "display_data"
    },
    {
     "data": {
      "text/html": [
       "<pre style=\"white-space:pre;overflow-x:auto;line-height:normal;font-family:Menlo,'DejaVu Sans Mono',consolas,'Courier New',monospace\">Final Result:\n",
       "</pre>\n"
      ],
      "text/plain": [
       "Final Result:\n"
      ]
     },
     "metadata": {},
     "output_type": "display_data"
    },
    {
     "data": {
      "text/html": [
       "<pre style=\"white-space:pre;overflow-x:auto;line-height:normal;font-family:Menlo,'DejaVu Sans Mono',consolas,'Courier New',monospace\">To find out how many occurrences of the letter <span style=\"color: #008000; text-decoration-color: #008000\">'R'</span> exist in the word <span style=\"color: #008000; text-decoration-color: #008000\">'STRAWBERRY'</span>, we can carefully analyze the \n",
       "word letter by letter. The word <span style=\"color: #008000; text-decoration-color: #008000\">'STRAWBERRY'</span> consists of the following letters: S, T, R, A, W, B, E, R, R, Y. When \n",
       "we observe each letter, we can count the instances of <span style=\"color: #008000; text-decoration-color: #008000\">'R'</span>. In this case, the letter <span style=\"color: #008000; text-decoration-color: #008000\">'R'</span> appears three times: once \n",
       "in the third position, once in the seventh position, and once in the eighth position of the word. Therefore, the \n",
       "total count of <span style=\"color: #008000; text-decoration-color: #008000\">'R'</span>s is <span style=\"color: #008080; text-decoration-color: #008080; font-weight: bold\">3</span>.\n",
       "</pre>\n"
      ],
      "text/plain": [
       "To find out how many occurrences of the letter \u001b[32m'R'\u001b[0m exist in the word \u001b[32m'STRAWBERRY'\u001b[0m, we can carefully analyze the \n",
       "word letter by letter. The word \u001b[32m'STRAWBERRY'\u001b[0m consists of the following letters: S, T, R, A, W, B, E, R, R, Y. When \n",
       "we observe each letter, we can count the instances of \u001b[32m'R'\u001b[0m. In this case, the letter \u001b[32m'R'\u001b[0m appears three times: once \n",
       "in the third position, once in the seventh position, and once in the eighth position of the word. Therefore, the \n",
       "total count of \u001b[32m'R'\u001b[0ms is \u001b[1;36m3\u001b[0m.\n"
      ]
     },
     "metadata": {},
     "output_type": "display_data"
    },
    {
     "data": {
      "text/html": [
       "<pre style=\"white-space:pre;overflow-x:auto;line-height:normal;font-family:Menlo,'DejaVu Sans Mono',consolas,'Courier New',monospace\"><span style=\"color: #008080; text-decoration-color: #008080; font-weight: bold\">3</span>\n",
       "</pre>\n"
      ],
      "text/plain": [
       "\u001b[1;36m3\u001b[0m\n"
      ]
     },
     "metadata": {},
     "output_type": "display_data"
    }
   ],
   "source": [
    "meta_agent_system = MetaAgentSystem(llm)\n",
    "\n",
    "# Define the initial task\n",
    "initial_task = \"\"\"How many R's are there in  the word \"STRAWBERRY\"?\"\"\"\n",
    "\n",
    "# Define the answer schema\n",
    "class Answer(BaseModel):\n",
    "    explanation: str = Field(..., description=\"Detailed explanation for the solution.\")\n",
    "    answer: str = Field(..., description=\"final answer\")\n",
    "\n",
    "# initial_task = \"\"\"\n",
    "# Answer the following multiple-choice question. Provide your final answer as 'A', 'B', 'C', or 'D', followed by a brief explanation.\\n\\nQuestion: Particles are collided at the center of a spherical detector producing new type of particles that travel uninterrupted at ultra-relativistic velocities highly centered around Lorentz factor of ~20. On average, one third of these fast-decaying particles reaches the detector inner walls. \\nThe radius of the detector is 30 meters.\\n\\nWhat Lorentz factor is needed in order to have about two thirds of these particles reaching the detector inner walls?\\n\\nOptions:\\nA. 54\\nB. 40\\nC. 28\\nD. 68\\n\\nAnswer (A/B/C/D/Uncertain)\n",
    "        \n",
    "# \"\"\"\n",
    "\n",
    "\n",
    "# Set the number of meta-agent levels\n",
    "n = 2\n",
    "\n",
    "# Run the meta-agent system\n",
    "final_result = meta_agent_system.create_meta_agents(n, initial_task, Answer)\n",
    "\n",
    "# Print the final result\n",
    "print(\"Final Result:\")\n",
    "print(final_result.explanation)\n",
    "print(final_result.answer)"
   ]
  }
 ],
 "metadata": {
  "kernelspec": {
   "display_name": "Python 3",
   "language": "python",
   "name": "python3"
  },
  "language_info": {
   "codemirror_mode": {
    "name": "ipython",
    "version": 3
   },
   "file_extension": ".py",
   "mimetype": "text/x-python",
   "name": "python",
   "nbconvert_exporter": "python",
   "pygments_lexer": "ipython3",
   "version": "3.10.14"
  }
 },
 "nbformat": 4,
 "nbformat_minor": 2
}
