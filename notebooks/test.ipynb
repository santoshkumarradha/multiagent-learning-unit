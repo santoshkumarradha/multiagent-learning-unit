{
 "cells": [
  {
   "cell_type": "code",
   "execution_count": 1,
   "metadata": {},
   "outputs": [],
   "source": [
    "import sys; sys.path.append('../')"
   ]
  },
  {
   "cell_type": "code",
   "execution_count": 2,
   "metadata": {},
   "outputs": [],
   "source": [
    "open_ai_api= open(\"../openai_api_key.key\", \"r\").read()\n",
    "from agents import Agent, OpenAIChatGPT, set_global_llm, set_live_verbosity\n",
    "\n",
    "set_live_verbosity(2)\n",
    "openai_llm = OpenAIChatGPT(\n",
    "    api_key=open_ai_api,\n",
    "    model=\"gpt-4o-mini\",\n",
    "    temperature=0.7,\n",
    "    top_p=0.9,\n",
    "    max_tokens=2000\n",
    ")\n",
    "\n",
    "set_global_llm(openai_llm)"
   ]
  },
  {
   "cell_type": "code",
   "execution_count": 3,
   "metadata": {},
   "outputs": [
    {
     "name": "stderr",
     "output_type": "stream",
     "text": [
      "/Users/voldemort/Desktop/personal_projects/arc-mlu/notebooks/../notebooks/arc_helper.py:103: UserWarning: This figure includes Axes that are not compatible with tight_layout, so results might be incorrect.\n",
      "  plt.tight_layout()\n"
     ]
    },
    {
     "data": {
      "image/png": "[encoded data removed]",
      "text/plain": [
       "<Figure size 800x800 with 8 Axes>"
      ]
     },
     "metadata": {},
     "output_type": "display_data"
    }
   ],
   "source": [
    "from notebooks.arc_helper import (convert_json_format, generate_string,\n",
    "                                  plot_sample_matrices)\n",
    "\n",
    "directory = \"./ARC-800-tasks/training\"  # Change this to your actual directory path\n",
    "converted_data = convert_json_format(directory)\n",
    "data=generate_string(converted_data)\n",
    "plot_sample_matrices(converted_data[4])"
   ]
  },
  {
   "cell_type": "code",
   "execution_count": 4,
   "metadata": {},
   "outputs": [
    {
     "name": "stderr",
     "output_type": "stream",
     "text": [
      "/opt/homebrew/Caskroom/miniconda/base/envs/voice-clone/lib/python3.10/site-packages/sentence_transformers/cross_encoder/CrossEncoder.py:11: TqdmExperimentalWarning: Using `tqdm.autonotebook.tqdm` in notebook mode. Use `tqdm.tqdm` instead to force console mode (e.g. in jupyter console)\n",
      "  from tqdm.autonotebook import tqdm, trange\n"
     ]
    }
   ],
   "source": [
    "from mlu import MLU\n",
    "\n",
    "mlu = MLU(main_role=\"\"\"\n",
    "                    The goal is to construct the output grid(s) corresponding to the test input grid(s), \n",
    "                    using 3 trials for each test input. 'Constructing the output grid' involves picking \n",
    "                    the height and width of the output grid, then filling each cell in the grid with a symbol \n",
    "                    (integer between 0 and 9, which are visualized as colors). Learn to figure out the \n",
    "                    transformation rules and logic of image(matrix) from few given examples and apply it \n",
    "                    to the final test image(matrix). Analyze the given examples and predict the final \n",
    "                    image(matrix) for the given test image(matrix) and understand how to learn the \n",
    "                    transformation rules and logic of image(matrix) from few given examples to apply it \n",
    "                    to the final test image(matrix).\n",
    "                    \"\"\",\n",
    "    collection_name=\"knowledge_base_v-0.1\",\n",
    "    compress_knowledge=True,\n",
    "    retrival_limit=15,\n",
    ")"
   ]
  },
  {
   "cell_type": "code",
   "execution_count": 5,
   "metadata": {},
   "outputs": [
    {
     "name": "stdout",
     "output_type": "stream",
     "text": [
      "\n",
      "Starting Epoch 1\n",
      "\n"
     ]
    },
    {
     "name": "stderr",
     "output_type": "stream",
     "text": [
      "Training:   0%|\u001b[32m          \u001b[0m| 0/10 [00:00<?, ?it/s]"
     ]
    },
    {
     "name": "stdout",
     "output_type": "stream",
     "text": [
      "Response is not parsable\n",
      "DTW Score: 0.0\n"
     ]
    },
    {
     "data": {
      "image/png": "[encoded data removed]",
      "text/plain": [
       "<Figure size 640x480 with 3 Axes>"
      ]
     },
     "metadata": {},
     "output_type": "display_data"
    },
    {
     "name": "stderr",
     "output_type": "stream",
     "text": [
      "Training:  10%|\u001b[32m█         \u001b[0m| 1/10 [02:12<19:54, 132.69s/it]Number of requested results 15 is greater than number of elements in index 6, updating n_results = 6\n"
     ]
    }
   ],
   "source": [
    "from train_test_helper import train_and_evaluate\n",
    "\n",
    "from logical_agents import logic_concept_reasoning_network\n",
    "\n",
    "reasoning_iterations=4\n",
    "reasoning_agent=lambda prompt,input: logic_concept_reasoning_network(f\"{prompt}\\n{input}\", max_iterations=reasoning_iterations)\n",
    "\n",
    "set_live_verbosity(0)\n",
    "\n",
    "n = 10 # 10 \n",
    "import random\n",
    "\n",
    "selected_data = random.sample(data, n)\n",
    "\n",
    "results, train_dtw_scores, test_dtw_scores=train_and_evaluate(\n",
    "    dataset=selected_data,  \n",
    "    mlu=mlu,\n",
    "    prompt_key=\"query\",\n",
    "    response_key=\"reply\",\n",
    "    epochs=1,\n",
    "    test_size=0,\n",
    "    train_batch_size=1,\n",
    "    test_batch_size=1,\n",
    "    initial_serial_items=1,\n",
    "    logging=True,\n",
    "    training_analysis_agent = reasoning_agent,\n",
    "    testing_analysis_agent = reasoning_agent,\n",
    ")"
   ]
  },
  {
   "cell_type": "code",
   "execution_count": null,
   "metadata": {},
   "outputs": [],
   "source": [
    "print(train_dtw_scores, test_dtw_scores)"
   ]
  }
 ],
 "metadata": {
  "kernelspec": {
   "display_name": "voice-clone",
   "language": "python",
   "name": "python3"
  },
  "language_info": {
   "codemirror_mode": {
    "name": "ipython",
    "version": 3
   },
   "file_extension": ".py",
   "mimetype": "text/x-python",
   "name": "python",
   "nbconvert_exporter": "python",
   "pygments_lexer": "ipython3",
   "version": "3.10.13"
  }
 },
 "nbformat": 4,
 "nbformat_minor": 2
}
