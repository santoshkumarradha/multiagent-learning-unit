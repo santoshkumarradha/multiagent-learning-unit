{
 "cells": [
  {
   "cell_type": "code",
   "execution_count": 1,
   "metadata": {},
   "outputs": [],
   "source": [
    "import sys; sys.path.append('../')"
   ]
  },
  {
   "cell_type": "code",
   "execution_count": 2,
   "metadata": {},
   "outputs": [],
   "source": [
    "open_ai_api= open(\"../openai_api_key.key\", \"r\").read()\n",
    "from agents import Agent, OpenAIChatGPT, set_global_llm, set_live_verbosity\n",
    "\n",
    "set_live_verbosity(2)\n",
    "openai_llm = OpenAIChatGPT(\n",
    "    api_key=open_ai_api,\n",
    "    model=\"gpt-4o-mini\",\n",
    "    temperature=0.7,\n",
    "    top_p=0.9,\n",
    "    max_tokens=2000\n",
    ")\n",
    "\n",
    "set_global_llm(openai_llm)"
   ]
  },
  {
   "cell_type": "code",
   "execution_count": 3,
   "metadata": {},
   "outputs": [
    {
     "name": "stderr",
     "output_type": "stream",
     "text": [
      "/Users/voldemort/Desktop/personal_projects/arc-mlu/notebooks/../notebooks/arc_helper.py:103: UserWarning: This figure includes Axes that are not compatible with tight_layout, so results might be incorrect.\n",
      "  plt.tight_layout()\n"
     ]
    },
    {
     "data": {
      "image/png": "[encoded data removed]",
      "text/plain": [
       "<Figure size 800x800 with 8 Axes>"
      ]
     },
     "metadata": {},
     "output_type": "display_data"
    }
   ],
   "source": [
    "from notebooks.arc_helper import (convert_json_format, generate_string,\n",
    "                                  plot_sample_matrices)\n",
    "\n",
    "directory = \"./ARC-800-tasks/training\"  # Change this to your actual directory path\n",
    "converted_data = convert_json_format(directory)\n",
    "data=generate_string(converted_data)\n",
    "plot_sample_matrices(converted_data[4])"
   ]
  },
  {
   "cell_type": "code",
   "execution_count": 4,
   "metadata": {},
   "outputs": [],
   "source": [
    "from mlu import MLU\n",
    "\n",
    "mlu = MLU(main_role=\"\"\"\n",
    "                    The goal is to construct the output grid(s) corresponding to the test input grid(s), \n",
    "                    using 3 trials for each test input. 'Constructing the output grid' involves picking \n",
    "                    the height and width of the output grid, then filling each cell in the grid with a symbol \n",
    "                    (integer between 0 and 9, which are visualized as colors). Learn to figure out the \n",
    "                    transformation rules and logic of image(matrix) from few given examples and apply it \n",
    "                    to the final test image(matrix). Analyze the given examples and predict the final \n",
    "                    image(matrix) for the given test image(matrix) and understand how to learn the \n",
    "                    transformation rules and logic of image(matrix) from few given examples to apply it \n",
    "                    to the final test image(matrix).\n",
    "                    \"\"\",\n",
    "    collection_name=\"knowledge_base_v-0.1\",\n",
    "    compress_knowledge=True,\n",
    "    retrival_limit=15,\n",
    ")"
   ]
  },
  {
   "cell_type": "code",
   "execution_count": null,
   "metadata": {},
   "outputs": [
    {
     "name": "stdout",
     "output_type": "stream",
     "text": [
      "\n",
      "Starting Epoch 1\n",
      "\n"
     ]
    },
    {
     "name": "stderr",
     "output_type": "stream",
     "text": [
      "Training:   0%|\u001b[32m          \u001b[0m| 0/10 [00:43<?, ?it/s]\n"
     ]
    },
    {
     "ename": "TypeError",
     "evalue": "'NoneType' object is not callable",
     "output_type": "error",
     "traceback": [
      "\u001b[0;31m---------------------------------------------------------------------------\u001b[0m",
      "\u001b[0;31mTypeError\u001b[0m                                 Traceback (most recent call last)",
      "Cell \u001b[0;32mIn[5], line 15\u001b[0m\n\u001b[1;32m     11\u001b[0m \u001b[38;5;28;01mimport\u001b[39;00m \u001b[38;5;21;01mrandom\u001b[39;00m\n\u001b[1;32m     13\u001b[0m selected_data \u001b[38;5;241m=\u001b[39m random\u001b[38;5;241m.\u001b[39msample(data, n)\n\u001b[0;32m---> 15\u001b[0m results, train_dtw_scores, test_dtw_scores\u001b[38;5;241m=\u001b[39m\u001b[43mtrain_and_evaluate\u001b[49m\u001b[43m(\u001b[49m\n\u001b[1;32m     16\u001b[0m \u001b[43m    \u001b[49m\u001b[43mdataset\u001b[49m\u001b[38;5;241;43m=\u001b[39;49m\u001b[43mselected_data\u001b[49m\u001b[43m,\u001b[49m\u001b[43m  \u001b[49m\n\u001b[1;32m     17\u001b[0m \u001b[43m    \u001b[49m\u001b[43mmlu\u001b[49m\u001b[38;5;241;43m=\u001b[39;49m\u001b[43mmlu\u001b[49m\u001b[43m,\u001b[49m\n\u001b[1;32m     18\u001b[0m \u001b[43m    \u001b[49m\u001b[43mprompt_key\u001b[49m\u001b[38;5;241;43m=\u001b[39;49m\u001b[38;5;124;43m\"\u001b[39;49m\u001b[38;5;124;43mquery\u001b[39;49m\u001b[38;5;124;43m\"\u001b[39;49m\u001b[43m,\u001b[49m\n\u001b[1;32m     19\u001b[0m \u001b[43m    \u001b[49m\u001b[43mresponse_key\u001b[49m\u001b[38;5;241;43m=\u001b[39;49m\u001b[38;5;124;43m\"\u001b[39;49m\u001b[38;5;124;43mreply\u001b[39;49m\u001b[38;5;124;43m\"\u001b[39;49m\u001b[43m,\u001b[49m\n\u001b[1;32m     20\u001b[0m \u001b[43m    \u001b[49m\u001b[43mepochs\u001b[49m\u001b[38;5;241;43m=\u001b[39;49m\u001b[38;5;241;43m1\u001b[39;49m\u001b[43m,\u001b[49m\n\u001b[1;32m     21\u001b[0m \u001b[43m    \u001b[49m\u001b[43mtest_size\u001b[49m\u001b[38;5;241;43m=\u001b[39;49m\u001b[38;5;241;43m0\u001b[39;49m\u001b[43m,\u001b[49m\n\u001b[1;32m     22\u001b[0m \u001b[43m    \u001b[49m\u001b[43mtrain_batch_size\u001b[49m\u001b[38;5;241;43m=\u001b[39;49m\u001b[38;5;241;43m1\u001b[39;49m\u001b[43m,\u001b[49m\n\u001b[1;32m     23\u001b[0m \u001b[43m    \u001b[49m\u001b[43mtest_batch_size\u001b[49m\u001b[38;5;241;43m=\u001b[39;49m\u001b[38;5;241;43m1\u001b[39;49m\u001b[43m,\u001b[49m\n\u001b[1;32m     24\u001b[0m \u001b[43m    \u001b[49m\u001b[43minitial_serial_items\u001b[49m\u001b[38;5;241;43m=\u001b[39;49m\u001b[38;5;241;43m1\u001b[39;49m\u001b[43m,\u001b[49m\n\u001b[1;32m     25\u001b[0m \u001b[43m    \u001b[49m\u001b[43mlogging\u001b[49m\u001b[38;5;241;43m=\u001b[39;49m\u001b[38;5;28;43;01mTrue\u001b[39;49;00m\u001b[43m,\u001b[49m\n\u001b[1;32m     26\u001b[0m \u001b[43m    \u001b[49m\u001b[43mtraining_analysis_agent\u001b[49m\u001b[43m \u001b[49m\u001b[38;5;241;43m=\u001b[39;49m\u001b[43m \u001b[49m\u001b[43mreasoning_agent\u001b[49m\u001b[43m,\u001b[49m\n\u001b[1;32m     27\u001b[0m \u001b[43m    \u001b[49m\u001b[43mtesting_analysis_agent\u001b[49m\u001b[43m \u001b[49m\u001b[38;5;241;43m=\u001b[39;49m\u001b[43m \u001b[49m\u001b[43mreasoning_agent\u001b[49m\u001b[43m,\u001b[49m\n\u001b[1;32m     28\u001b[0m \u001b[43m)\u001b[49m\n",
      "File \u001b[0;32m~/Desktop/personal_projects/arc-mlu/notebooks/train_test_helper.py:135\u001b[0m, in \u001b[0;36mtrain_and_evaluate\u001b[0;34m(dataset, mlu, prompt_key, response_key, epochs, test_size, train_batch_size, test_batch_size, initial_serial_items, logging, training_analysis_agent, testing_analysis_agent)\u001b[0m\n\u001b[1;32m    133\u001b[0m \u001b[38;5;28;01mfor\u001b[39;00m idx, item \u001b[38;5;129;01min\u001b[39;00m \u001b[38;5;28menumerate\u001b[39m(tqdm(train_data, desc\u001b[38;5;241m=\u001b[39m\u001b[38;5;124m\"\u001b[39m\u001b[38;5;124mTraining\u001b[39m\u001b[38;5;124m\"\u001b[39m, colour\u001b[38;5;241m=\u001b[39m\u001b[38;5;124m\"\u001b[39m\u001b[38;5;124mgreen\u001b[39m\u001b[38;5;124m\"\u001b[39m)):\n\u001b[1;32m    134\u001b[0m     \u001b[38;5;28;01mif\u001b[39;00m idx \u001b[38;5;241m<\u001b[39m initial_serial_items:\n\u001b[0;32m--> 135\u001b[0m         right_answer, dtw_score \u001b[38;5;241m=\u001b[39m \u001b[43mprocess_item\u001b[49m\u001b[43m(\u001b[49m\n\u001b[1;32m    136\u001b[0m \u001b[43m            \u001b[49m\u001b[43mitem\u001b[49m\u001b[43m,\u001b[49m\n\u001b[1;32m    137\u001b[0m \u001b[43m            \u001b[49m\u001b[43mmlu\u001b[49m\u001b[43m,\u001b[49m\n\u001b[1;32m    138\u001b[0m \u001b[43m            \u001b[49m\u001b[43mprompt_key\u001b[49m\u001b[43m,\u001b[49m\n\u001b[1;32m    139\u001b[0m \u001b[43m            \u001b[49m\u001b[43mresponse_key\u001b[49m\u001b[43m,\u001b[49m\n\u001b[1;32m    140\u001b[0m \u001b[43m            \u001b[49m\u001b[43mmode\u001b[49m\u001b[38;5;241;43m=\u001b[39;49m\u001b[38;5;124;43m\"\u001b[39;49m\u001b[38;5;124;43mtraining\u001b[39;49m\u001b[38;5;124;43m\"\u001b[39;49m\u001b[43m,\u001b[49m\n\u001b[1;32m    141\u001b[0m \u001b[43m            \u001b[49m\u001b[43manalysis_agent\u001b[49m\u001b[38;5;241;43m=\u001b[39;49m\u001b[43mtraining_analysis_agent\u001b[49m\u001b[43m,\u001b[49m\n\u001b[1;32m    142\u001b[0m \u001b[43m            \u001b[49m\u001b[43mlogging\u001b[49m\u001b[38;5;241;43m=\u001b[39;49m\u001b[43mlogging\u001b[49m\u001b[43m,\u001b[49m\n\u001b[1;32m    143\u001b[0m \u001b[43m        \u001b[49m\u001b[43m)\u001b[49m\n\u001b[1;32m    144\u001b[0m         train_dtw_scores\u001b[38;5;241m.\u001b[39mappend(dtw_score)\n\u001b[1;32m    145\u001b[0m         \u001b[38;5;28;01mif\u001b[39;00m right_answer:\n",
      "File \u001b[0;32m~/Desktop/personal_projects/arc-mlu/notebooks/train_test_helper.py:51\u001b[0m, in \u001b[0;36mprocess_item\u001b[0;34m(item, mlu, prompt_key, response_key, mode, analysis_agent, logging)\u001b[0m\n\u001b[1;32m     49\u001b[0m prompt \u001b[38;5;241m=\u001b[39m item[prompt_key]\n\u001b[1;32m     50\u001b[0m truth \u001b[38;5;241m=\u001b[39m item[response_key]\n\u001b[0;32m---> 51\u001b[0m reply \u001b[38;5;241m=\u001b[39m \u001b[43mmlu\u001b[49m\u001b[38;5;241;43m.\u001b[39;49m\u001b[43mcall\u001b[49m\u001b[43m(\u001b[49m\u001b[43mprompt\u001b[49m\u001b[43m,\u001b[49m\u001b[43m \u001b[49m\u001b[43mexpected_output\u001b[49m\u001b[38;5;241;43m=\u001b[39;49m\u001b[38;5;124;43mf\u001b[39;49m\u001b[38;5;124;43m\"\u001b[39;49m\u001b[38;5;132;43;01m{\u001b[39;49;00m\u001b[43mtruth\u001b[49m\u001b[38;5;132;43;01m}\u001b[39;49;00m\u001b[38;5;124;43m\"\u001b[39;49m\u001b[43m,\u001b[49m\u001b[43m \u001b[49m\u001b[43mmode\u001b[49m\u001b[38;5;241;43m=\u001b[39;49m\u001b[43mmode\u001b[49m\u001b[43m)\u001b[49m\n\u001b[1;32m     53\u001b[0m response \u001b[38;5;241m=\u001b[39m {\n\u001b[1;32m     54\u001b[0m     \u001b[38;5;124m\"\u001b[39m\u001b[38;5;124mresponse\u001b[39m\u001b[38;5;124m\"\u001b[39m: reply[\u001b[38;5;124m\"\u001b[39m\u001b[38;5;124mresponse\u001b[39m\u001b[38;5;124m\"\u001b[39m],\n\u001b[1;32m     55\u001b[0m     \u001b[38;5;124m\"\u001b[39m\u001b[38;5;124mright_answer\u001b[39m\u001b[38;5;124m\"\u001b[39m: reply[\u001b[38;5;124m\"\u001b[39m\u001b[38;5;124mright_answer\u001b[39m\u001b[38;5;124m\"\u001b[39m],\n\u001b[1;32m     56\u001b[0m     \u001b[38;5;124m\"\u001b[39m\u001b[38;5;124mknowledge_base\u001b[39m\u001b[38;5;124m\"\u001b[39m: reply\u001b[38;5;241m.\u001b[39mget(\u001b[38;5;124m\"\u001b[39m\u001b[38;5;124mknowledge_update\u001b[39m\u001b[38;5;124m\"\u001b[39m, \u001b[38;5;124m\"\u001b[39m\u001b[38;5;124mNo knowledge added\u001b[39m\u001b[38;5;124m\"\u001b[39m),\n\u001b[1;32m     57\u001b[0m }\n\u001b[1;32m     59\u001b[0m dtw_score \u001b[38;5;241m=\u001b[39m \u001b[38;5;28;01mNone\u001b[39;00m\n",
      "File \u001b[0;32m~/Desktop/personal_projects/arc-mlu/notebooks/../mlu/mlu.py:391\u001b[0m, in \u001b[0;36mMLU.call\u001b[0;34m(self, task, expected_output, mode, prune_after, **kwargs)\u001b[0m\n\u001b[1;32m    384\u001b[0m oa_input \u001b[38;5;241m=\u001b[39m \u001b[38;5;124mf\u001b[39m\u001b[38;5;124m\"\"\"\u001b[39m\n\u001b[1;32m    385\u001b[0m \u001b[38;5;124mTask: \u001b[39m\u001b[38;5;132;01m{\u001b[39;00mtask\u001b[38;5;132;01m}\u001b[39;00m\n\u001b[1;32m    386\u001b[0m \u001b[38;5;124mRelevant Knowledge: \u001b[39m\u001b[38;5;132;01m{\u001b[39;00mgeneral_knowledge_str\u001b[38;5;132;01m}\u001b[39;00m\n\u001b[1;32m    387\u001b[0m \n\u001b[1;32m    388\u001b[0m \u001b[38;5;124mUse the above relevant knowledge to inform your response. If no relevant knowledge is provided, rely on your general understanding.\u001b[39m\n\u001b[1;32m    389\u001b[0m \u001b[38;5;124m\u001b[39m\u001b[38;5;124m\"\"\"\u001b[39m\n\u001b[1;32m    390\u001b[0m \u001b[38;5;28mself\u001b[39m\u001b[38;5;241m.\u001b[39mcreate_operational_agent(generated_prompt)\n\u001b[0;32m--> 391\u001b[0m oa_response \u001b[38;5;241m=\u001b[39m \u001b[38;5;28;43mself\u001b[39;49m\u001b[38;5;241;43m.\u001b[39;49m\u001b[43moperational_agent\u001b[49m\u001b[43m(\u001b[49m\n\u001b[1;32m    392\u001b[0m \u001b[43m    \u001b[49m\u001b[43moa_input\u001b[49m\u001b[43m,\u001b[49m\n\u001b[1;32m    393\u001b[0m \u001b[43m\u001b[49m\u001b[43m)\u001b[49m\n\u001b[1;32m    395\u001b[0m right_answer \u001b[38;5;241m=\u001b[39m \u001b[38;5;28;01mNone\u001b[39;00m  \u001b[38;5;66;03m# need to return the right answer from the feedback agent and add it. we essentially compare ans to output only in training step when expected output is given.\u001b[39;00m\n\u001b[1;32m    396\u001b[0m \u001b[38;5;28;01mif\u001b[39;00m mode \u001b[38;5;241m==\u001b[39m \u001b[38;5;124m\"\u001b[39m\u001b[38;5;124mtraining\u001b[39m\u001b[38;5;124m\"\u001b[39m:\n",
      "\u001b[0;31mTypeError\u001b[0m: 'NoneType' object is not callable"
     ]
    }
   ],
   "source": [
    "from train_test_helper import train_and_evaluate\n",
    "\n",
    "from logical_agents import logic_concept_reasoning_network\n",
    "\n",
    "reasoning_iterations=4\n",
    "reasoning_agent=lambda prompt: logic_concept_reasoning_network(f\"{prompt}\", max_iterations=reasoning_iterations)\n",
    "\n",
    "set_live_verbosity(0)\n",
    "\n",
    "n = 10 # 10 \n",
    "import random\n",
    "\n",
    "selected_data = random.sample(data, n)\n",
    "\n",
    "results, train_dtw_scores, test_dtw_scores=train_and_evaluate(\n",
    "    dataset=selected_data,  \n",
    "    mlu=mlu,\n",
    "    prompt_key=\"query\",\n",
    "    response_key=\"reply\",\n",
    "    epochs=1,\n",
    "    test_size=0,\n",
    "    train_batch_size=1,\n",
    "    test_batch_size=1,\n",
    "    initial_serial_items=1,\n",
    "    logging=True,\n",
    "    training_analysis_agent = reasoning_agent,\n",
    "    testing_analysis_agent = reasoning_agent,\n",
    ")"
   ]
  },
  {
   "cell_type": "code",
   "execution_count": null,
   "metadata": {},
   "outputs": [],
   "source": [
    "print(train_dtw_scores, test_dtw_scores)"
   ]
  }
 ],
 "metadata": {
  "kernelspec": {
   "display_name": "voice-clone",
   "language": "python",
   "name": "python3"
  },
  "language_info": {
   "codemirror_mode": {
    "name": "ipython",
    "version": 3
   },
   "file_extension": ".py",
   "mimetype": "text/x-python",
   "name": "python",
   "nbconvert_exporter": "python",
   "pygments_lexer": "ipython3",
   "version": "3.10.13"
  }
 },
 "nbformat": 4,
 "nbformat_minor": 2
}
