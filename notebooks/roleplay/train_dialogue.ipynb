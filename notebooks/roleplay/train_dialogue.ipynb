{
 "cells": [
  {
   "cell_type": "code",
   "execution_count": 1,
   "metadata": {},
   "outputs": [],
   "source": [
    "import sys;sys.path.append('../../')\n",
    "import os\n",
    "\n",
    "from rich import print\n",
    "\n",
    "openai_key=open('../../openai.key').read().strip()\n",
    "os.environ['OPENAI_API_KEY'] = openai_key\n",
    "\n",
    "from multi_agent_llm import OpenAILLM\n",
    "from multi_agent_llm.agents.clu.split_clu import CLU\n",
    "\n",
    "llm = OpenAILLM(model_name=\"gpt-4o-mini\")"
   ]
  },
  {
   "cell_type": "code",
   "execution_count": 2,
   "metadata": {},
   "outputs": [],
   "source": [
    "import json\n",
    "\n",
    "import pandas as pd\n",
    "\n",
    "\n",
    "# Function to load JSONL file into a pandas DataFrame\n",
    "def load_jsonl_to_dataframe(file_path: str) -> pd.DataFrame:\n",
    "    \"\"\"\n",
    "    Load the JSONL file and return a pandas DataFrame with dialogue content.\n",
    "    \"\"\"\n",
    "    records = []\n",
    "    with open(file_path, 'r') as f:\n",
    "        for line in f:\n",
    "            records.append(json.loads(line.strip()))\n",
    "    return pd.DataFrame(records)\n",
    "\n",
    "# Function to extract surrounding dialogues\n",
    "def get_surrounding_dialogues(df: pd.DataFrame, character: str, n: int, min_dialogue_words: int = 0, change_char_name='Character A') -> list:\n",
    "    dialogue_list = []\n",
    "    \n",
    "    # Loop over the DataFrame to find instances where the character speaks\n",
    "    for idx, row in df.iterrows():\n",
    "        if row['role'] == character:\n",
    "            # Check if the character's dialogue meets the minimum word count\n",
    "            if len(row['content'].split()) >= min_dialogue_words:\n",
    "                # Extract the surrounding context\n",
    "                start_idx = max(0, idx - n)  # Ensure we don't go out of bounds\n",
    "                end_idx = min(len(df), idx + n + 1)\n",
    "                \n",
    "                # Get the dialogues around this instance, ensuring to make a copy to avoid SettingWithCopyWarning\n",
    "                surrounding_dialogues = df.iloc[start_idx:end_idx].copy()\n",
    "                \n",
    "                # Replace the character's name with the new name\n",
    "                surrounding_dialogues['role'] = surrounding_dialogues['role'].replace(character, change_char_name)\n",
    "                \n",
    "                # Concatenate the role and content into a single string for each dialogue\n",
    "                dialogue_string = \"\\n\".join([f\"{row['role']}: {row['content']}\" for _, row in surrounding_dialogues.iterrows()])\n",
    "                \n",
    "                #Replace the character's name with the new name everywhere in the dialogue string\n",
    "                dialogue_string.replace(character, change_char_name)\n",
    "                # Append to the list\n",
    "                dialogue_list.append(dialogue_string)\n",
    "    \n",
    "    return dialogue_list\n",
    "\n",
    "# Load the JSONL data into a DataFrame\n",
    "file_path = './profiles-eng_profiles-eng-Sheldon Cooper.jsonl'\n",
    "df = load_jsonl_to_dataframe(file_path)"
   ]
  },
  {
   "cell_type": "code",
   "execution_count": null,
   "metadata": {},
   "outputs": [],
   "source": [
    "# Get dialogues surrounding \"Sheldon Cooper\" (replaced by \"Character A\") with 1 dialogue above and below\n",
    "n = 6\n",
    "character = 'Sheldon Cooper'\n",
    "change_char_name='Character A'\n",
    "surrounding_dialogues = get_surrounding_dialogues(df, character, n,min_dialogue_words=5,change_char_name=change_char_name)\n",
    "print(len(surrounding_dialogues))\n",
    "print(surrounding_dialogues[0])"
   ]
  },
  {
   "cell_type": "code",
   "execution_count": 4,
   "metadata": {},
   "outputs": [],
   "source": [
    "main_role = f\"\"\"\n",
    "You are tasked with fully learning about and embodying the character: {change_char_name}. Your goal is to gather and store all the necessary knowledge, traits, quirks, and behavioral patterns to act as a perfect surrogate for {change_char_name}. You must become a digital twin of the character, replicating their style, tone, personality, and decision-making process in every interaction.\n",
    "\n",
    "Key objectives:\n",
    "- Study and memorize {change_char_name}'s speech patterns, favorite phrases, and unique quirks.\n",
    "- Analyze their emotional tone, typical responses, and communication style, including how they answer questions or engage in dialogue.\n",
    "- Capture the character's personality traits, values, knowledge, and background to ensure you can act exactly like {change_char_name}.\n",
    "- Learn and store all relevant information so that you can consistently respond and behave as {change_char_name} would, even in new or unfamiliar situations.\n",
    "- Adapt your responses to always match {change_char_name}'s characteristics, ensuring consistency in tone, mannerisms, and approach to problems.\n",
    "\n",
    "Your ultimate goal is to become a fully realized digital twin of {change_char_name}, capable of acting as a perfect surrogate in any scenario or interaction.\n",
    "\"\"\"\n"
   ]
  },
  {
   "cell_type": "code",
   "execution_count": 7,
   "metadata": {},
   "outputs": [],
   "source": [
    "clu = CLU(main_role=main_role,\n",
    "    collection_name=\"role-play-digital-twin-v2-dialogue\",#\"role-play-v1-dialogue\"(Holds the speaking style)\n",
    "    compress_knowledge=False,\n",
    "    retrival_limit=15,\n",
    "    llm=llm,\n",
    "    pruning_queue_size=3,\n",
    "    exploration_rate=0.01,\n",
    "    verbose=False,\n",
    ")"
   ]
  },
  {
   "cell_type": "code",
   "execution_count": null,
   "metadata": {},
   "outputs": [],
   "source": [
    "for _ in range(6):\n",
    "    from random import randint\n",
    "    data_num=randint(0,len(surrounding_dialogues))\n",
    "    response=clu.train(task=surrounding_dialogues[data_num])\n",
    "    print(f\"Data{surrounding_dialogues[data_num]}\\nCLU Answer: {response['response']}\")"
   ]
  },
  {
   "cell_type": "code",
   "execution_count": null,
   "metadata": {},
   "outputs": [],
   "source": [
    "response=clu.inference(f\"What kind of a person is {change_char_name}, tell me in detail how his digital twin should behave and talk?\")\n",
    "print(response['response'])"
   ]
  }
 ],
 "metadata": {
  "kernelspec": {
   "display_name": "Python 3",
   "language": "python",
   "name": "python3"
  },
  "language_info": {
   "codemirror_mode": {
    "name": "ipython",
    "version": 3
   },
   "file_extension": ".py",
   "mimetype": "text/x-python",
   "name": "python",
   "nbconvert_exporter": "python",
   "pygments_lexer": "ipython3",
   "version": "3.10.14"
  }
 },
 "nbformat": 4,
 "nbformat_minor": 2
}
