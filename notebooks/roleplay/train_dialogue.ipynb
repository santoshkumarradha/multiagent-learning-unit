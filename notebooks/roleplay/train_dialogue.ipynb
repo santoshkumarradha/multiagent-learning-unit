{
 "cells": [
  {
   "cell_type": "code",
   "execution_count": 1,
   "metadata": {},
   "outputs": [],
   "source": [
    "import sys;sys.path.append('../../')\n",
    "import os\n",
    "\n",
    "from rich import print\n",
    "\n",
    "openai_key=open('../../openai.key').read().strip()\n",
    "os.environ['OPENAI_API_KEY'] = openai_key\n",
    "\n",
    "from multi_agent_llm import OpenAILLM\n",
    "from multi_agent_llm.agents.clu.split_clu import CLU\n",
    "\n",
    "llm = OpenAILLM(model_name=\"gpt-4o-mini\")"
   ]
  },
  {
   "cell_type": "code",
   "execution_count": 2,
   "metadata": {},
   "outputs": [],
   "source": [
    "import json\n",
    "\n",
    "import pandas as pd\n",
    "\n",
    "\n",
    "# Function to load JSONL file into a pandas DataFrame\n",
    "def load_jsonl_to_dataframe(file_path: str) -> pd.DataFrame:\n",
    "    \"\"\"\n",
    "    Load the JSONL file and return a pandas DataFrame with dialogue content.\n",
    "    \"\"\"\n",
    "    records = []\n",
    "    with open(file_path, 'r') as f:\n",
    "        for line in f:\n",
    "            records.append(json.loads(line.strip()))\n",
    "    return pd.DataFrame(records)\n",
    "\n",
    "# Function to extract surrounding dialogues\n",
    "def get_surrounding_dialogues(df: pd.DataFrame, character: str, n: int, min_dialogue_words: int = 0, change_char_name='Character A') -> list:\n",
    "    dialogue_list = []\n",
    "    \n",
    "    # Loop over the DataFrame to find instances where the character speaks\n",
    "    for idx, row in df.iterrows():\n",
    "        if row['role'] == character:\n",
    "            # Check if the character's dialogue meets the minimum word count\n",
    "            if len(row['content'].split()) >= min_dialogue_words:\n",
    "                # Extract the surrounding context\n",
    "                start_idx = max(0, idx - n)  # Ensure we don't go out of bounds\n",
    "                end_idx = min(len(df), idx + n + 1)\n",
    "                \n",
    "                # Get the dialogues around this instance, ensuring to make a copy to avoid SettingWithCopyWarning\n",
    "                surrounding_dialogues = df.iloc[start_idx:end_idx].copy()\n",
    "                \n",
    "                # Replace the character's name with the new name\n",
    "                surrounding_dialogues['role'] = surrounding_dialogues['role'].replace(character, change_char_name)\n",
    "                \n",
    "                # Concatenate the role and content into a single string for each dialogue\n",
    "                dialogue_string = \"\\n\".join([f\"{row['role']}: {row['content']}\" for _, row in surrounding_dialogues.iterrows()])\n",
    "                \n",
    "                #Replace the character's name with the new name everywhere in the dialogue string\n",
    "                dialogue_string.replace(character, change_char_name)\n",
    "                # Append to the list\n",
    "                dialogue_list.append(dialogue_string)\n",
    "    \n",
    "    return dialogue_list\n",
    "\n",
    "# Load the JSONL data into a DataFrame\n",
    "file_path = './profiles-eng_profiles-eng-Sheldon Cooper.jsonl'\n",
    "df = load_jsonl_to_dataframe(file_path)"
   ]
  },
  {
   "cell_type": "code",
   "execution_count": null,
   "metadata": {},
   "outputs": [],
   "source": [
    "# Get dialogues surrounding \"Sheldon Cooper\" (replaced by \"Character A\") with 1 dialogue above and below\n",
    "n = 6\n",
    "character = 'Sheldon Cooper'\n",
    "change_char_name='Character A'\n",
    "surrounding_dialogues = get_surrounding_dialogues(df, character, n,min_dialogue_words=5,change_char_name=change_char_name)\n",
    "print(len(surrounding_dialogues))\n",
    "print(surrounding_dialogues[0])"
   ]
  },
  {
   "cell_type": "code",
   "execution_count": 4,
   "metadata": {},
   "outputs": [],
   "source": [
    "main_role=f\"\"\"You are tasked with learning how to fully embody and role-play as a given character. Your goal is to imitate their style, quirks, tone, and language choices as accurately as possible. Pay attention to how they answer questions, including their sentence structure, favorite phrases, emotional tone, and any unique quirks in their responses. You will be shown examples of how the character answers questions, and your job is to generate answers that match these patterns.\n",
    "\n",
    "Key objectives:\n",
    "Understand and imitate the character's style of speaking.\n",
    "Learn to use the character's specific words, phrases, and mannerisms.\n",
    "Pay attention to the emotional tone, cadence, and quirks in the way they express themselves.\n",
    "Adapt your responses to be consistent with the character’s knowledge, background, and personality traits.\n",
    "Your responses should always aim to reflect these characteristics as you take on the role of the digital twin of the character.\n",
    "\n",
    "Character to embody: {change_char_name}\n",
    "\"\"\""
   ]
  },
  {
   "cell_type": "code",
   "execution_count": 5,
   "metadata": {},
   "outputs": [],
   "source": [
    "clu = CLU(main_role=main_role,\n",
    "    collection_name=\"role-play-v1-dialogue\",\n",
    "    compress_knowledge=False,\n",
    "    retrival_limit=15,\n",
    "    llm=llm,\n",
    "    pruning_queue_size=3,\n",
    "    exploration_rate=0.01,\n",
    "    verbose=False,\n",
    ")"
   ]
  },
  {
   "cell_type": "code",
   "execution_count": null,
   "metadata": {},
   "outputs": [],
   "source": [
    "for _ in range(6):\n",
    "    from random import randint\n",
    "    data_num=randint(0,len(surrounding_dialogues))\n",
    "    response=clu.train(task=surrounding_dialogues[data_num])\n",
    "    print(f\"Data{surrounding_dialogues[data_num]}\\nCLU Answer: {response['response']}\")"
   ]
  },
  {
   "cell_type": "code",
   "execution_count": null,
   "metadata": {},
   "outputs": [],
   "source": [
    "response=clu.inference(f\"What kind of a person is {change_char_name}, tell me in detail how his digital twin should behave and talk?\")\n",
    "print(response['response'])"
   ]
  }
 ],
 "metadata": {
  "kernelspec": {
   "display_name": "Python 3",
   "language": "python",
   "name": "python3"
  },
  "language_info": {
   "codemirror_mode": {
    "name": "ipython",
    "version": 3
   },
   "file_extension": ".py",
   "mimetype": "text/x-python",
   "name": "python",
   "nbconvert_exporter": "python",
   "pygments_lexer": "ipython3",
   "version": "3.10.14"
  }
 },
 "nbformat": 4,
 "nbformat_minor": 2
}
