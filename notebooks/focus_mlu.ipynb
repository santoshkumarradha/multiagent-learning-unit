{
 "cells": [
  {
   "cell_type": "code",
   "execution_count": null,
   "metadata": {},
   "outputs": [],
   "source": [
    "import sys; sys.path.append('../')"
   ]
  },
  {
   "cell_type": "code",
   "execution_count": null,
   "metadata": {},
   "outputs": [],
   "source": [
    "open_ai_api= open(\"../openai_api_key.key\", \"r\").read()\n",
    "from agents import Agent, OpenAIChatGPT, set_global_llm, set_live_verbosity\n",
    "\n",
    "set_live_verbosity(0)\n",
    "openai_llm = OpenAIChatGPT(\n",
    "    api_key=open_ai_api,\n",
    "    model=\"gpt-4o-mini\",\n",
    "    max_tokens=5000\n",
    ")\n",
    "\n",
    "set_global_llm(openai_llm)"
   ]
  },
  {
   "cell_type": "code",
   "execution_count": null,
   "metadata": {},
   "outputs": [],
   "source": [
    "from notebooks.arc_helper import (convert_json_format, generate_string,\n",
    "                                  plot_sample_matrices)\n",
    "\n",
    "directory = \"./ARC-800-tasks/training\"  # Change this to your actual directory path\n",
    "converted_data = convert_json_format(directory)\n",
    "data=generate_string(converted_data)\n",
    "plot_sample_matrices(converted_data[4])"
   ]
  },
  {
   "cell_type": "code",
   "execution_count": null,
   "metadata": {},
   "outputs": [],
   "source": [
    "from mlu import MLUFocus,MLU\n",
    "\n",
    "mlu = MLUFocus(main_role=\"\"\"\n",
    "                    The goal is to construct the output grid(s) corresponding to the test input grid(s), \n",
    "                    using 3 trials for each test input. 'Constructing the output grid' involves picking \n",
    "                    the height and width of the output grid, then filling each cell in the grid with a symbol \n",
    "                    (integer betwe\n",
    "                    en 0 and 9, which are visualized as colors). Learn to figure out the \n",
    "                    transformation rules and logic of image(matrix) from few given examples and apply it \n",
    "                    to the final test image(matrix). Analyze the given examples and predict the final \n",
    "                    image(matrix) for the given test image(matrix) and understand how to learn the spatial \n",
    "                    transformation rules, logic, pattern and concept of image(matrix) from few given examples to apply it \n",
    "                    to the final test image(matrix).\n",
    "                    \"\"\",\n",
    "    collection_name=\"knowledge_base_v-0.6.trail1\",#\"knowledge_base_v-0.4-focus.trail1\",\n",
    "    compress_knowledge=False,\n",
    "    retrival_limit=15,\n",
    ")"
   ]
  },
  {
   "cell_type": "code",
   "execution_count": 5,
   "metadata": {},
   "outputs": [],
   "source": [
    "from train_test_helper import train_and_evaluate\n",
    "\n",
    "from logical_agents import (logic_concept_reasoning_network,\n",
    "                            pattern_based_logical_reasoning_network)\n",
    "\n",
    "reasoning_iterations=4\n",
    "reasoning_agent=lambda prompt,input: pattern_based_logical_reasoning_network(f\"{prompt}\\n{input}\", max_iterations=reasoning_iterations)\n",
    "# reasoning_agent=None\n",
    "set_live_verbosity(0)\n",
    "\n",
    "n = 100\n",
    "import random\n",
    "\n",
    "selected_data = random.sample(data, n)\n",
    "\n",
    "results, train_dtw_scores, test_dtw_scores=train_and_evaluate(\n",
    "    dataset=selected_data,  \n",
    "    mlu=mlu,\n",
    "    prompt_key=\"query\",\n",
    "    response_key=\"reply\",\n",
    "    epochs=1,\n",
    "    test_size=0,\n",
    "    train_batch_size=1,\n",
    "    test_batch_size=1,\n",
    "    initial_serial_items=1,\n",
    "    logging=True,\n",
    "    training_analysis_agent = reasoning_agent,\n",
    "    testing_analysis_agent = reasoning_agent,\n",
    ")"
   ]
  },
  {
   "cell_type": "code",
   "execution_count": null,
   "metadata": {},
   "outputs": [],
   "source": [
    "mlu.print_knowledge_base()"
   ]
  }
 ],
 "metadata": {
  "kernelspec": {
   "display_name": "voice-clone",
   "language": "python",
   "name": "python3"
  },
  "language_info": {
   "codemirror_mode": {
    "name": "ipython",
    "version": 3
   },
   "file_extension": ".py",
   "mimetype": "text/x-python",
   "name": "python",
   "nbconvert_exporter": "python",
   "pygments_lexer": "ipython3",
   "version": "3.10.13"
  }
 },
 "nbformat": 4,
 "nbformat_minor": 2
}
