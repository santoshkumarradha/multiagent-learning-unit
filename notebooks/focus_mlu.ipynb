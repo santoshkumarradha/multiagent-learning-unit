{
 "cells": [
  {
   "cell_type": "code",
   "execution_count": 1,
   "metadata": {},
   "outputs": [],
   "source": [
    "import sys; sys.path.append('../')"
   ]
  },
  {
   "cell_type": "code",
   "execution_count": 2,
   "metadata": {},
   "outputs": [],
   "source": [
    "open_ai_api= open(\"../openai_api_key.key\", \"r\").read()\n",
    "from agents import Agent, OpenAIChatGPT, set_global_llm, set_live_verbosity\n",
    "\n",
    "set_live_verbosity(0)\n",
    "openai_llm = OpenAIChatGPT(\n",
    "    api_key=open_ai_api,\n",
    "    model=\"gpt-4o-mini\",\n",
    "    max_tokens=5000\n",
    ")\n",
    "\n",
    "set_global_llm(openai_llm)"
   ]
  },
  {
   "cell_type": "code",
   "execution_count": 3,
   "metadata": {},
   "outputs": [
    {
     "name": "stderr",
     "output_type": "stream",
     "text": [
      "/Users/voldemort/Desktop/personal_projects/arc-mlu/notebooks/../notebooks/arc_helper.py:103: UserWarning: This figure includes Axes that are not compatible with tight_layout, so results might be incorrect.\n",
      "  plt.tight_layout()\n"
     ]
    },
    {
     "data": {
      "image/png": "[encoded data removed]",
      "text/plain": [
       "<Figure size 800x800 with 8 Axes>"
      ]
     },
     "metadata": {},
     "output_type": "display_data"
    }
   ],
   "source": [
    "from notebooks.arc_helper import (convert_json_format, generate_string,\n",
    "                                  plot_sample_matrices)\n",
    "\n",
    "directory = \"./ARC-800-tasks/training\"  # Change this to your actual directory path\n",
    "converted_data = convert_json_format(directory)\n",
    "data=generate_string(converted_data)\n",
    "plot_sample_matrices(converted_data[4])"
   ]
  },
  {
   "cell_type": "code",
   "execution_count": 4,
   "metadata": {},
   "outputs": [
    {
     "name": "stderr",
     "output_type": "stream",
     "text": [
      "/opt/homebrew/Caskroom/miniconda/base/envs/voice-clone/lib/python3.10/site-packages/sentence_transformers/cross_encoder/CrossEncoder.py:11: TqdmExperimentalWarning: Using `tqdm.autonotebook.tqdm` in notebook mode. Use `tqdm.tqdm` instead to force console mode (e.g. in jupyter console)\n",
      "  from tqdm.autonotebook import tqdm, trange\n"
     ]
    }
   ],
   "source": [
    "from mlu import MLUFocus,MLU\n",
    "\n",
    "mlu = MLU(main_role=\"\"\"\n",
    "                    The goal is to construct the output grid(s) corresponding to the test input grid(s), \n",
    "                    using 3 trials for each test input. 'Constructing the output grid' involves picking \n",
    "                    the height and width of the output grid, then filling each cell in the grid with a symbol \n",
    "                    (integer betwe\n",
    "                    en 0 and 9, which are visualized as colors). Learn to figure out the \n",
    "                    transformation rules and logic of image(matrix) from few given examples and apply it \n",
    "                    to the final test image(matrix). Analyze the given examples and predict the final \n",
    "                    image(matrix) for the given test image(matrix) and understand how to learn the spatial \n",
    "                    transformation rules, logic, pattern and concept of image(matrix) from few given examples to apply it \n",
    "                    to the final test image(matrix).\n",
    "                    \"\"\",\n",
    "    collection_name=\"knowledge_base_v-0.5.trail1\",#\"knowledge_base_v-0.4-focus.trail1\",\n",
    "    compress_knowledge=False,\n",
    "    retrival_limit=15,\n",
    ")"
   ]
  },
  {
   "cell_type": "code",
   "execution_count": 5,
   "metadata": {},
   "outputs": [
    {
     "name": "stdout",
     "output_type": "stream",
     "text": [
      "\n",
      "Starting Epoch 1\n",
      "\n"
     ]
    },
    {
     "name": "stderr",
     "output_type": "stream",
     "text": [
      "Training:   0%|\u001b[32m          \u001b[0m| 0/100 [00:00<?, ?it/s]Delete of nonexisting embedding ID: fce9b35a-63b5-40d3-b6ae-e057cf0ac30f\n",
      "Delete of nonexisting embedding ID: bbce00cb-537c-4f13-92f4-4fa618bddc3d\n",
      "Delete of nonexisting embedding ID: 5a0b84d3-2f94-4c00-a139-497b89786a13\n",
      "Delete of nonexisting embedding ID: 1e9c8831-1b74-4aec-8adf-6059677efb4f\n",
      "Delete of nonexisting embedding ID: 6df662e1-248f-404f-acaa-ddf7b50f8c03\n",
      "Delete of nonexisting embedding ID: 5a992fc0-9bea-45d1-8efa-88addf4dbd76\n",
      "Delete of nonexisting embedding ID: 9153250f-a665-4be9-af70-d82dc36254f0\n",
      "Delete of nonexisting embedding ID: ceb69168-23ce-4af0-93ae-b6bbc2f0476f\n",
      "Delete of nonexisting embedding ID: ee3298ef-bcc1-4c16-a7d7-21888fc5714e\n",
      "Delete of nonexisting embedding ID: 2a587188-de20-45fe-9291-5bb59e6b01ad\n",
      "Delete of nonexisting embedding ID: 66954e5f-45a9-457c-ba11-6139663cac3c\n",
      "Delete of nonexisting embedding ID: 14c11f35-4561-4720-8acd-a42a7d7ffca3\n",
      "Delete of nonexisting embedding ID: 3c27880e-1df0-4f82-829d-3e62a2b81317\n",
      "Delete of nonexisting embedding ID: f4bed65e-3128-41b7-aa8e-ae3ccb77604f\n",
      "Delete of nonexisting embedding ID: 3c5f4bd4-cdd3-47cd-9f28-3d56122af8ef\n",
      "Delete of nonexisting embedding ID: bde81d86-f198-4538-9b25-461130b885db\n",
      "Delete of nonexisting embedding ID: f7d7e34b-8ba6-4a06-9b89-775edbdd02cc\n",
      "Delete of nonexisting embedding ID: cd6e030a-c2e3-49f2-9eec-876b2ca4a420\n",
      "Delete of nonexisting embedding ID: 1f14ec42-8e26-43b0-8091-9694208bf202\n",
      "Delete of nonexisting embedding ID: 2d250afb-119f-4587-ba0e-8ec1a71fffd0\n",
      "Delete of nonexisting embedding ID: 05bb19c2-0f0e-44f7-ac0b-173ad507912c\n",
      "Delete of nonexisting embedding ID: 83c212e1-5c07-4f15-b302-cee3ce546e29\n",
      "Delete of nonexisting embedding ID: dee79cde-71eb-41c0-94dd-cb7000f6adff\n",
      "Delete of nonexisting embedding ID: aed221ba-e837-420c-a840-6677cb624f1d\n",
      "Delete of nonexisting embedding ID: 0f0f13a0-0a38-4e9f-829a-8fa666113076\n",
      "Delete of nonexisting embedding ID: a55f6bdd-2c35-44dc-9047-fe211c0e3e14\n",
      "Delete of nonexisting embedding ID: 2a6b64d8-31e1-41b9-b358-8fe6563a3d17\n",
      "Delete of nonexisting embedding ID: e710d460-f4fb-4165-9168-badb212a75e8\n",
      "Delete of nonexisting embedding ID: 16bd68fd-9bd3-4da3-88fc-8868ba35516b\n",
      "Delete of nonexisting embedding ID: 23a91219-4c1f-4542-9da6-d11a8f87a619\n",
      "Delete of nonexisting embedding ID: 4b888f04-5f1c-4921-9b79-47b503010ef3\n",
      "Delete of nonexisting embedding ID: d646a7e3-c67b-4ecc-a639-67a14f60f654\n",
      "Delete of nonexisting embedding ID: 0e713065-b24e-4cec-b935-89b2b3858ffd\n",
      "Delete of nonexisting embedding ID: 60ec5e29-ebd2-4252-b22e-6dfa6fbe6277\n",
      "Delete of nonexisting embedding ID: f5dcd60e-0cdb-4a22-80ff-e965e9f2ffb5\n",
      "Delete of nonexisting embedding ID: ce1f0603-b0a3-427b-8353-7f94a7cc8707\n",
      "Delete of nonexisting embedding ID: b2926a9b-207b-4a99-b040-cd13dda0feca\n",
      "Delete of nonexisting embedding ID: 2423d632-2aa8-4419-b7e9-d87070812dad\n",
      "Delete of nonexisting embedding ID: 70c61eb6-f32c-4a28-8704-b7fbbbd0d4ed\n",
      "Delete of nonexisting embedding ID: 1da25049-ad47-450c-ba53-41d3080e2465\n",
      "Delete of nonexisting embedding ID: 75855cad-dd6c-4139-b7d9-871ed4b0b338\n",
      "Delete of nonexisting embedding ID: 48ebd1cd-d925-4d08-8fac-b6ef97b9ff0b\n",
      "Delete of nonexisting embedding ID: 9abc5c79-4214-4141-8281-d1bd7bd7cd24\n",
      "Delete of nonexisting embedding ID: eb9e676e-4893-44d4-8876-4616d7c0b786\n",
      "Delete of nonexisting embedding ID: 08275d14-f943-445f-b104-4090661894e5\n",
      "Delete of nonexisting embedding ID: 9f2ff32c-f037-4676-aa7d-a354dc1f7ae4\n",
      "Delete of nonexisting embedding ID: 56872446-6426-4356-b5f6-090514beed7b\n",
      "Delete of nonexisting embedding ID: 7660f889-3290-4edd-941d-9a5d4bacde8a\n",
      "Delete of nonexisting embedding ID: 2edbac04-5cfd-4554-aba7-582da2e3e950\n",
      "Delete of nonexisting embedding ID: 0d57f5e2-01d7-4d5d-9ead-c6edaa2c1ccd\n",
      "Delete of nonexisting embedding ID: 6021168a-3c04-46ed-bd14-c05e9beb30e9\n",
      "Delete of nonexisting embedding ID: dc50cc9e-106b-4d54-b6d8-00705e7c8c0d\n",
      "Delete of nonexisting embedding ID: 3bb0db9b-fc9d-467a-b318-6ed346d7d84c\n",
      "Delete of nonexisting embedding ID: fe3bdf34-1d53-41a2-9837-8e3969846f61\n",
      "Delete of nonexisting embedding ID: 0548c81b-4f7f-4eab-a7f8-7fa625479b93\n",
      "Delete of nonexisting embedding ID: e6d8e99e-95ff-4c2e-b4c1-f5f852a08026\n",
      "Delete of nonexisting embedding ID: 51e8df2c-df18-45f6-8089-963911ab9aa8\n",
      "Delete of nonexisting embedding ID: 4f33436b-1376-48dc-94af-1724671dc7ca\n",
      "Delete of nonexisting embedding ID: e90e50fd-e236-41c0-913a-733d9e866f67\n",
      "Delete of nonexisting embedding ID: 50057a64-dda2-4444-b8ee-4379d9288333\n",
      "Delete of nonexisting embedding ID: 141abb8b-ec88-433c-889a-0bee315e142e\n",
      "Delete of nonexisting embedding ID: 3ac95765-6d9d-4ea5-bd7b-c081b2f73e3d\n",
      "Delete of nonexisting embedding ID: dbf0435c-a723-4e9c-a635-9f479b8f0468\n",
      "Delete of nonexisting embedding ID: 6f206d1f-41ac-4bb7-b9fa-34fe8742ebaa\n",
      "Delete of nonexisting embedding ID: 70f4f54d-77fd-46f0-ad1e-e580effcefc4\n",
      "Delete of nonexisting embedding ID: 499b26a7-e61f-4ee1-bce5-e1eff58ec367\n",
      "Delete of nonexisting embedding ID: 9f128728-4b6b-4e56-ac29-dd77f47cf351\n",
      "Delete of nonexisting embedding ID: 0e3b2eb2-d2b0-4fce-981b-d880d3d184c4\n",
      "Delete of nonexisting embedding ID: b78153b9-d544-4d41-b99d-d4e4d17b1068\n",
      "Delete of nonexisting embedding ID: 3d679fe9-e214-4ab5-9501-46faefe2b788\n",
      "Delete of nonexisting embedding ID: 289ff669-766d-42a4-932c-86f949288a8b\n",
      "Delete of nonexisting embedding ID: 3f4fc1b2-0d99-4f95-9481-ec718fb7d104\n",
      "Delete of nonexisting embedding ID: 02ea35b1-b142-4b9f-bf87-8aaa82a4fa33\n",
      "Delete of nonexisting embedding ID: fb89e825-7796-4640-ab67-2ff084fbbf7d\n",
      "Delete of nonexisting embedding ID: a875e76d-5878-4788-8740-9f39cf30d353\n",
      "Delete of nonexisting embedding ID: 903fab35-7e56-40a9-9840-25937929127d\n",
      "Delete of nonexisting embedding ID: 24aea06c-ed1b-4cfc-91f5-0cf8ebaaf1de\n",
      "Delete of nonexisting embedding ID: edb8d5f6-81f6-448f-92fe-88c4bbfc6b50\n",
      "Delete of nonexisting embedding ID: 89a0cb36-7a65-4133-a37e-982cf941df96\n",
      "Delete of nonexisting embedding ID: a3529d5f-126c-4722-8371-9a7256e69f1f\n",
      "Delete of nonexisting embedding ID: f1c04f44-83e2-40ae-97f2-c5e57097ce95\n",
      "Delete of nonexisting embedding ID: 33593663-8ef1-4182-8cbe-ddfd3509fefb\n",
      "Delete of nonexisting embedding ID: 55207aed-b578-42c6-b33d-0e2088f7c063\n",
      "Delete of nonexisting embedding ID: d28bfdc8-23a3-42a2-b53a-80cb0f68ece0\n",
      "Delete of nonexisting embedding ID: 1bc948fb-3ec4-45df-ab85-292bac2a6195\n",
      "Number of requested results 15 is greater than number of elements in index 14, updating n_results = 14\n",
      "Number of requested results 15 is greater than number of elements in index 14, updating n_results = 14\n"
     ]
    },
    {
     "name": "stdout",
     "output_type": "stream",
     "text": [
      "Iteration: 1 - Pattern Extraction\n",
      "Iteration: 1 - Transformation Analysis\n",
      "Iteration: 1 - Logical Inference\n",
      "Iteration: 1 - Solution Synthesis\n",
      "Iteration: 1 - Consistency Validation\n",
      "Pruned 14 old entries and added 1 new entries.\n"
     ]
    },
    {
     "name": "stderr",
     "output_type": "stream",
     "text": [
      "Delete of nonexisting embedding ID: 217f8635-5621-4bf1-a091-e1cceb7faa97\n",
      "Delete of nonexisting embedding ID: c8699e4f-15ec-45e0-9479-2cdc9f77ef39\n",
      "Delete of nonexisting embedding ID: fc0481d7-3144-4adf-83b2-15b5645aac54\n",
      "Delete of nonexisting embedding ID: 1a1b7d2e-c414-45e1-be43-a48bf8b94fa9\n",
      "Delete of nonexisting embedding ID: feb5fe05-1ddf-43d7-8b7f-2e48145abfa2\n",
      "Delete of nonexisting embedding ID: 79c5d4bb-b22b-4951-8382-bd531df0d707\n",
      "Delete of nonexisting embedding ID: 4e081e7c-5a8a-4275-92df-4a631a537082\n",
      "Delete of nonexisting embedding ID: 8067da79-ef02-4480-9fe4-b448714f7636\n",
      "Delete of nonexisting embedding ID: 73c2c950-3414-48bb-94b7-497fd0e1c0ef\n",
      "Delete of nonexisting embedding ID: 45ba34e3-15f1-44b9-a5c5-6a09ff753f1a\n",
      "Delete of nonexisting embedding ID: 6660415c-985d-48e5-b375-f00d5160cab3\n",
      "Delete of nonexisting embedding ID: 1f2f87b4-c449-4a01-91a2-07222fb025e4\n",
      "Delete of nonexisting embedding ID: 8409484b-48be-431b-8744-1292759eb2fd\n",
      "Delete of nonexisting embedding ID: bf95f1fc-7ab4-4e27-8647-a7d4ffab7a65\n",
      "Delete of nonexisting embedding ID: 217f8635-5621-4bf1-a091-e1cceb7faa97\n",
      "Delete of nonexisting embedding ID: c8699e4f-15ec-45e0-9479-2cdc9f77ef39\n",
      "Delete of nonexisting embedding ID: fc0481d7-3144-4adf-83b2-15b5645aac54\n",
      "Delete of nonexisting embedding ID: 1a1b7d2e-c414-45e1-be43-a48bf8b94fa9\n",
      "Delete of nonexisting embedding ID: feb5fe05-1ddf-43d7-8b7f-2e48145abfa2\n",
      "Delete of nonexisting embedding ID: 79c5d4bb-b22b-4951-8382-bd531df0d707\n",
      "Delete of nonexisting embedding ID: 4e081e7c-5a8a-4275-92df-4a631a537082\n",
      "Delete of nonexisting embedding ID: 8067da79-ef02-4480-9fe4-b448714f7636\n",
      "Delete of nonexisting embedding ID: 73c2c950-3414-48bb-94b7-497fd0e1c0ef\n",
      "Delete of nonexisting embedding ID: 45ba34e3-15f1-44b9-a5c5-6a09ff753f1a\n",
      "Delete of nonexisting embedding ID: 6660415c-985d-48e5-b375-f00d5160cab3\n",
      "Delete of nonexisting embedding ID: 1f2f87b4-c449-4a01-91a2-07222fb025e4\n",
      "Delete of nonexisting embedding ID: 8409484b-48be-431b-8744-1292759eb2fd\n",
      "Delete of nonexisting embedding ID: bf95f1fc-7ab4-4e27-8647-a7d4ffab7a65\n"
     ]
    },
    {
     "name": "stdout",
     "output_type": "stream",
     "text": [
      "Pruned 14 old entries and added 5 new entries.\n",
      "\n",
      "Learned Knowledge Update:\n",
      "['Symmetrical Transformation Patterns: The output grid must maintain symmetry '\n",
      " \"in its arrangement, mirroring the input grid's key features and reflecting \"\n",
      " 'their structural balance. Applicability: Transformations from input to '\n",
      " 'output grids where symmetry is crucial in preserving visual coherence.',\n",
      " 'Clustering of Significant Integers: Critical integers should be clustered '\n",
      " 'around their respective centers to visually and contextually relate them to '\n",
      " 'their original positions in the input grid. Applicability: Scenarios where '\n",
      " 'important integers are emphasized within processed matrices for clarity and '\n",
      " 'significance.',\n",
      " 'Iterative Refinement Process: Outputs should be generated and refined '\n",
      " 'through multiple trials, utilizing feedback from each iteration to adjust '\n",
      " 'placements and structures. Applicability: Any tasks that involve multiple '\n",
      " 'attempts of transforming input images into output grids while improving '\n",
      " 'fidelity over time.',\n",
      " 'Value Mapping Fidelity: Accurate mapping of integers from the input to the '\n",
      " 'output must ensure their spatial relationships remain intact throughout the '\n",
      " 'transformation process. Applicability: Relevant in all scenarios where '\n",
      " 'output fidelity to original input values is necessary to maintain context.',\n",
      " 'Maintaining Contextual Integrity: Output grids must retain the significance '\n",
      " 'of numbers and their meanings through logical connections between clusters '\n",
      " 'and their positions in the input. Applicability: Important during '\n",
      " 'transformations requiring coherent relationships among integer clusters to '\n",
      " 'reflect their original context.']\n",
      "DTW Score: 92.97849213662265\n"
     ]
    },
    {
     "data": {
      "image/png": "[encoded data removed]",
      "text/plain": [
       "<Figure size 640x480 with 3 Axes>"
      ]
     },
     "metadata": {},
     "output_type": "display_data"
    },
    {
     "name": "stderr",
     "output_type": "stream",
     "text": [
      "Training:   1%|\u001b[32m          \u001b[0m| 1/100 [04:05<6:45:04, 245.50s/it]Number of requested results 15 is greater than number of elements in index 12, updating n_results = 12\n",
      "Number of requested results 15 is greater than number of elements in index 12, updating n_results = 12\n"
     ]
    },
    {
     "name": "stdout",
     "output_type": "stream",
     "text": [
      "Iteration: 1 - Pattern Extraction\n",
      "Iteration: 1 - Transformation Analysis\n",
      "Iteration: 1 - Logical Inference\n",
      "Iteration: 1 - Solution Synthesis\n",
      "Iteration: 1 - Consistency Validation\n",
      "Pruned 12 old entries and added 10 new entries.\n"
     ]
    },
    {
     "name": "stderr",
     "output_type": "stream",
     "text": [
      "Delete of nonexisting embedding ID: 2adc83e8-8ec5-4c75-bafd-1ea24d23b744\n",
      "Delete of nonexisting embedding ID: 84c5ba23-40c4-40e8-8f9a-d89af48406df\n",
      "Delete of nonexisting embedding ID: f81b0246-b2e5-4205-bff8-b1bb6caf99e5\n",
      "Delete of nonexisting embedding ID: 6c4cdf15-eb2a-4979-920f-c038cc2e729a\n",
      "Delete of nonexisting embedding ID: da21ef3e-a129-4185-90d0-e23bfe66068c\n",
      "Delete of nonexisting embedding ID: a71b2d75-a7c6-4040-b2f4-17a3f4841673\n",
      "Delete of nonexisting embedding ID: ec42bf56-be5e-403f-b12f-3b2c5fc51c88\n",
      "Delete of nonexisting embedding ID: 07031d2c-19aa-41e0-a2ea-79e8f8e54d5c\n",
      "Delete of nonexisting embedding ID: fd5bfcd7-b4ae-439b-ab0e-3fea013b8f12\n",
      "Delete of nonexisting embedding ID: a2d01cf4-81af-4d2f-af9e-df45ff4fb46e\n",
      "Delete of nonexisting embedding ID: 7221cc49-cc6e-4c46-83d1-07603b81468c\n",
      "Delete of nonexisting embedding ID: 7ed97a16-4afe-439e-805d-3385150de8fc\n",
      "Delete of nonexisting embedding ID: 2adc83e8-8ec5-4c75-bafd-1ea24d23b744\n",
      "Delete of nonexisting embedding ID: 84c5ba23-40c4-40e8-8f9a-d89af48406df\n",
      "Delete of nonexisting embedding ID: f81b0246-b2e5-4205-bff8-b1bb6caf99e5\n",
      "Delete of nonexisting embedding ID: 6c4cdf15-eb2a-4979-920f-c038cc2e729a\n",
      "Delete of nonexisting embedding ID: da21ef3e-a129-4185-90d0-e23bfe66068c\n",
      "Delete of nonexisting embedding ID: a71b2d75-a7c6-4040-b2f4-17a3f4841673\n",
      "Delete of nonexisting embedding ID: ec42bf56-be5e-403f-b12f-3b2c5fc51c88\n",
      "Delete of nonexisting embedding ID: 07031d2c-19aa-41e0-a2ea-79e8f8e54d5c\n",
      "Delete of nonexisting embedding ID: fd5bfcd7-b4ae-439b-ab0e-3fea013b8f12\n",
      "Delete of nonexisting embedding ID: a2d01cf4-81af-4d2f-af9e-df45ff4fb46e\n",
      "Delete of nonexisting embedding ID: 7221cc49-cc6e-4c46-83d1-07603b81468c\n",
      "Delete of nonexisting embedding ID: 7ed97a16-4afe-439e-805d-3385150de8fc\n"
     ]
    },
    {
     "name": "stdout",
     "output_type": "stream",
     "text": [
      "Pruned 12 old entries and added 4 new entries.\n",
      "\n",
      "Learned Knowledge Update:\n",
      "['Concept: Transformation patterns involve maintaining symmetry and clustering '\n",
      " 'of integers as observed in input grids; applicable when creating output '\n",
      " 'grids to ensure visual coherence.',\n",
      " 'Idea: Implement systematic trials for input-output transformation to refine '\n",
      " 'results through each iteration; applicable in any context where high '\n",
      " 'accuracy is required.',\n",
      " 'Principle: Contextual integrity must be preserved during transformations, '\n",
      " 'ensuring that the relationships among integers in input grids are reflected '\n",
      " 'in their output forms; relevant in all image processing tasks.',\n",
      " 'Rule: Ensure the output grid dimensions correspond directly to input grid '\n",
      " 'dimensions to uphold proportionality during transformation; applicable to '\n",
      " 'all matrix transformation tasks.',\n",
      " 'Concept: Identifying significant integers and their clusters to create '\n",
      " 'centers for visual representation will greatly enhance output quality; '\n",
      " 'useful in scenarios requiring emphasis on critical data points within '\n",
      " 'matrices.',\n",
      " 'Principle: Value Mapping Fidelity enhances the reliability of '\n",
      " 'transformations by ensuring contextual relationships are reflected '\n",
      " 'accurately in resulting outputs; applicable in diverse image and data '\n",
      " 'processing tasks.',\n",
      " 'Rule: Utilize iterative refinement processes to adapt transformation '\n",
      " 'methodologies based on prior outputs and feedback, promoting continuous '\n",
      " 'improvement and higher accuracy.']\n",
      "DTW Score: 7.874007874011811\n"
     ]
    },
    {
     "data": {
      "image/png": "[encoded data removed]",
      "text/plain": [
       "<Figure size 640x480 with 3 Axes>"
      ]
     },
     "metadata": {},
     "output_type": "display_data"
    },
    {
     "name": "stderr",
     "output_type": "stream",
     "text": [
      "Training:   2%|\u001b[32m▏         \u001b[0m| 2/100 [09:16<7:43:44, 283.93s/it]"
     ]
    },
    {
     "name": "stdout",
     "output_type": "stream",
     "text": [
      "Iteration: 1 - Pattern Extraction\n",
      "Iteration: 1 - Transformation Analysis\n",
      "Iteration: 1 - Logical Inference\n",
      "Iteration: 1 - Solution Synthesis\n",
      "Iteration: 1 - Consistency Validation\n",
      "Iteration: 2 - Pattern Extraction\n",
      "Iteration: 2 - Transformation Analysis\n",
      "Iteration: 2 - Logical Inference\n",
      "Iteration: 2 - Solution Synthesis\n",
      "Iteration: 2 - Consistency Validation\n",
      "Iteration: 3 - Pattern Extraction\n",
      "Iteration: 3 - Transformation Analysis\n",
      "Iteration: 3 - Logical Inference\n",
      "Iteration: 3 - Solution Synthesis\n",
      "Iteration: 3 - Consistency Validation\n",
      "Iteration: 4 - Pattern Extraction\n",
      "Iteration: 4 - Transformation Analysis\n",
      "Iteration: 4 - Logical Inference\n",
      "Iteration: 4 - Solution Synthesis\n",
      "Iteration: 4 - Consistency Validation\n",
      "Pruned 15 old entries and added 6 new entries.\n"
     ]
    },
    {
     "name": "stderr",
     "output_type": "stream",
     "text": [
      "Delete of nonexisting embedding ID: 57189d12-019a-4d3f-9172-6c564aeb74ac\n",
      "Delete of nonexisting embedding ID: b471c7f4-1d15-455a-b2fa-55d388258123\n",
      "Delete of nonexisting embedding ID: 5665285d-5c25-4635-a098-a45b09f2441c\n",
      "Delete of nonexisting embedding ID: 4ed36d4d-9112-4c06-b179-dab9a853d84e\n",
      "Delete of nonexisting embedding ID: 50d4e737-afc4-4ff5-9d57-dd3b34e086d7\n",
      "Delete of nonexisting embedding ID: 9d555e31-1179-44f7-9127-ee91728bb208\n",
      "Delete of nonexisting embedding ID: a99e24d6-8187-4f52-b1c6-7dc4d65c510a\n",
      "Delete of nonexisting embedding ID: e658ca36-3279-46e9-9541-1b2e62511b77\n",
      "Delete of nonexisting embedding ID: 2f3608fe-11be-4655-bbef-caf53458b7bf\n",
      "Delete of nonexisting embedding ID: a5257101-9811-4caf-b56b-4b0b303d4dc6\n",
      "Delete of nonexisting embedding ID: efa1d617-9b6e-4e24-ac8c-216f7d04be17\n",
      "Delete of nonexisting embedding ID: f458c639-a3d0-4991-83d2-97b1436f2188\n",
      "Delete of nonexisting embedding ID: 9bf05f1d-a6c5-48fe-a5be-f1c8d3cd1403\n",
      "Delete of nonexisting embedding ID: 180072d1-bd97-433f-ad39-6eab40795aa2\n",
      "Delete of nonexisting embedding ID: 57189d12-019a-4d3f-9172-6c564aeb74ac\n",
      "Delete of nonexisting embedding ID: b471c7f4-1d15-455a-b2fa-55d388258123\n",
      "Delete of nonexisting embedding ID: 5665285d-5c25-4635-a098-a45b09f2441c\n",
      "Delete of nonexisting embedding ID: 4ed36d4d-9112-4c06-b179-dab9a853d84e\n",
      "Delete of nonexisting embedding ID: 50d4e737-afc4-4ff5-9d57-dd3b34e086d7\n",
      "Delete of nonexisting embedding ID: 9d555e31-1179-44f7-9127-ee91728bb208\n",
      "Delete of nonexisting embedding ID: a99e24d6-8187-4f52-b1c6-7dc4d65c510a\n",
      "Delete of nonexisting embedding ID: e658ca36-3279-46e9-9541-1b2e62511b77\n",
      "Delete of nonexisting embedding ID: 2f3608fe-11be-4655-bbef-caf53458b7bf\n",
      "Delete of nonexisting embedding ID: a5257101-9811-4caf-b56b-4b0b303d4dc6\n",
      "Delete of nonexisting embedding ID: efa1d617-9b6e-4e24-ac8c-216f7d04be17\n",
      "Delete of nonexisting embedding ID: f458c639-a3d0-4991-83d2-97b1436f2188\n",
      "Delete of nonexisting embedding ID: 9bf05f1d-a6c5-48fe-a5be-f1c8d3cd1403\n",
      "Delete of nonexisting embedding ID: 180072d1-bd97-433f-ad39-6eab40795aa2\n"
     ]
    },
    {
     "name": "stdout",
     "output_type": "stream",
     "text": [
      "Pruned 15 old entries and added 4 new entries.\n",
      "\n",
      "Learned Knowledge Update:\n",
      "['Principle of Clustering and Proximity in Transformation: The significant '\n",
      " 'integers within input grids should be grouped or clustered together in '\n",
      " 'output grids to preserve contextual meaning and enhance visual '\n",
      " 'representation of the data. Applicability: This principle applies to all '\n",
      " 'transformation tasks involving matrices to highlight critical data points '\n",
      " 'effectively.',\n",
      " 'Rule of Dimensional Homogeneity: The output grid dimensions must conform '\n",
      " 'strictly to the input grid dimensions unless a resizing modification is '\n",
      " 'necessary. Applicability: This rule is critical to any image transformation '\n",
      " 'task where spatial integrity is paramount to preserving relationships '\n",
      " 'between elements.',\n",
      " 'Symmetry Rule: Maintain symmetry in the transformation process to echo the '\n",
      " 'inherent symmetrical patterns found in input grids. This consistency '\n",
      " 'strengthens the visual coherence of the output mesh. Applicability: '\n",
      " 'Applicable in all grid transformations where original symmetric features are '\n",
      " 'present.',\n",
      " 'Iterative Feedback Mechanism: Each grid transformation should involve a '\n",
      " 'series of trials allowing for adjustments informed by feedback from previous '\n",
      " 'trials, fostering continuous improvement and result refinement. '\n",
      " 'Applicability: Essential for all tasks where learning from output iterations '\n",
      " 'can enhance future transformations.',\n",
      " 'Clarity through Variation: To avoid redundancy and enhance clarity, it is '\n",
      " 'vital to utilize a diverse range of integers (0-9) in the output grids. This '\n",
      " 'rule helps in visual distinction between differing values. Applicability: '\n",
      " 'Relevant across all scenarios in grid transformations that require visual '\n",
      " 'clarity without repetition.']\n",
      "DTW Score: 3.872983346207417\n"
     ]
    },
    {
     "data": {
      "image/png": "[encoded data removed]",
      "text/plain": [
       "<Figure size 640x480 with 3 Axes>"
      ]
     },
     "metadata": {},
     "output_type": "display_data"
    },
    {
     "name": "stderr",
     "output_type": "stream",
     "text": [
      "Training:   3%|\u001b[32m▎         \u001b[0m| 3/100 [16:29<9:29:27, 352.24s/it]"
     ]
    },
    {
     "name": "stdout",
     "output_type": "stream",
     "text": [
      "Iteration: 1 - Pattern Extraction\n",
      "Iteration: 1 - Transformation Analysis\n",
      "Iteration: 1 - Logical Inference\n",
      "Iteration: 1 - Solution Synthesis\n",
      "Iteration: 1 - Consistency Validation\n",
      "Iteration: 2 - Pattern Extraction\n",
      "Iteration: 2 - Transformation Analysis\n",
      "Iteration: 2 - Logical Inference\n",
      "Iteration: 2 - Solution Synthesis\n",
      "Iteration: 2 - Consistency Validation\n",
      "Pruned 15 old entries and added 1 new entries.\n"
     ]
    },
    {
     "name": "stderr",
     "output_type": "stream",
     "text": [
      "Delete of nonexisting embedding ID: 692bf72f-4d53-454e-a45b-b1404963dfc8\n",
      "Delete of nonexisting embedding ID: 7e8037d1-620c-4bb6-942f-76870ce391bf\n",
      "Delete of nonexisting embedding ID: d334a4f4-548f-4fd6-b6af-0ec4996d2466\n",
      "Delete of nonexisting embedding ID: 9ce7fa4e-591e-401d-a37f-4ede2cdbe8ff\n",
      "Delete of nonexisting embedding ID: 1c76719d-58d2-44db-bf10-f85fc7677857\n",
      "Delete of nonexisting embedding ID: 95b2c291-be14-446e-973d-6f0fa8cab8a1\n",
      "Delete of nonexisting embedding ID: 80b5e7bc-c12e-43d8-ad94-f6725b22e808\n",
      "Delete of nonexisting embedding ID: 89d15bc3-28e7-4e97-a5e2-75ea599d11da\n",
      "Delete of nonexisting embedding ID: 4b345228-82ba-4b49-8877-10b2b153c043\n",
      "Delete of nonexisting embedding ID: d17c3651-f378-439d-bc42-3b647d626beb\n",
      "Delete of nonexisting embedding ID: e6673cea-698b-4538-af09-d2b79817f12f\n",
      "Delete of nonexisting embedding ID: c6a8441e-5be4-4044-98ba-caf75c40d35e\n",
      "Delete of nonexisting embedding ID: bfc21ba7-3e4a-4586-93a8-19c0db071f0f\n",
      "Delete of nonexisting embedding ID: 692bf72f-4d53-454e-a45b-b1404963dfc8\n",
      "Delete of nonexisting embedding ID: 7e8037d1-620c-4bb6-942f-76870ce391bf\n",
      "Delete of nonexisting embedding ID: d334a4f4-548f-4fd6-b6af-0ec4996d2466\n",
      "Delete of nonexisting embedding ID: 9ce7fa4e-591e-401d-a37f-4ede2cdbe8ff\n",
      "Delete of nonexisting embedding ID: 1c76719d-58d2-44db-bf10-f85fc7677857\n",
      "Delete of nonexisting embedding ID: 95b2c291-be14-446e-973d-6f0fa8cab8a1\n",
      "Delete of nonexisting embedding ID: 80b5e7bc-c12e-43d8-ad94-f6725b22e808\n",
      "Delete of nonexisting embedding ID: 89d15bc3-28e7-4e97-a5e2-75ea599d11da\n",
      "Delete of nonexisting embedding ID: 4b345228-82ba-4b49-8877-10b2b153c043\n",
      "Delete of nonexisting embedding ID: d17c3651-f378-439d-bc42-3b647d626beb\n",
      "Delete of nonexisting embedding ID: e6673cea-698b-4538-af09-d2b79817f12f\n",
      "Delete of nonexisting embedding ID: c6a8441e-5be4-4044-98ba-caf75c40d35e\n",
      "Delete of nonexisting embedding ID: bfc21ba7-3e4a-4586-93a8-19c0db071f0f\n"
     ]
    },
    {
     "name": "stdout",
     "output_type": "stream",
     "text": [
      "Pruned 15 old entries and added 5 new entries.\n",
      "\n",
      "Learned Knowledge Update:\n",
      "['Concepts: Importance of adhering to spatial relationships in grid '\n",
      " 'transformations to ensure contextual relevance and accuracy in outputs. '\n",
      " 'Applicable in all image processing tasks.',\n",
      " 'Ideas: Implementation of a systematic approach for identifying and '\n",
      " 'incorporating all relevant integers during transformations to enhance output '\n",
      " 'integrity. Relevant in matrix manipulations and any form of data '\n",
      " 'representation.',\n",
      " 'Principles: The Rule of Dimensional Homogeneity necessitates that output '\n",
      " 'grids maintain the same dimensions as input grids unless resizing is '\n",
      " 'necessary. Critical for maintaining structural integrity.',\n",
      " 'Rules: Establish a clear iterative feedback loop after each trial in '\n",
      " 'transformations for ongoing improvement, useful in all iterative learning '\n",
      " 'tasks, particularly in complex data manipulations.',\n",
      " 'Concepts: Understanding the principle of clustering, where significant '\n",
      " 'integers in input grids dictate placements in output grids, applicable in '\n",
      " 'any transformation or representational task involving matrices.',\n",
      " 'Ideas: Utilize symmetry principles in output generation by organizing '\n",
      " 'elements in line with reflective characteristics of input grids, enhancing '\n",
      " 'visual coherence.']\n",
      "DTW Score: 5.830951894845301\n"
     ]
    },
    {
     "data": {
      "image/png": "[encoded data removed]",
      "text/plain": [
       "<Figure size 640x480 with 3 Axes>"
      ]
     },
     "metadata": {},
     "output_type": "display_data"
    },
    {
     "name": "stderr",
     "output_type": "stream",
     "text": [
      "Training:   4%|\u001b[32m▍         \u001b[0m| 4/100 [21:38<8:55:52, 334.92s/it]"
     ]
    },
    {
     "name": "stdout",
     "output_type": "stream",
     "text": [
      "Iteration: 1 - Pattern Extraction\n",
      "Iteration: 1 - Transformation Analysis\n",
      "Iteration: 1 - Logical Inference\n",
      "Iteration: 1 - Solution Synthesis\n",
      "Iteration: 1 - Consistency Validation\n",
      "Pruned 15 old entries and added 8 new entries.\n"
     ]
    },
    {
     "name": "stderr",
     "output_type": "stream",
     "text": [
      "Delete of nonexisting embedding ID: 6dbd3d0c-4152-4d60-9e0d-0182069546de\n",
      "Delete of nonexisting embedding ID: a07f1ab6-ea90-4721-bf32-ebd80bbb8fb3\n",
      "Delete of nonexisting embedding ID: fcd85da3-ec99-4ed5-8502-6129e8e07eee\n",
      "Delete of nonexisting embedding ID: 806d4b55-9b5a-49a8-b3bd-503b3fbb3d0b\n",
      "Delete of nonexisting embedding ID: 48f393a1-bcd5-4fd7-825f-a0cf540d47e3\n",
      "Delete of nonexisting embedding ID: 80ba9905-b234-4cdf-acf6-512e7b54a7c9\n",
      "Delete of nonexisting embedding ID: dccb3e20-db02-479a-95dc-1d71cca5579b\n",
      "Delete of nonexisting embedding ID: 9411212d-9f9a-436b-8822-b22f1cd65509\n",
      "Delete of nonexisting embedding ID: 436f4c84-6c4d-4583-8630-dccdb4e74964\n",
      "Delete of nonexisting embedding ID: 9071e04c-5fa5-44f7-bd79-b55469e1cf69\n",
      "Delete of nonexisting embedding ID: d302acdc-5378-4cb3-9c44-ddd066f3a4a3\n",
      "Delete of nonexisting embedding ID: ad68a935-09c5-466a-bb48-28fbf32cf842\n",
      "Delete of nonexisting embedding ID: 96c21d19-95d8-4bcc-bf02-0ba3b981557d\n",
      "Delete of nonexisting embedding ID: d5e97479-07d9-4d40-99d5-c9fe9323cfd2\n",
      "Delete of nonexisting embedding ID: 6dbd3d0c-4152-4d60-9e0d-0182069546de\n",
      "Delete of nonexisting embedding ID: a07f1ab6-ea90-4721-bf32-ebd80bbb8fb3\n",
      "Delete of nonexisting embedding ID: fcd85da3-ec99-4ed5-8502-6129e8e07eee\n",
      "Delete of nonexisting embedding ID: 806d4b55-9b5a-49a8-b3bd-503b3fbb3d0b\n",
      "Delete of nonexisting embedding ID: 48f393a1-bcd5-4fd7-825f-a0cf540d47e3\n",
      "Delete of nonexisting embedding ID: 80ba9905-b234-4cdf-acf6-512e7b54a7c9\n",
      "Delete of nonexisting embedding ID: dccb3e20-db02-479a-95dc-1d71cca5579b\n",
      "Delete of nonexisting embedding ID: 9411212d-9f9a-436b-8822-b22f1cd65509\n",
      "Delete of nonexisting embedding ID: 436f4c84-6c4d-4583-8630-dccdb4e74964\n",
      "Delete of nonexisting embedding ID: 9071e04c-5fa5-44f7-bd79-b55469e1cf69\n",
      "Delete of nonexisting embedding ID: d302acdc-5378-4cb3-9c44-ddd066f3a4a3\n",
      "Delete of nonexisting embedding ID: ad68a935-09c5-466a-bb48-28fbf32cf842\n",
      "Delete of nonexisting embedding ID: 96c21d19-95d8-4bcc-bf02-0ba3b981557d\n",
      "Delete of nonexisting embedding ID: d5e97479-07d9-4d40-99d5-c9fe9323cfd2\n"
     ]
    },
    {
     "name": "stdout",
     "output_type": "stream",
     "text": [
      "Pruned 15 old entries and added 6 new entries.\n",
      "\n",
      "Learned Knowledge Update:\n",
      "['Concept: Clustering principles in matrix transformations emphasize the '\n",
      " 'importance of maintaining high visibility for significant integers, '\n",
      " 'particularly in relation to their spatial integrity. Application: This '\n",
      " 'principle is relevant in tasks involving pattern recognition and image '\n",
      " 'processing where integer frequency influences output structure.',\n",
      " 'Idea: Establish a feedback mechanism for each transformation trial to allow '\n",
      " \"for iterative refinement, ensuring that output grasps the input's \"\n",
      " 'significant spatial relationships. Application: This can be utilized in any '\n",
      " 'task requiring repeated evaluations and improvements based on initial '\n",
      " 'response discrepancies.',\n",
      " 'Principle: Maintain the Rule of Dimensional Homogeneity to ensure that '\n",
      " 'output grids adhere to the same dimensions as input grids unless '\n",
      " 'modification is necessary. Application: Crucial for consistent output sizes '\n",
      " 'in tasks involving grid transformations, reducing confusion in visual '\n",
      " 'interpretation.',\n",
      " 'Rule: Prioritize mapping integer transitions based on observed clustering '\n",
      " 'patterns from previous examples. Application: Useful in scenarios where '\n",
      " 'pattern recognition plays a vital role in determining output based on '\n",
      " 'established relationships and behaviors of input elements across different '\n",
      " 'trials.',\n",
      " 'Concept: Symmetry principles can enhance visual coherence in matrix '\n",
      " 'transformations by mirroring input structures in outputs. Application: This '\n",
      " 'concept is fundamental in graphic design or computer graphics where '\n",
      " 'aesthetic and symmetry become important.',\n",
      " 'Idea: Document transformation outcomes across multiple trials to build a '\n",
      " 'robust knowledge base for future iterations, emphasizing both successes and '\n",
      " 'failures. Application: This is vital for learning and adapting methodologies '\n",
      " 'in tasks that evolve with repetitive processes.']\n",
      "DTW Score: 9.797958971132712\n"
     ]
    },
    {
     "data": {
      "image/png": "[encoded data removed]",
      "text/plain": [
       "<Figure size 640x480 with 3 Axes>"
      ]
     },
     "metadata": {},
     "output_type": "display_data"
    },
    {
     "name": "stderr",
     "output_type": "stream",
     "text": [
      "Training:   5%|\u001b[32m▌         \u001b[0m| 5/100 [25:56<8:06:14, 307.10s/it]"
     ]
    },
    {
     "name": "stdout",
     "output_type": "stream",
     "text": [
      "Iteration: 1 - Pattern Extraction\n",
      "Iteration: 1 - Transformation Analysis\n",
      "Iteration: 1 - Logical Inference\n",
      "Iteration: 1 - Solution Synthesis\n",
      "Error in OpenAI API call: 1 validation error for Solution\n",
      "explanation\n",
      "  Field required [type=missing, input_value={'Answer': '[[0, 0, 0, 0,...cross the output grid.\"}, input_type=dict]\n",
      "    For further information visit https://errors.pydantic.dev/2.7/v/missing\n",
      "Iteration: 1 - Consistency Validation\n",
      "Pruned 15 old entries and added 6 new entries.\n"
     ]
    },
    {
     "name": "stderr",
     "output_type": "stream",
     "text": [
      "Delete of nonexisting embedding ID: de85f76f-b1b7-47aa-819f-9f0f5e56d5c2\n",
      "Delete of nonexisting embedding ID: 951bec59-5af3-43d4-9ae0-adb98d671c7e\n",
      "Delete of nonexisting embedding ID: a4c5770b-3656-401f-943c-b4c9a4dbbdde\n",
      "Delete of nonexisting embedding ID: 14a60bb9-38e8-4614-9d29-689aad6820d6\n",
      "Delete of nonexisting embedding ID: 770d56cd-b394-4b41-a0ba-dd8483b7ab0a\n",
      "Delete of nonexisting embedding ID: dc67d3a6-7289-4c5d-9887-3b904ab77f26\n",
      "Delete of nonexisting embedding ID: fe87202f-bcb2-440f-9da3-e3d887704f3a\n",
      "Delete of nonexisting embedding ID: 33d09e53-e7a4-43a4-acea-4b5eaddbd26f\n",
      "Delete of nonexisting embedding ID: 687e1674-e181-4db8-a4ca-2cdc0167248c\n",
      "Delete of nonexisting embedding ID: 688b028e-cb6e-46b1-b1c2-6cb364ad9fb7\n",
      "Delete of nonexisting embedding ID: b4cef60b-772b-4dad-9ddd-ba6c94ed79b0\n",
      "Delete of nonexisting embedding ID: ca219350-8b6f-439f-ab40-e622e9eaaa32\n",
      "Delete of nonexisting embedding ID: 47e79fd6-f389-4461-8652-749f384e4efa\n",
      "Delete of nonexisting embedding ID: de85f76f-b1b7-47aa-819f-9f0f5e56d5c2\n",
      "Delete of nonexisting embedding ID: 951bec59-5af3-43d4-9ae0-adb98d671c7e\n",
      "Delete of nonexisting embedding ID: a4c5770b-3656-401f-943c-b4c9a4dbbdde\n",
      "Delete of nonexisting embedding ID: 14a60bb9-38e8-4614-9d29-689aad6820d6\n",
      "Delete of nonexisting embedding ID: 770d56cd-b394-4b41-a0ba-dd8483b7ab0a\n",
      "Delete of nonexisting embedding ID: dc67d3a6-7289-4c5d-9887-3b904ab77f26\n",
      "Delete of nonexisting embedding ID: fe87202f-bcb2-440f-9da3-e3d887704f3a\n",
      "Delete of nonexisting embedding ID: 33d09e53-e7a4-43a4-acea-4b5eaddbd26f\n",
      "Delete of nonexisting embedding ID: 687e1674-e181-4db8-a4ca-2cdc0167248c\n",
      "Delete of nonexisting embedding ID: 688b028e-cb6e-46b1-b1c2-6cb364ad9fb7\n",
      "Delete of nonexisting embedding ID: b4cef60b-772b-4dad-9ddd-ba6c94ed79b0\n",
      "Delete of nonexisting embedding ID: ca219350-8b6f-439f-ab40-e622e9eaaa32\n",
      "Delete of nonexisting embedding ID: 47e79fd6-f389-4461-8652-749f384e4efa\n"
     ]
    },
    {
     "name": "stdout",
     "output_type": "stream",
     "text": [
      "Pruned 15 old entries and added 1 new entries.\n",
      "\n",
      "Learned Knowledge Update:\n",
      "['Understanding of clustering principles and their significance in grid '\n",
      " 'transformations, emphasizing that visually significant integers must be '\n",
      " 'clustered appropriately to ensure coherent outputs.',\n",
      " \"Knowledge about symmetry's relevance in maintaining visual integrity during \"\n",
      " 'transformations, highlighting that output grids should mirror key patterns '\n",
      " 'from the input grids.',\n",
      " 'Recognition of the impact of significant integers in the input grids on '\n",
      " 'their arrangement in output grids, which informs transformation logic and '\n",
      " 'enhances predictability.',\n",
      " 'Importance of dimensional homogeneity, ensuring that output grids maintain '\n",
      " 'the same dimensions as input grids unless adjustments are necessary for '\n",
      " 'clarity or improvement.']\n",
      "DTW Score: 33.2264954516723\n"
     ]
    },
    {
     "data": {
      "image/png": "[encoded data removed]",
      "text/plain": [
       "<Figure size 640x480 with 3 Axes>"
      ]
     },
     "metadata": {},
     "output_type": "display_data"
    },
    {
     "name": "stderr",
     "output_type": "stream",
     "text": [
      "Training:   6%|\u001b[32m▌         \u001b[0m| 6/100 [30:10<7:33:10, 289.26s/it]"
     ]
    },
    {
     "name": "stdout",
     "output_type": "stream",
     "text": [
      "Iteration: 1 - Pattern Extraction\n",
      "Iteration: 1 - Transformation Analysis\n",
      "Iteration: 1 - Logical Inference\n",
      "Iteration: 1 - Solution Synthesis\n",
      "Iteration: 1 - Consistency Validation\n",
      "Pruned 15 old entries and added 5 new entries.\n"
     ]
    },
    {
     "name": "stderr",
     "output_type": "stream",
     "text": [
      "Delete of nonexisting embedding ID: e4c71fd8-959f-4108-9d89-87d16005c0e2\n",
      "Delete of nonexisting embedding ID: 8f786719-e69c-426d-839b-be033d8ac086\n",
      "Delete of nonexisting embedding ID: 3bf7e423-cd88-473f-81f0-ca3674ad6ca4\n",
      "Delete of nonexisting embedding ID: cf11fe3f-3b64-49ff-b7fd-f394ae8cef4b\n",
      "Delete of nonexisting embedding ID: c06b5e04-1f99-427b-afb0-7505dc66e8b2\n",
      "Delete of nonexisting embedding ID: 8d933442-5d29-4583-b059-af77d6c20d7b\n",
      "Delete of nonexisting embedding ID: 47fbbc34-735a-4982-83e6-0bd6ceb3c603\n",
      "Delete of nonexisting embedding ID: 86e68d30-f738-4bd6-966f-ac3cc2a1d2c0\n",
      "Delete of nonexisting embedding ID: a7a26796-e5f4-46e8-bf78-48ac301f9caf\n",
      "Delete of nonexisting embedding ID: b4179d2a-a7b0-4957-9ae6-9f069d9f11fb\n",
      "Delete of nonexisting embedding ID: 645ea764-08c3-4b23-aae7-0ba66a7c0869\n",
      "Delete of nonexisting embedding ID: cb4c8eeb-6bfd-4d31-921c-eecef8ba5ae0\n",
      "Delete of nonexisting embedding ID: d4d067ea-dfe5-463e-9c21-9b279230310e\n",
      "Delete of nonexisting embedding ID: efa4de15-ebd5-4f34-a9be-14dde16a540d\n",
      "Delete of nonexisting embedding ID: e425e839-741a-43d4-9fd4-d4e4b3d74900\n",
      "Delete of nonexisting embedding ID: e4c71fd8-959f-4108-9d89-87d16005c0e2\n",
      "Delete of nonexisting embedding ID: 8f786719-e69c-426d-839b-be033d8ac086\n",
      "Delete of nonexisting embedding ID: 3bf7e423-cd88-473f-81f0-ca3674ad6ca4\n",
      "Delete of nonexisting embedding ID: cf11fe3f-3b64-49ff-b7fd-f394ae8cef4b\n",
      "Delete of nonexisting embedding ID: c06b5e04-1f99-427b-afb0-7505dc66e8b2\n",
      "Delete of nonexisting embedding ID: 8d933442-5d29-4583-b059-af77d6c20d7b\n",
      "Delete of nonexisting embedding ID: 47fbbc34-735a-4982-83e6-0bd6ceb3c603\n",
      "Delete of nonexisting embedding ID: 86e68d30-f738-4bd6-966f-ac3cc2a1d2c0\n",
      "Delete of nonexisting embedding ID: a7a26796-e5f4-46e8-bf78-48ac301f9caf\n",
      "Delete of nonexisting embedding ID: b4179d2a-a7b0-4957-9ae6-9f069d9f11fb\n",
      "Delete of nonexisting embedding ID: 645ea764-08c3-4b23-aae7-0ba66a7c0869\n",
      "Delete of nonexisting embedding ID: cb4c8eeb-6bfd-4d31-921c-eecef8ba5ae0\n",
      "Delete of nonexisting embedding ID: d4d067ea-dfe5-463e-9c21-9b279230310e\n",
      "Delete of nonexisting embedding ID: efa4de15-ebd5-4f34-a9be-14dde16a540d\n",
      "Delete of nonexisting embedding ID: e425e839-741a-43d4-9fd4-d4e4b3d74900\n"
     ]
    },
    {
     "name": "stdout",
     "output_type": "stream",
     "text": [
      "Pruned 15 old entries and added 5 new entries.\n",
      "\n",
      "Learned Knowledge Update:\n",
      "['Dimensional Consistency and Integrity: Maintain consistent dimensions in '\n",
      " 'output grids to avoid confusion and enhance understanding of spatial '\n",
      " 'relationships in transformations. Relevant in cases where clear visual '\n",
      " 'comparisons are needed across grid transformations.',\n",
      " 'Integer Clustering: Group similar integers together in output grids to '\n",
      " 'improve readability and reflect the relationships and patterns found in '\n",
      " 'input grids. Useful in enhancing intelligibility during grid '\n",
      " 'transformations.',\n",
      " 'Transformative Feedback Utilization: Use feedback from iterative trials to '\n",
      " 'refine transformation methods and improve accuracy in subsequent grids. '\n",
      " 'Essential for iterative improvement practices in grid transformation tasks.',\n",
      " 'Spatial Relationship Mapping: Analyze the spatial arrangement of integers in '\n",
      " 'input grids and replicate these relationships in the outputs to ensure '\n",
      " 'integrity and coherence. Applicable in contexts requiring precision in grid '\n",
      " 'structure transformation.',\n",
      " 'Symmetry Maintenance: Strive for symmetrical arrangements of integers to '\n",
      " 'enhance visual coherence in output grids, aiding user comprehension of '\n",
      " 'relationships and enhancing aesthetic quality during transformations.']\n",
      "DTW Score: 6.928203230275509\n"
     ]
    },
    {
     "data": {
      "image/png": "[encoded data removed]",
      "text/plain": [
       "<Figure size 640x480 with 3 Axes>"
      ]
     },
     "metadata": {},
     "output_type": "display_data"
    },
    {
     "name": "stderr",
     "output_type": "stream",
     "text": [
      "Training:   7%|\u001b[32m▋         \u001b[0m| 7/100 [35:12<7:34:45, 293.39s/it]"
     ]
    },
    {
     "name": "stdout",
     "output_type": "stream",
     "text": [
      "Iteration: 1 - Pattern Extraction\n",
      "Iteration: 1 - Transformation Analysis\n",
      "Iteration: 1 - Logical Inference\n",
      "Iteration: 1 - Solution Synthesis\n",
      "Iteration: 1 - Consistency Validation\n",
      "Pruned 15 old entries and added 5 new entries.\n"
     ]
    },
    {
     "name": "stderr",
     "output_type": "stream",
     "text": [
      "Delete of nonexisting embedding ID: f9fc8cc4-9568-4482-8ccd-8787b960a7ce\n",
      "Delete of nonexisting embedding ID: 17f0e210-118c-4a77-9ecf-00ad3c207bd7\n",
      "Delete of nonexisting embedding ID: 6a5e0988-d55b-4776-8da8-abc27249480e\n",
      "Delete of nonexisting embedding ID: 98081f7a-95b5-42f0-adfa-21f91b6fcca5\n",
      "Delete of nonexisting embedding ID: dfa8d235-7a03-46e2-be95-7bec230d656d\n",
      "Delete of nonexisting embedding ID: 76fff97b-bfc9-4481-a5c7-5e7bb25a9aec\n",
      "Delete of nonexisting embedding ID: 6a1f2301-3ac5-4512-a1f7-8424991b62d0\n",
      "Delete of nonexisting embedding ID: cdf0fca6-ffa2-458e-84b1-f6c81bb2b9f9\n",
      "Delete of nonexisting embedding ID: 84096967-63d1-4c6b-81b4-6dd562f88993\n",
      "Delete of nonexisting embedding ID: 82968af5-c8ce-4fc8-80bf-0863b8ce7cbc\n",
      "Delete of nonexisting embedding ID: 7a1e6845-96ed-44d1-a400-55bdfb0a323b\n",
      "Delete of nonexisting embedding ID: 23a7123a-9650-433f-80a0-2cfec945ab63\n",
      "Delete of nonexisting embedding ID: c21fdc49-52f9-44b0-ae26-c6b71ac2fde8\n",
      "Delete of nonexisting embedding ID: 7006bd8f-1870-4bae-a93c-8f85ed27d219\n",
      "Delete of nonexisting embedding ID: f9fc8cc4-9568-4482-8ccd-8787b960a7ce\n",
      "Delete of nonexisting embedding ID: 17f0e210-118c-4a77-9ecf-00ad3c207bd7\n",
      "Delete of nonexisting embedding ID: 6a5e0988-d55b-4776-8da8-abc27249480e\n",
      "Delete of nonexisting embedding ID: 98081f7a-95b5-42f0-adfa-21f91b6fcca5\n",
      "Delete of nonexisting embedding ID: dfa8d235-7a03-46e2-be95-7bec230d656d\n",
      "Delete of nonexisting embedding ID: 76fff97b-bfc9-4481-a5c7-5e7bb25a9aec\n",
      "Delete of nonexisting embedding ID: 6a1f2301-3ac5-4512-a1f7-8424991b62d0\n",
      "Delete of nonexisting embedding ID: cdf0fca6-ffa2-458e-84b1-f6c81bb2b9f9\n",
      "Delete of nonexisting embedding ID: 84096967-63d1-4c6b-81b4-6dd562f88993\n",
      "Delete of nonexisting embedding ID: 82968af5-c8ce-4fc8-80bf-0863b8ce7cbc\n",
      "Delete of nonexisting embedding ID: 7a1e6845-96ed-44d1-a400-55bdfb0a323b\n",
      "Delete of nonexisting embedding ID: 23a7123a-9650-433f-80a0-2cfec945ab63\n",
      "Delete of nonexisting embedding ID: c21fdc49-52f9-44b0-ae26-c6b71ac2fde8\n",
      "Delete of nonexisting embedding ID: 7006bd8f-1870-4bae-a93c-8f85ed27d219\n"
     ]
    },
    {
     "name": "stdout",
     "output_type": "stream",
     "text": [
      "Pruned 15 old entries and added 4 new entries.\n",
      "\n",
      "Learned Knowledge Update:\n",
      "['Ensure dimensional consistency in grid transformations; maintaining the same '\n",
      " 'height and width as the input grid is crucial for preserving spatial '\n",
      " 'relationships.',\n",
      " 'Apply effective clustering techniques in output grids; group similar '\n",
      " 'integers based on proximity to create visually coherent and logically '\n",
      " 'structured results.',\n",
      " 'Utilize learned transformation rules, particularly emphasizing significant '\n",
      " \"integers such as '1', '2', '3', and '4' to maintain symmetry and clarity in \"\n",
      " 'output grids.',\n",
      " 'Implement iterative feedback loops; analyze results after each '\n",
      " 'transformation trial to refine strategies and improve the accuracy of '\n",
      " 'subsequent outputs.',\n",
      " 'Develop transformation rules based on pattern identification within input '\n",
      " 'grids; consider spatial relationships to guide integer placement in output '\n",
      " 'matrices.',\n",
      " 'Highlight integer significance and relationships in output grids; '\n",
      " 'emphasizing key integers enhances visibility and helps in understanding '\n",
      " 'transformations.']\n",
      "DTW Score: 12.649110640673518\n"
     ]
    },
    {
     "data": {
      "image/png": "[encoded data removed]",
      "text/plain": [
       "<Figure size 640x480 with 3 Axes>"
      ]
     },
     "metadata": {},
     "output_type": "display_data"
    },
    {
     "name": "stderr",
     "output_type": "stream",
     "text": [
      "Training:   8%|\u001b[32m▊         \u001b[0m| 8/100 [40:47<7:50:00, 306.52s/it]"
     ]
    },
    {
     "name": "stdout",
     "output_type": "stream",
     "text": [
      "Iteration: 1 - Pattern Extraction\n",
      "Iteration: 1 - Transformation Analysis\n",
      "Iteration: 1 - Logical Inference\n",
      "Iteration: 1 - Solution Synthesis\n",
      "Iteration: 1 - Consistency Validation\n",
      "Iteration: 2 - Pattern Extraction\n",
      "Iteration: 2 - Transformation Analysis\n",
      "Iteration: 2 - Logical Inference\n",
      "Iteration: 2 - Solution Synthesis\n",
      "Iteration: 2 - Consistency Validation\n",
      "Iteration: 3 - Pattern Extraction\n",
      "Iteration: 3 - Transformation Analysis\n",
      "Iteration: 3 - Logical Inference\n",
      "Iteration: 3 - Solution Synthesis\n",
      "Iteration: 3 - Consistency Validation\n",
      "Iteration: 4 - Pattern Extraction\n",
      "Iteration: 4 - Transformation Analysis\n",
      "Iteration: 4 - Logical Inference\n",
      "Error in OpenAI API call: 28 validation errors for ListLogicalRule\n",
      "logical_rules.0.premise\n",
      "  Field required [type=missing, input_value={'premise=': \"If an integ...eir relative position.\"}, input_type=dict]\n",
      "    For further information visit https://errors.pydantic.dev/2.7/v/missing\n",
      "logical_rules.0.conclusion\n",
      "  Field required [type=missing, input_value={'premise=': \"If an integ...eir relative position.\"}, input_type=dict]\n",
      "    For further information visit https://errors.pydantic.dev/2.7/v/missing\n",
      "logical_rules.1\n",
      "  Input should be an object [type=model_type, input_value='conclusion: ', input_type=str]\n",
      "    For further information visit https://errors.pydantic.dev/2.7/v/model_type\n",
      "logical_rules.2\n",
      "  Input should be an object [type=model_type, input_value=\"The output grid will ret...ping all '4's constant.\", input_type=str]\n",
      "    For further information visit https://errors.pydantic.dev/2.7/v/model_type\n",
      "logical_rules.3.premise\n",
      "  Field required [type=missing, input_value={'premise=': \"Where '4's ... a vertical hierarchy.\"}, input_type=dict]\n",
      "    For further information visit https://errors.pydantic.dev/2.7/v/missing\n",
      "logical_rules.3.conclusion\n",
      "  Field required [type=missing, input_value={'premise=': \"Where '4's ... a vertical hierarchy.\"}, input_type=dict]\n",
      "    For further information visit https://errors.pydantic.dev/2.7/v/missing\n",
      "logical_rules.4\n",
      "  Input should be an object [type=model_type, input_value='conclusion: ', input_type=str]\n",
      "    For further information visit https://errors.pydantic.dev/2.7/v/model_type\n",
      "logical_rules.5\n",
      "  Input should be an object [type=model_type, input_value=\"The output grid will hav... illustrate clustering.\", input_type=str]\n",
      "    For further information visit https://errors.pydantic.dev/2.7/v/model_type\n",
      "logical_rules.6.premise\n",
      "  Field required [type=missing, input_value={'premise=': 'Input grids...of the same dimension.'}, input_type=dict]\n",
      "    For further information visit https://errors.pydantic.dev/2.7/v/missing\n",
      "logical_rules.6.conclusion\n",
      "  Field required [type=missing, input_value={'premise=': 'Input grids...of the same dimension.'}, input_type=dict]\n",
      "    For further information visit https://errors.pydantic.dev/2.7/v/missing\n",
      "logical_rules.7\n",
      "  Input should be an object [type=model_type, input_value='conclusion: ', input_type=str]\n",
      "    For further information visit https://errors.pydantic.dev/2.7/v/model_type\n",
      "logical_rules.8\n",
      "  Input should be an object [type=model_type, input_value='All transformation outpu...ing to the input grids.', input_type=str]\n",
      "    For further information visit https://errors.pydantic.dev/2.7/v/model_type\n",
      "logical_rules.9.premise\n",
      "  Field required [type=missing, input_value={'premise=': 'Transformat...ses of transformation.'}, input_type=dict]\n",
      "    For further information visit https://errors.pydantic.dev/2.7/v/missing\n",
      "logical_rules.9.conclusion\n",
      "  Field required [type=missing, input_value={'premise=': 'Transformat...ses of transformation.'}, input_type=dict]\n",
      "    For further information visit https://errors.pydantic.dev/2.7/v/missing\n",
      "logical_rules.10\n",
      "  Input should be an object [type=model_type, input_value='conclusion: ', input_type=str]\n",
      "    For further information visit https://errors.pydantic.dev/2.7/v/model_type\n",
      "logical_rules.11\n",
      "  Input should be an object [type=model_type, input_value='Each output generation w...s in integer positions.', input_type=str]\n",
      "    For further information visit https://errors.pydantic.dev/2.7/v/model_type\n",
      "logical_rules.12.premise\n",
      "  Field required [type=missing, input_value={'premise=': \"Symmetry is...etained across trials.\"}, input_type=dict]\n",
      "    For further information visit https://errors.pydantic.dev/2.7/v/missing\n",
      "logical_rules.12.conclusion\n",
      "  Field required [type=missing, input_value={'premise=': \"Symmetry is...etained across trials.\"}, input_type=dict]\n",
      "    For further information visit https://errors.pydantic.dev/2.7/v/missing\n",
      "logical_rules.13\n",
      "  Input should be an object [type=model_type, input_value='conclusion: ', input_type=str]\n",
      "    For further information visit https://errors.pydantic.dev/2.7/v/model_type\n",
      "logical_rules.14\n",
      "  Input should be an object [type=model_type, input_value=\"The final transformation...ctive rows and columns.\", input_type=str]\n",
      "    For further information visit https://errors.pydantic.dev/2.7/v/model_type\n",
      "logical_rules.15.premise\n",
      "  Field required [type=missing, input_value={'premise=': \"When '4's a...spatial relationships.\"}, input_type=dict]\n",
      "    For further information visit https://errors.pydantic.dev/2.7/v/missing\n",
      "logical_rules.15.conclusion\n",
      "  Field required [type=missing, input_value={'premise=': \"When '4's a...spatial relationships.\"}, input_type=dict]\n",
      "    For further information visit https://errors.pydantic.dev/2.7/v/missing\n",
      "logical_rules.16\n",
      "  Input should be an object [type=model_type, input_value='conclusion: ', input_type=str]\n",
      "    For further information visit https://errors.pydantic.dev/2.7/v/model_type\n",
      "logical_rules.17\n",
      "  Input should be an object [type=model_type, input_value='Consistent integer clust...nce in the output grid.', input_type=str]\n",
      "    For further information visit https://errors.pydantic.dev/2.7/v/model_type\n",
      "logical_rules.18.premise\n",
      "  Field required [type=missing, input_value={'premise=': 'Adaptive cl...ure of the input grid.'}, input_type=dict]\n",
      "    For further information visit https://errors.pydantic.dev/2.7/v/missing\n",
      "logical_rules.18.conclusion\n",
      "  Field required [type=missing, input_value={'premise=': 'Adaptive cl...ure of the input grid.'}, input_type=dict]\n",
      "    For further information visit https://errors.pydantic.dev/2.7/v/missing\n",
      "logical_rules.19\n",
      "  Input should be an object [type=model_type, input_value='conclusion: ', input_type=str]\n",
      "    For further information visit https://errors.pydantic.dev/2.7/v/model_type\n",
      "logical_rules.20\n",
      "  Input should be an object [type=model_type, input_value='The output grid formatio...nts through each trial.', input_type=str]\n",
      "    For further information visit https://errors.pydantic.dev/2.7/v/model_type\n",
      "Iteration: 4 - Solution Synthesis\n",
      "Iteration: 4 - Consistency Validation\n",
      "Pruned 15 old entries and added 5 new entries.\n"
     ]
    },
    {
     "name": "stderr",
     "output_type": "stream",
     "text": [
      "Delete of nonexisting embedding ID: 94db6574-cf2f-4d38-8c10-85dc0179f5ac\n",
      "Delete of nonexisting embedding ID: 1a014d9d-5e7c-4882-b7fc-b82dc7bcb115\n",
      "Delete of nonexisting embedding ID: e5620db7-3d60-4782-9d5e-5327c781b6c5\n",
      "Delete of nonexisting embedding ID: 81c17478-3ffd-4f3b-81cf-b16d8c7039aa\n",
      "Delete of nonexisting embedding ID: 4592c83a-6acf-434e-bf3e-90e7aedb8966\n",
      "Delete of nonexisting embedding ID: 2047f5d6-1bd2-4611-9989-83e380803a31\n",
      "Delete of nonexisting embedding ID: 9b4050ba-686c-40e6-9b14-58de1e6f1a58\n",
      "Delete of nonexisting embedding ID: fecca140-8c15-4516-b6f6-13630f92220c\n",
      "Delete of nonexisting embedding ID: 0f908366-11e3-4b3d-80ff-5eff88878e2e\n",
      "Delete of nonexisting embedding ID: 0ce8f255-de23-48c5-bfb9-6d660c2b226f\n",
      "Delete of nonexisting embedding ID: 889457f1-0354-4431-a07b-c05ef5f5e039\n",
      "Delete of nonexisting embedding ID: 35fe33a3-2d64-4d20-a9a2-8158817bf562\n",
      "Delete of nonexisting embedding ID: 668ed2e1-d96a-4bbb-b5ed-af239a7581e2\n",
      "Delete of nonexisting embedding ID: fed33f8a-3498-475b-8a7c-ceab32828d1b\n",
      "Delete of nonexisting embedding ID: 94db6574-cf2f-4d38-8c10-85dc0179f5ac\n",
      "Delete of nonexisting embedding ID: 1a014d9d-5e7c-4882-b7fc-b82dc7bcb115\n",
      "Delete of nonexisting embedding ID: e5620db7-3d60-4782-9d5e-5327c781b6c5\n",
      "Delete of nonexisting embedding ID: 81c17478-3ffd-4f3b-81cf-b16d8c7039aa\n",
      "Delete of nonexisting embedding ID: 4592c83a-6acf-434e-bf3e-90e7aedb8966\n",
      "Delete of nonexisting embedding ID: 2047f5d6-1bd2-4611-9989-83e380803a31\n",
      "Delete of nonexisting embedding ID: 9b4050ba-686c-40e6-9b14-58de1e6f1a58\n",
      "Delete of nonexisting embedding ID: fecca140-8c15-4516-b6f6-13630f92220c\n",
      "Delete of nonexisting embedding ID: 0f908366-11e3-4b3d-80ff-5eff88878e2e\n",
      "Delete of nonexisting embedding ID: 0ce8f255-de23-48c5-bfb9-6d660c2b226f\n",
      "Delete of nonexisting embedding ID: 889457f1-0354-4431-a07b-c05ef5f5e039\n",
      "Delete of nonexisting embedding ID: 35fe33a3-2d64-4d20-a9a2-8158817bf562\n",
      "Delete of nonexisting embedding ID: 668ed2e1-d96a-4bbb-b5ed-af239a7581e2\n",
      "Delete of nonexisting embedding ID: fed33f8a-3498-475b-8a7c-ceab32828d1b\n"
     ]
    },
    {
     "name": "stdout",
     "output_type": "stream",
     "text": [
      "Pruned 15 old entries and added 4 new entries.\n",
      "\n",
      "Learned Knowledge Update:\n",
      "['Concept: The transformation process for grid outputs relies heavily on the '\n",
      " 'recognition of spatial relationships between integers in input grids.',\n",
      " 'Idea: Employ iterative trial methods that allow for continuous refinement of '\n",
      " 'grid transformations based on prior outputs and feedback.',\n",
      " 'Principle: Dimensional integrity must be maintained across all '\n",
      " 'transformations, ensuring output grids match the height and width of input '\n",
      " 'grids to preserve their structure.',\n",
      " 'Rule: Clustering principles should dictate the placement of integers in '\n",
      " \"output grids, aiming to position integers like '2's directly beneath \"\n",
      " \"relevant '4's as observed in patterns from previous examples.\",\n",
      " 'Principle: Feedback loops are essential in the transformation process; '\n",
      " 'regularly analyzing output from previous iterations informs adjustments '\n",
      " 'needed in subsequent trials.',\n",
      " 'Rule: When constructing output grids, ensure logical organization by showing '\n",
      " 'visible hierarchies (e.g., clustering similar integers together) to enhance '\n",
      " 'interpretability and maintain visual coherence.',\n",
      " 'Concept: The effectiveness of integer clustering relies on establishing '\n",
      " 'explicit rules that dictate how integers are grouped based on proximity and '\n",
      " 'hierarchical relationships.',\n",
      " 'Idea: Utilize clustering techniques that adjust based on the geometric '\n",
      " 'distribution of integers across input grids to aid in effective integer '\n",
      " 'placement in output grids.',\n",
      " 'Principle: A consistent mapping of integers from input to output is '\n",
      " 'paramount, emphasizing recognizable patterns that the target audience can '\n",
      " 'follow easily.']\n",
      "DTW Score: 6.324555320336759\n"
     ]
    },
    {
     "data": {
      "image/png": "[encoded data removed]",
      "text/plain": [
       "<Figure size 640x480 with 3 Axes>"
      ]
     },
     "metadata": {},
     "output_type": "display_data"
    },
    {
     "name": "stderr",
     "output_type": "stream",
     "text": [
      "Training:   9%|\u001b[32m▉         \u001b[0m| 9/100 [49:35<9:30:00, 375.83s/it]"
     ]
    },
    {
     "name": "stdout",
     "output_type": "stream",
     "text": [
      "Iteration: 1 - Pattern Extraction\n",
      "Iteration: 1 - Transformation Analysis\n",
      "Iteration: 1 - Logical Inference\n",
      "Iteration: 1 - Solution Synthesis\n",
      "Iteration: 1 - Consistency Validation\n",
      "Iteration: 2 - Pattern Extraction\n",
      "Iteration: 2 - Transformation Analysis\n",
      "Iteration: 2 - Logical Inference\n",
      "Iteration: 2 - Solution Synthesis\n",
      "Iteration: 2 - Consistency Validation\n",
      "Iteration: 3 - Pattern Extraction\n",
      "Iteration: 3 - Transformation Analysis\n",
      "Iteration: 3 - Logical Inference\n",
      "Iteration: 3 - Solution Synthesis\n",
      "Iteration: 3 - Consistency Validation\n",
      "Iteration: 4 - Pattern Extraction\n",
      "Iteration: 4 - Transformation Analysis\n",
      "Iteration: 4 - Logical Inference\n",
      "Iteration: 4 - Solution Synthesis\n",
      "Iteration: 4 - Consistency Validation\n",
      "Pruned 15 old entries and added 10 new entries.\n"
     ]
    },
    {
     "name": "stderr",
     "output_type": "stream",
     "text": [
      "Delete of nonexisting embedding ID: f22a5fed-0a78-4f23-93ca-1029f12db774\n",
      "Delete of nonexisting embedding ID: c8a2c8ee-a134-488a-be88-c81b16be3379\n",
      "Delete of nonexisting embedding ID: a093d05f-054e-4e7f-86b9-6d0ee3b0bdad\n",
      "Delete of nonexisting embedding ID: ade9c9fc-d9b4-4735-9c3c-cc0eb38309f3\n",
      "Delete of nonexisting embedding ID: cfeb07a2-7c6b-42d9-aea2-7b7c3112dea4\n",
      "Delete of nonexisting embedding ID: fa5e2dd2-5ba9-4877-88d1-0502c5d327d2\n",
      "Delete of nonexisting embedding ID: 8b85977c-a4ae-4092-9014-a0282914cc6a\n",
      "Delete of nonexisting embedding ID: 3a336e87-5c9c-4212-a8c7-e4b3a9073e41\n",
      "Delete of nonexisting embedding ID: 41c5783c-2d45-4878-9ac6-662519e58fd1\n",
      "Delete of nonexisting embedding ID: 8b161d57-4b3f-41bb-9f4d-1bdb96a086c4\n",
      "Delete of nonexisting embedding ID: 544728a2-f661-4fc8-9df7-bcf74c32d658\n",
      "Delete of nonexisting embedding ID: e3c41a52-927e-47a4-993b-1a3e37dcd193\n",
      "Delete of nonexisting embedding ID: 9c5965e5-176c-488b-9852-6b8f0970dc2a\n",
      "Delete of nonexisting embedding ID: 2db373c9-a0ee-423f-a364-46523c15f26f\n",
      "Delete of nonexisting embedding ID: f22a5fed-0a78-4f23-93ca-1029f12db774\n",
      "Delete of nonexisting embedding ID: c8a2c8ee-a134-488a-be88-c81b16be3379\n",
      "Delete of nonexisting embedding ID: a093d05f-054e-4e7f-86b9-6d0ee3b0bdad\n",
      "Delete of nonexisting embedding ID: ade9c9fc-d9b4-4735-9c3c-cc0eb38309f3\n",
      "Delete of nonexisting embedding ID: cfeb07a2-7c6b-42d9-aea2-7b7c3112dea4\n",
      "Delete of nonexisting embedding ID: fa5e2dd2-5ba9-4877-88d1-0502c5d327d2\n",
      "Delete of nonexisting embedding ID: 8b85977c-a4ae-4092-9014-a0282914cc6a\n",
      "Delete of nonexisting embedding ID: 3a336e87-5c9c-4212-a8c7-e4b3a9073e41\n",
      "Delete of nonexisting embedding ID: 41c5783c-2d45-4878-9ac6-662519e58fd1\n",
      "Delete of nonexisting embedding ID: 8b161d57-4b3f-41bb-9f4d-1bdb96a086c4\n",
      "Delete of nonexisting embedding ID: 544728a2-f661-4fc8-9df7-bcf74c32d658\n",
      "Delete of nonexisting embedding ID: e3c41a52-927e-47a4-993b-1a3e37dcd193\n",
      "Delete of nonexisting embedding ID: 9c5965e5-176c-488b-9852-6b8f0970dc2a\n",
      "Delete of nonexisting embedding ID: 2db373c9-a0ee-423f-a364-46523c15f26f\n"
     ]
    },
    {
     "name": "stdout",
     "output_type": "stream",
     "text": [
      "Pruned 15 old entries and added 4 new entries.\n",
      "\n",
      "Learned Knowledge Update:\n",
      "['Enhancing understanding of integer clustering principles is crucial, '\n",
      " 'particularly how integers should be positioned in relation to each other '\n",
      " \"based on established patterns observed in previous examples; e.g., '4's \"\n",
      " \"should significantly influence placements of '2's or '5's.\",\n",
      " 'It is essential to ensure that all transformation processes strictly adhere '\n",
      " 'to logical rules that define visual representation and integer '\n",
      " 'relationships, preventing inconsistencies in output grids; e.g., properly '\n",
      " 'clustering similar integers based on their relationships.',\n",
      " 'Implementing robust feedback loops is necessary to effectively incorporate '\n",
      " 'insights from prior trials, adjusting the approach accordingly to strengthen '\n",
      " 'transformations in future attempts; e.g., revise integer positions based on '\n",
      " 'success or failure of previous outputs to improve accuracy of '\n",
      " 'transformations.',\n",
      " 'The importance of maintaining structural integrity across all '\n",
      " 'transformations by ensuring that output grids consistently preserve the same '\n",
      " 'height and width as input grids; this ensures a logical mapping of numbers '\n",
      " 'and coherence in transformations.',\n",
      " 'Recognizing the critical nature of understanding spatial relationships among '\n",
      " 'integers during transformation processes aids in predicting and accurately '\n",
      " 'constructing output grids; e.g., integers should follow a defined hierarchy '\n",
      " 'in their arrangement to represent connections clearly.']\n",
      "DTW Score: 13.2664991614216\n"
     ]
    },
    {
     "data": {
      "image/png": "[encoded data removed]",
      "text/plain": [
       "<Figure size 640x480 with 3 Axes>"
      ]
     },
     "metadata": {},
     "output_type": "display_data"
    },
    {
     "name": "stderr",
     "output_type": "stream",
     "text": [
      "Training:  10%|\u001b[32m█         \u001b[0m| 10/100 [58:34<10:39:19, 426.22s/it]"
     ]
    },
    {
     "name": "stdout",
     "output_type": "stream",
     "text": [
      "Iteration: 1 - Pattern Extraction\n",
      "Iteration: 1 - Transformation Analysis\n",
      "Iteration: 1 - Logical Inference\n",
      "Iteration: 1 - Solution Synthesis\n",
      "Iteration: 1 - Consistency Validation\n",
      "Iteration: 2 - Pattern Extraction\n",
      "Iteration: 2 - Transformation Analysis\n",
      "Iteration: 2 - Logical Inference\n",
      "Iteration: 2 - Solution Synthesis\n",
      "Iteration: 2 - Consistency Validation\n",
      "Iteration: 3 - Pattern Extraction\n",
      "Iteration: 3 - Transformation Analysis\n",
      "Iteration: 3 - Logical Inference\n",
      "Iteration: 3 - Solution Synthesis\n",
      "Iteration: 3 - Consistency Validation\n",
      "Iteration: 4 - Pattern Extraction\n",
      "Iteration: 4 - Transformation Analysis\n",
      "Iteration: 4 - Logical Inference\n",
      "Iteration: 4 - Solution Synthesis\n",
      "Iteration: 4 - Consistency Validation\n",
      "Pruned 15 old entries and added 6 new entries.\n"
     ]
    },
    {
     "name": "stderr",
     "output_type": "stream",
     "text": [
      "Delete of nonexisting embedding ID: 383df2eb-a347-40c5-bcd9-3ea16e6dea07\n",
      "Delete of nonexisting embedding ID: 19841302-76ab-4c6b-818c-fdd1c3971e6c\n",
      "Delete of nonexisting embedding ID: 01791230-7d27-4af2-9c29-7914c8e41506\n",
      "Delete of nonexisting embedding ID: bb5e32e4-37aa-4474-bf14-309d9ec4f7f6\n",
      "Delete of nonexisting embedding ID: c71fa958-3a8a-4595-b5d8-7c2ad5a0da35\n",
      "Delete of nonexisting embedding ID: 2115a1b0-3b9b-4e10-957e-4c7d2f51ef2f\n",
      "Delete of nonexisting embedding ID: 6b4bc6e1-d4a5-4395-a51e-b49565463a66\n",
      "Delete of nonexisting embedding ID: 6cfa95cc-e084-4c0a-8fc6-b216fef4f0cb\n",
      "Delete of nonexisting embedding ID: 5cf8b5bb-d2b2-42aa-804b-cc881eb96914\n",
      "Delete of nonexisting embedding ID: 07ad8579-5a08-46e4-b0a5-7416d6928e4c\n",
      "Delete of nonexisting embedding ID: a1cafe10-4790-433f-ae80-59edcf03c045\n",
      "Delete of nonexisting embedding ID: 79114602-f279-4870-9023-f5270bbce8f7\n",
      "Delete of nonexisting embedding ID: 383df2eb-a347-40c5-bcd9-3ea16e6dea07\n",
      "Delete of nonexisting embedding ID: 19841302-76ab-4c6b-818c-fdd1c3971e6c\n",
      "Delete of nonexisting embedding ID: 01791230-7d27-4af2-9c29-7914c8e41506\n",
      "Delete of nonexisting embedding ID: bb5e32e4-37aa-4474-bf14-309d9ec4f7f6\n",
      "Delete of nonexisting embedding ID: c71fa958-3a8a-4595-b5d8-7c2ad5a0da35\n",
      "Delete of nonexisting embedding ID: 2115a1b0-3b9b-4e10-957e-4c7d2f51ef2f\n",
      "Delete of nonexisting embedding ID: 6b4bc6e1-d4a5-4395-a51e-b49565463a66\n",
      "Delete of nonexisting embedding ID: 6cfa95cc-e084-4c0a-8fc6-b216fef4f0cb\n",
      "Delete of nonexisting embedding ID: 5cf8b5bb-d2b2-42aa-804b-cc881eb96914\n",
      "Delete of nonexisting embedding ID: 07ad8579-5a08-46e4-b0a5-7416d6928e4c\n",
      "Delete of nonexisting embedding ID: a1cafe10-4790-433f-ae80-59edcf03c045\n",
      "Delete of nonexisting embedding ID: 79114602-f279-4870-9023-f5270bbce8f7\n"
     ]
    },
    {
     "name": "stdout",
     "output_type": "stream",
     "text": [
      "Pruned 15 old entries and added 4 new entries.\n",
      "\n",
      "Learned Knowledge Update:\n",
      "['Concept: Integer clustering strategies are essential for constructing output '\n",
      " 'grids, ensuring logically coherent arrangements based on proximity to other '\n",
      " 'integers.',\n",
      " 'Idea: Utilize dimensional integrity by always maintaining the same height '\n",
      " 'and width in the output grid as in the input grid to avoid any spatial '\n",
      " 'misalignment.',\n",
      " 'Principle: The relationships between integers should be preserved across '\n",
      " 'transformations to ensure coherent and visually logical output grids. This '\n",
      " 'includes understanding vertical and horizontal movements within the grid.',\n",
      " 'Rule: Incorporate feedback from previous transformation responses to improve '\n",
      " 'accuracy in future outputs, forming a continuous learning loop that refines '\n",
      " 'integer placements.',\n",
      " 'Concept: Visual representation consistency is crucial; a systematic approach '\n",
      " 'to color-coding integers aids in quickly identifying patterns and '\n",
      " 'relationships in the output.',\n",
      " 'Rule: Identify and document recurrent structures in previous transformations '\n",
      " 'to enable predictive modeling for input-output relationships in future '\n",
      " 'trials.',\n",
      " 'Idea: Prioritize clarity in visual representation by grouping similar '\n",
      " 'integers close together, reinforcing the visibility of patterns in the final '\n",
      " 'output grids.']\n",
      "DTW Score: 8.12403840463596\n"
     ]
    },
    {
     "data": {
      "image/png": "[encoded data removed]",
      "text/plain": [
       "<Figure size 640x480 with 3 Axes>"
      ]
     },
     "metadata": {},
     "output_type": "display_data"
    },
    {
     "name": "stderr",
     "output_type": "stream",
     "text": [
      "Training:  11%|\u001b[32m█         \u001b[0m| 11/100 [1:05:29<10:26:58, 422.68s/it]"
     ]
    },
    {
     "name": "stdout",
     "output_type": "stream",
     "text": [
      "Iteration: 1 - Pattern Extraction\n",
      "Iteration: 1 - Transformation Analysis\n",
      "Iteration: 1 - Logical Inference\n",
      "Iteration: 1 - Solution Synthesis\n",
      "Iteration: 1 - Consistency Validation\n",
      "Iteration: 2 - Pattern Extraction\n",
      "Iteration: 2 - Transformation Analysis\n",
      "Iteration: 2 - Logical Inference\n",
      "Iteration: 2 - Solution Synthesis\n",
      "Iteration: 2 - Consistency Validation\n",
      "Iteration: 3 - Pattern Extraction\n",
      "Iteration: 3 - Transformation Analysis\n",
      "Iteration: 3 - Logical Inference\n",
      "Iteration: 3 - Solution Synthesis\n",
      "Error in OpenAI API call: 1 validation error for Solution\n",
      "explanation\n",
      "  Field required [type=missing, input_value={'Answer': '[[0, 0, 4, 0,...ion of the input data.\"}, input_type=dict]\n",
      "    For further information visit https://errors.pydantic.dev/2.7/v/missing\n",
      "Error in OpenAI API call: 1 validation error for Solution\n",
      "explanation\n",
      "  Field required [type=missing, input_value={'Answer': '[[4, 4, 4, 0,...from the input matrix.\"}, input_type=dict]\n",
      "    For further information visit https://errors.pydantic.dev/2.7/v/missing\n",
      "Iteration: 3 - Consistency Validation\n",
      "Iteration: 4 - Pattern Extraction\n",
      "Iteration: 4 - Transformation Analysis\n",
      "Iteration: 4 - Logical Inference\n",
      "Iteration: 4 - Solution Synthesis\n",
      "Error in OpenAI API call: 1 validation error for Solution\n",
      "explanation\n",
      "  Field required [type=missing, input_value={'Answer': '[[4, 4, 4, 8,...ons remain consistent.\"}, input_type=dict]\n",
      "    For further information visit https://errors.pydantic.dev/2.7/v/missing\n",
      "Error in OpenAI API call: 1 validation error for Solution\n",
      "explanation\n",
      "  Field required [type=missing, input_value={'Answer': '[[0, 0, 4, 0,...arity in observations.\"}, input_type=dict]\n",
      "    For further information visit https://errors.pydantic.dev/2.7/v/missing\n",
      "Iteration: 4 - Consistency Validation\n",
      "Pruned 15 old entries and added 6 new entries.\n"
     ]
    },
    {
     "name": "stderr",
     "output_type": "stream",
     "text": [
      "Delete of nonexisting embedding ID: f0308942-ac0b-44a9-abba-9830df16f6f3\n",
      "Delete of nonexisting embedding ID: cc343503-2179-4147-b68e-2457f6a1a556\n",
      "Delete of nonexisting embedding ID: 1282891d-4030-48e4-95fd-4d52a7fa9079\n",
      "Delete of nonexisting embedding ID: a114d1a5-b91d-4ded-92af-ebe5718f630b\n",
      "Delete of nonexisting embedding ID: 30676851-c52b-4842-8851-007ce3104ffa\n",
      "Delete of nonexisting embedding ID: c81c00fd-4622-460a-8bfe-d5a80ecf16b2\n",
      "Delete of nonexisting embedding ID: c04270f4-a2f5-4143-97a7-570e03442cee\n",
      "Delete of nonexisting embedding ID: 24e11aa9-bd67-4a73-828c-1cb73ca53479\n",
      "Delete of nonexisting embedding ID: 412e2eae-bce4-450a-8b73-ed8ead9fd86e\n",
      "Delete of nonexisting embedding ID: c9cc721e-43f9-4284-9b54-95eedb4ec7f0\n",
      "Delete of nonexisting embedding ID: 426c2bcf-9855-450d-8a4c-e6ef813334aa\n",
      "Delete of nonexisting embedding ID: ddf9f12d-8ff8-460f-8263-6c19d6e59509\n",
      "Delete of nonexisting embedding ID: 5b0df98c-dec8-4b0a-a68c-30983dc2100d\n",
      "Delete of nonexisting embedding ID: f0308942-ac0b-44a9-abba-9830df16f6f3\n",
      "Delete of nonexisting embedding ID: cc343503-2179-4147-b68e-2457f6a1a556\n",
      "Delete of nonexisting embedding ID: 1282891d-4030-48e4-95fd-4d52a7fa9079\n",
      "Delete of nonexisting embedding ID: a114d1a5-b91d-4ded-92af-ebe5718f630b\n",
      "Delete of nonexisting embedding ID: 30676851-c52b-4842-8851-007ce3104ffa\n",
      "Delete of nonexisting embedding ID: c81c00fd-4622-460a-8bfe-d5a80ecf16b2\n",
      "Delete of nonexisting embedding ID: c04270f4-a2f5-4143-97a7-570e03442cee\n",
      "Delete of nonexisting embedding ID: 24e11aa9-bd67-4a73-828c-1cb73ca53479\n",
      "Delete of nonexisting embedding ID: 412e2eae-bce4-450a-8b73-ed8ead9fd86e\n",
      "Delete of nonexisting embedding ID: c9cc721e-43f9-4284-9b54-95eedb4ec7f0\n",
      "Delete of nonexisting embedding ID: 426c2bcf-9855-450d-8a4c-e6ef813334aa\n",
      "Delete of nonexisting embedding ID: ddf9f12d-8ff8-460f-8263-6c19d6e59509\n",
      "Delete of nonexisting embedding ID: 5b0df98c-dec8-4b0a-a68c-30983dc2100d\n"
     ]
    },
    {
     "name": "stdout",
     "output_type": "stream",
     "text": [
      "Pruned 15 old entries and added 3 new entries.\n",
      "\n",
      "Learned Knowledge Update:\n",
      "['Dimensional Integrity Preservation: Always maintain the same height and '\n",
      " 'width for input and output grids to ensure spatial alignment and logical '\n",
      " 'continuity in transformations. This assists in accurately mirroring integer '\n",
      " 'relationships from inputs to outputs. Applicability: Any task involving grid '\n",
      " 'transformations where consistency in dimensions is critical.',\n",
      " 'Integer Relationship and Clustering: Utilize established clustering patterns '\n",
      " 'of similar integers. Organizing integers based on proximity and previous '\n",
      " 'relationships aids in improving visual representation and helps in '\n",
      " 'understanding transformation logic. Applicability: Effective in all grid '\n",
      " 'tasks, particularly where integer relationships directly impact '\n",
      " 'interpretations.',\n",
      " 'Feedback Loop for Transformation Improvement: Learn from past mistakes by '\n",
      " 'analyzing previous outputs. Adjust subsequent transformations based on '\n",
      " 'observed errors and successes to refine the accuracy of future outputs. '\n",
      " 'Applicability: Useful in iterative tasks where prior outputs influence '\n",
      " 'future predictions, especially in complex transformation environments.',\n",
      " 'Visual Clarity in Output Representation: Prioritize the grouping of similar '\n",
      " 'integers in output grids for easier recognition of patterns. Clear '\n",
      " 'organization helps enhance understandings, such as recognizing clusters and '\n",
      " 'relationships accurately. Applicability: Important in tasks that require '\n",
      " 'clear visual interpretations of grid outputs, including image processing and '\n",
      " 'data visualization.',\n",
      " 'Systematic Integer Positioning: Pay attention to the spatial relationships '\n",
      " 'of integers to maintain identifiable patterns as per previous examples, '\n",
      " 'ensuring coherence in integer placement across transformations. '\n",
      " 'Applicability: Relevant in any transformation tasks that require the '\n",
      " 'preservation of logical integer placements based on their spatial '\n",
      " 'arrangements in input grids.']\n",
      "DTW Score: 35.53871128783372\n"
     ]
    },
    {
     "data": {
      "image/png": "[encoded data removed]",
      "text/plain": [
       "<Figure size 640x480 with 3 Axes>"
      ]
     },
     "metadata": {},
     "output_type": "display_data"
    },
    {
     "name": "stderr",
     "output_type": "stream",
     "text": [
      "Training:  12%|\u001b[32m█▏        \u001b[0m| 12/100 [1:24:09<15:31:08, 634.87s/it]"
     ]
    },
    {
     "name": "stdout",
     "output_type": "stream",
     "text": [
      "Iteration: 1 - Pattern Extraction\n",
      "Iteration: 1 - Transformation Analysis\n",
      "Iteration: 1 - Logical Inference\n",
      "Iteration: 1 - Solution Synthesis\n",
      "Iteration: 1 - Consistency Validation\n",
      "Iteration: 2 - Pattern Extraction\n",
      "Iteration: 2 - Transformation Analysis\n",
      "Iteration: 2 - Logical Inference\n",
      "Iteration: 2 - Solution Synthesis\n",
      "Iteration: 2 - Consistency Validation\n",
      "Iteration: 3 - Pattern Extraction\n",
      "Iteration: 3 - Transformation Analysis\n",
      "Iteration: 3 - Logical Inference\n",
      "Iteration: 3 - Solution Synthesis\n",
      "Iteration: 3 - Consistency Validation\n",
      "Iteration: 4 - Pattern Extraction\n",
      "Iteration: 4 - Transformation Analysis\n",
      "Iteration: 4 - Logical Inference\n",
      "Iteration: 4 - Solution Synthesis\n",
      "Iteration: 4 - Consistency Validation\n",
      "Pruned 15 old entries and added 8 new entries.\n"
     ]
    },
    {
     "name": "stderr",
     "output_type": "stream",
     "text": [
      "Delete of nonexisting embedding ID: 086f24de-a88f-4aba-80d8-e1d85a04ac2f\n",
      "Delete of nonexisting embedding ID: 577178e9-cd57-4537-a987-725d623a51e4\n",
      "Delete of nonexisting embedding ID: de5e5de1-b9b0-40d6-b450-512e1ef0fd9a\n",
      "Delete of nonexisting embedding ID: fff62efa-ffa5-4d9e-ac30-45727b4f657a\n",
      "Delete of nonexisting embedding ID: b29caa66-74d4-411a-93ab-82b1ec2a5bc4\n",
      "Delete of nonexisting embedding ID: d55a4a7b-ed30-4593-862b-5c16bac2ec89\n",
      "Delete of nonexisting embedding ID: 9df92933-4a8b-4146-8a55-9c9a946bb548\n",
      "Delete of nonexisting embedding ID: 67ea628e-f334-43bd-b0ec-9acfaad66d0e\n",
      "Delete of nonexisting embedding ID: 043d16e2-7cec-4404-b963-2d13f053359c\n",
      "Delete of nonexisting embedding ID: fa8395ed-28d2-4549-b275-d6f0976b81cb\n",
      "Delete of nonexisting embedding ID: 9d8fcb0c-06e1-4b10-8afa-6b1906bb69d5\n",
      "Delete of nonexisting embedding ID: a8ec90eb-988b-406a-a0f5-0cef75fedba3\n",
      "Delete of nonexisting embedding ID: c04c6706-e8f5-47dd-bd9d-53d056e9ae49\n",
      "Delete of nonexisting embedding ID: 086f24de-a88f-4aba-80d8-e1d85a04ac2f\n",
      "Delete of nonexisting embedding ID: 577178e9-cd57-4537-a987-725d623a51e4\n",
      "Delete of nonexisting embedding ID: de5e5de1-b9b0-40d6-b450-512e1ef0fd9a\n",
      "Delete of nonexisting embedding ID: fff62efa-ffa5-4d9e-ac30-45727b4f657a\n",
      "Delete of nonexisting embedding ID: b29caa66-74d4-411a-93ab-82b1ec2a5bc4\n",
      "Delete of nonexisting embedding ID: d55a4a7b-ed30-4593-862b-5c16bac2ec89\n",
      "Delete of nonexisting embedding ID: 9df92933-4a8b-4146-8a55-9c9a946bb548\n",
      "Delete of nonexisting embedding ID: 67ea628e-f334-43bd-b0ec-9acfaad66d0e\n",
      "Delete of nonexisting embedding ID: 043d16e2-7cec-4404-b963-2d13f053359c\n",
      "Delete of nonexisting embedding ID: fa8395ed-28d2-4549-b275-d6f0976b81cb\n",
      "Delete of nonexisting embedding ID: 9d8fcb0c-06e1-4b10-8afa-6b1906bb69d5\n",
      "Delete of nonexisting embedding ID: a8ec90eb-988b-406a-a0f5-0cef75fedba3\n",
      "Delete of nonexisting embedding ID: c04c6706-e8f5-47dd-bd9d-53d056e9ae49\n"
     ]
    },
    {
     "name": "stdout",
     "output_type": "stream",
     "text": [
      "Pruned 15 old entries and added 3 new entries.\n",
      "\n",
      "Learned Knowledge Update:\n",
      "['Understanding of integer clustering strategies is essential for maintaining '\n",
      " 'visual coherence between input and output grids, thereby improving clarity '\n",
      " 'in representation.',\n",
      " 'Iterative learning from previous transformations significantly enhances the '\n",
      " 'ability to apply learned patterns and rules effectively to new grid tasks, '\n",
      " 'thereby offering a framework for accurate predictions.',\n",
      " 'Consistency in transformation dimensions is key; it helps ensure that '\n",
      " 'spatial relationships and integer placements are preserved effectively, '\n",
      " \"enhancing the output grid's logical structure.\",\n",
      " 'Focus on preserving integer relationships across transformations, '\n",
      " 'reinforcing the need for maintaining clustering behaviors that are coherent '\n",
      " 'with prior outputs, thus aiding in clearer visual interpretation of outputs.',\n",
      " 'The necessity of a systematic approach to recognizing and arranging integers '\n",
      " 'based on established spatial relationships, which allows for clearer '\n",
      " 'deduction of output structures during grid transformations.']\n",
      "DTW Score: 28.827070610799147\n"
     ]
    },
    {
     "data": {
      "image/png": "[encoded data removed]",
      "text/plain": [
       "<Figure size 640x480 with 3 Axes>"
      ]
     },
     "metadata": {},
     "output_type": "display_data"
    },
    {
     "name": "stderr",
     "output_type": "stream",
     "text": [
      "Training:  13%|\u001b[32m█▎        \u001b[0m| 13/100 [1:31:38<13:58:49, 578.50s/it]"
     ]
    },
    {
     "name": "stdout",
     "output_type": "stream",
     "text": [
      "Iteration: 1 - Pattern Extraction\n",
      "Iteration: 1 - Transformation Analysis\n",
      "Error in OpenAI API call: 1 validation error for ListTransformation\n",
      "  Invalid JSON: EOF while parsing a string at line 1 column 2121 [type=json_invalid, input_value='{\"transformations\":[{\"in..., 1, 1, 1, 1, 1, 1, 1, ', input_type=str]\n",
      "    For further information visit https://errors.pydantic.dev/2.7/v/json_invalid\n",
      "Error in OpenAI API call: 1 validation error for ListTransformation\n",
      "  Invalid JSON: EOF while parsing a string at line 1 column 2127 [type=json_invalid, input_value='{\"transformations\":[{\"in..., 1, 1, 1, 1, 1, 1, 1, ', input_type=str]\n",
      "    For further information visit https://errors.pydantic.dev/2.7/v/json_invalid\n",
      "Error in OpenAI API call: 1 validation error for ListTransformation\n",
      "  Invalid JSON: EOF while parsing a string at line 1 column 2232 [type=json_invalid, input_value='{\"transformations\":[{\"in...1, 1, 1, 1, 1, 1, 1, 1,', input_type=str]\n",
      "    For further information visit https://errors.pydantic.dev/2.7/v/json_invalid\n"
     ]
    },
    {
     "name": "stderr",
     "output_type": "stream",
     "text": [
      "Training:  13%|\u001b[32m█▎        \u001b[0m| 13/100 [1:41:07<11:16:44, 466.72s/it]\n"
     ]
    },
    {
     "ename": "ValidationError",
     "evalue": "1 validation error for ListTransformation\n  Invalid JSON: EOF while parsing a string at line 1 column 2232 [type=json_invalid, input_value='{\"transformations\":[{\"in...1, 1, 1, 1, 1, 1, 1, 1,', input_type=str]\n    For further information visit https://errors.pydantic.dev/2.7/v/json_invalid",
     "output_type": "error",
     "traceback": [
      "\u001b[0;31m---------------------------------------------------------------------------\u001b[0m",
      "\u001b[0;31mValidationError\u001b[0m                           Traceback (most recent call last)",
      "Cell \u001b[0;32mIn[5], line 16\u001b[0m\n\u001b[1;32m     12\u001b[0m \u001b[38;5;28;01mimport\u001b[39;00m \u001b[38;5;21;01mrandom\u001b[39;00m\n\u001b[1;32m     14\u001b[0m selected_data \u001b[38;5;241m=\u001b[39m random\u001b[38;5;241m.\u001b[39msample(data, n)\n\u001b[0;32m---> 16\u001b[0m results, train_dtw_scores, test_dtw_scores\u001b[38;5;241m=\u001b[39m\u001b[43mtrain_and_evaluate\u001b[49m\u001b[43m(\u001b[49m\n\u001b[1;32m     17\u001b[0m \u001b[43m    \u001b[49m\u001b[43mdataset\u001b[49m\u001b[38;5;241;43m=\u001b[39;49m\u001b[43mselected_data\u001b[49m\u001b[43m,\u001b[49m\u001b[43m  \u001b[49m\n\u001b[1;32m     18\u001b[0m \u001b[43m    \u001b[49m\u001b[43mmlu\u001b[49m\u001b[38;5;241;43m=\u001b[39;49m\u001b[43mmlu\u001b[49m\u001b[43m,\u001b[49m\n\u001b[1;32m     19\u001b[0m \u001b[43m    \u001b[49m\u001b[43mprompt_key\u001b[49m\u001b[38;5;241;43m=\u001b[39;49m\u001b[38;5;124;43m\"\u001b[39;49m\u001b[38;5;124;43mquery\u001b[39;49m\u001b[38;5;124;43m\"\u001b[39;49m\u001b[43m,\u001b[49m\n\u001b[1;32m     20\u001b[0m \u001b[43m    \u001b[49m\u001b[43mresponse_key\u001b[49m\u001b[38;5;241;43m=\u001b[39;49m\u001b[38;5;124;43m\"\u001b[39;49m\u001b[38;5;124;43mreply\u001b[39;49m\u001b[38;5;124;43m\"\u001b[39;49m\u001b[43m,\u001b[49m\n\u001b[1;32m     21\u001b[0m \u001b[43m    \u001b[49m\u001b[43mepochs\u001b[49m\u001b[38;5;241;43m=\u001b[39;49m\u001b[38;5;241;43m1\u001b[39;49m\u001b[43m,\u001b[49m\n\u001b[1;32m     22\u001b[0m \u001b[43m    \u001b[49m\u001b[43mtest_size\u001b[49m\u001b[38;5;241;43m=\u001b[39;49m\u001b[38;5;241;43m0\u001b[39;49m\u001b[43m,\u001b[49m\n\u001b[1;32m     23\u001b[0m \u001b[43m    \u001b[49m\u001b[43mtrain_batch_size\u001b[49m\u001b[38;5;241;43m=\u001b[39;49m\u001b[38;5;241;43m1\u001b[39;49m\u001b[43m,\u001b[49m\n\u001b[1;32m     24\u001b[0m \u001b[43m    \u001b[49m\u001b[43mtest_batch_size\u001b[49m\u001b[38;5;241;43m=\u001b[39;49m\u001b[38;5;241;43m1\u001b[39;49m\u001b[43m,\u001b[49m\n\u001b[1;32m     25\u001b[0m \u001b[43m    \u001b[49m\u001b[43minitial_serial_items\u001b[49m\u001b[38;5;241;43m=\u001b[39;49m\u001b[38;5;241;43m1\u001b[39;49m\u001b[43m,\u001b[49m\n\u001b[1;32m     26\u001b[0m \u001b[43m    \u001b[49m\u001b[43mlogging\u001b[49m\u001b[38;5;241;43m=\u001b[39;49m\u001b[38;5;28;43;01mTrue\u001b[39;49;00m\u001b[43m,\u001b[49m\n\u001b[1;32m     27\u001b[0m \u001b[43m    \u001b[49m\u001b[43mtraining_analysis_agent\u001b[49m\u001b[43m \u001b[49m\u001b[38;5;241;43m=\u001b[39;49m\u001b[43m \u001b[49m\u001b[43mreasoning_agent\u001b[49m\u001b[43m,\u001b[49m\n\u001b[1;32m     28\u001b[0m \u001b[43m    \u001b[49m\u001b[43mtesting_analysis_agent\u001b[49m\u001b[43m \u001b[49m\u001b[38;5;241;43m=\u001b[39;49m\u001b[43m \u001b[49m\u001b[43mreasoning_agent\u001b[49m\u001b[43m,\u001b[49m\n\u001b[1;32m     29\u001b[0m \u001b[43m)\u001b[49m\n",
      "File \u001b[0;32m~/Desktop/personal_projects/arc-mlu/notebooks/train_test_helper.py:182\u001b[0m, in \u001b[0;36mtrain_and_evaluate\u001b[0;34m(dataset, mlu, prompt_key, response_key, epochs, test_size, train_batch_size, test_batch_size, initial_serial_items, logging, training_analysis_agent, testing_analysis_agent)\u001b[0m\n\u001b[1;32m    168\u001b[0m futures \u001b[38;5;241m=\u001b[39m [\n\u001b[1;32m    169\u001b[0m     executor\u001b[38;5;241m.\u001b[39msubmit(\n\u001b[1;32m    170\u001b[0m         process_item,\n\u001b[0;32m   (...)\u001b[0m\n\u001b[1;32m    179\u001b[0m     \u001b[38;5;28;01mfor\u001b[39;00m i \u001b[38;5;129;01min\u001b[39;00m \u001b[38;5;28mrange\u001b[39m(batch_start, batch_end)\n\u001b[1;32m    180\u001b[0m ]\n\u001b[1;32m    181\u001b[0m \u001b[38;5;28;01mfor\u001b[39;00m future \u001b[38;5;129;01min\u001b[39;00m concurrent\u001b[38;5;241m.\u001b[39mfutures\u001b[38;5;241m.\u001b[39mas_completed(futures):\n\u001b[0;32m--> 182\u001b[0m     right_answer, dtw_score \u001b[38;5;241m=\u001b[39m \u001b[43mfuture\u001b[49m\u001b[38;5;241;43m.\u001b[39;49m\u001b[43mresult\u001b[49m\u001b[43m(\u001b[49m\u001b[43m)\u001b[49m\n\u001b[1;32m    183\u001b[0m     batch_dtw_scores\u001b[38;5;241m.\u001b[39mappend(dtw_score)\n\u001b[1;32m    184\u001b[0m     \u001b[38;5;28;01mif\u001b[39;00m right_answer:\n",
      "File \u001b[0;32m/opt/homebrew/Caskroom/miniconda/base/envs/voice-clone/lib/python3.10/concurrent/futures/_base.py:451\u001b[0m, in \u001b[0;36mFuture.result\u001b[0;34m(self, timeout)\u001b[0m\n\u001b[1;32m    449\u001b[0m     \u001b[38;5;28;01mraise\u001b[39;00m CancelledError()\n\u001b[1;32m    450\u001b[0m \u001b[38;5;28;01melif\u001b[39;00m \u001b[38;5;28mself\u001b[39m\u001b[38;5;241m.\u001b[39m_state \u001b[38;5;241m==\u001b[39m FINISHED:\n\u001b[0;32m--> 451\u001b[0m     \u001b[38;5;28;01mreturn\u001b[39;00m \u001b[38;5;28;43mself\u001b[39;49m\u001b[38;5;241;43m.\u001b[39;49m\u001b[43m__get_result\u001b[49m\u001b[43m(\u001b[49m\u001b[43m)\u001b[49m\n\u001b[1;32m    453\u001b[0m \u001b[38;5;28mself\u001b[39m\u001b[38;5;241m.\u001b[39m_condition\u001b[38;5;241m.\u001b[39mwait(timeout)\n\u001b[1;32m    455\u001b[0m \u001b[38;5;28;01mif\u001b[39;00m \u001b[38;5;28mself\u001b[39m\u001b[38;5;241m.\u001b[39m_state \u001b[38;5;129;01min\u001b[39;00m [CANCELLED, CANCELLED_AND_NOTIFIED]:\n",
      "File \u001b[0;32m/opt/homebrew/Caskroom/miniconda/base/envs/voice-clone/lib/python3.10/concurrent/futures/_base.py:403\u001b[0m, in \u001b[0;36mFuture.__get_result\u001b[0;34m(self)\u001b[0m\n\u001b[1;32m    401\u001b[0m \u001b[38;5;28;01mif\u001b[39;00m \u001b[38;5;28mself\u001b[39m\u001b[38;5;241m.\u001b[39m_exception:\n\u001b[1;32m    402\u001b[0m     \u001b[38;5;28;01mtry\u001b[39;00m:\n\u001b[0;32m--> 403\u001b[0m         \u001b[38;5;28;01mraise\u001b[39;00m \u001b[38;5;28mself\u001b[39m\u001b[38;5;241m.\u001b[39m_exception\n\u001b[1;32m    404\u001b[0m     \u001b[38;5;28;01mfinally\u001b[39;00m:\n\u001b[1;32m    405\u001b[0m         \u001b[38;5;66;03m# Break a reference cycle with the exception in self._exception\u001b[39;00m\n\u001b[1;32m    406\u001b[0m         \u001b[38;5;28mself\u001b[39m \u001b[38;5;241m=\u001b[39m \u001b[38;5;28;01mNone\u001b[39;00m\n",
      "File \u001b[0;32m/opt/homebrew/Caskroom/miniconda/base/envs/voice-clone/lib/python3.10/concurrent/futures/thread.py:58\u001b[0m, in \u001b[0;36m_WorkItem.run\u001b[0;34m(self)\u001b[0m\n\u001b[1;32m     55\u001b[0m     \u001b[38;5;28;01mreturn\u001b[39;00m\n\u001b[1;32m     57\u001b[0m \u001b[38;5;28;01mtry\u001b[39;00m:\n\u001b[0;32m---> 58\u001b[0m     result \u001b[38;5;241m=\u001b[39m \u001b[38;5;28;43mself\u001b[39;49m\u001b[38;5;241;43m.\u001b[39;49m\u001b[43mfn\u001b[49m\u001b[43m(\u001b[49m\u001b[38;5;241;43m*\u001b[39;49m\u001b[38;5;28;43mself\u001b[39;49m\u001b[38;5;241;43m.\u001b[39;49m\u001b[43margs\u001b[49m\u001b[43m,\u001b[49m\u001b[43m \u001b[49m\u001b[38;5;241;43m*\u001b[39;49m\u001b[38;5;241;43m*\u001b[39;49m\u001b[38;5;28;43mself\u001b[39;49m\u001b[38;5;241;43m.\u001b[39;49m\u001b[43mkwargs\u001b[49m\u001b[43m)\u001b[49m\n\u001b[1;32m     59\u001b[0m \u001b[38;5;28;01mexcept\u001b[39;00m \u001b[38;5;167;01mBaseException\u001b[39;00m \u001b[38;5;28;01mas\u001b[39;00m exc:\n\u001b[1;32m     60\u001b[0m     \u001b[38;5;28mself\u001b[39m\u001b[38;5;241m.\u001b[39mfuture\u001b[38;5;241m.\u001b[39mset_exception(exc)\n",
      "File \u001b[0;32m~/Desktop/personal_projects/arc-mlu/notebooks/train_test_helper.py:52\u001b[0m, in \u001b[0;36mprocess_item\u001b[0;34m(item, mlu, prompt_key, response_key, mode, analysis_agent, logging)\u001b[0m\n\u001b[1;32m     50\u001b[0m prompt \u001b[38;5;241m=\u001b[39m item[prompt_key]\n\u001b[1;32m     51\u001b[0m truth \u001b[38;5;241m=\u001b[39m item[response_key]\n\u001b[0;32m---> 52\u001b[0m reply \u001b[38;5;241m=\u001b[39m \u001b[43mmlu\u001b[49m\u001b[38;5;241;43m.\u001b[39;49m\u001b[43mcall\u001b[49m\u001b[43m(\u001b[49m\u001b[43mprompt\u001b[49m\u001b[43m,\u001b[49m\u001b[43m \u001b[49m\u001b[43mexpected_output\u001b[49m\u001b[38;5;241;43m=\u001b[39;49m\u001b[38;5;124;43mf\u001b[39;49m\u001b[38;5;124;43m\"\u001b[39;49m\u001b[38;5;132;43;01m{\u001b[39;49;00m\u001b[43mtruth\u001b[49m\u001b[38;5;132;43;01m}\u001b[39;49;00m\u001b[38;5;124;43m\"\u001b[39;49m\u001b[43m,\u001b[49m\u001b[43m \u001b[49m\u001b[43mmode\u001b[49m\u001b[38;5;241;43m=\u001b[39;49m\u001b[43mmode\u001b[49m\u001b[43m)\u001b[49m\n\u001b[1;32m     54\u001b[0m response \u001b[38;5;241m=\u001b[39m {\n\u001b[1;32m     55\u001b[0m     \u001b[38;5;124m\"\u001b[39m\u001b[38;5;124mresponse\u001b[39m\u001b[38;5;124m\"\u001b[39m: reply[\u001b[38;5;124m\"\u001b[39m\u001b[38;5;124mresponse\u001b[39m\u001b[38;5;124m\"\u001b[39m],\n\u001b[1;32m     56\u001b[0m     \u001b[38;5;124m\"\u001b[39m\u001b[38;5;124mright_answer\u001b[39m\u001b[38;5;124m\"\u001b[39m: reply[\u001b[38;5;124m\"\u001b[39m\u001b[38;5;124mright_answer\u001b[39m\u001b[38;5;124m\"\u001b[39m],\n\u001b[1;32m     57\u001b[0m     \u001b[38;5;124m\"\u001b[39m\u001b[38;5;124mknowledge_base\u001b[39m\u001b[38;5;124m\"\u001b[39m: reply\u001b[38;5;241m.\u001b[39mget(\u001b[38;5;124m\"\u001b[39m\u001b[38;5;124mknowledge_update\u001b[39m\u001b[38;5;124m\"\u001b[39m, \u001b[38;5;124m\"\u001b[39m\u001b[38;5;124mNo knowledge added\u001b[39m\u001b[38;5;124m\"\u001b[39m),\n\u001b[1;32m     58\u001b[0m }\n\u001b[1;32m     59\u001b[0m \u001b[38;5;66;03m# Pretty-print the knowledge update\u001b[39;00m\n",
      "File \u001b[0;32m~/Desktop/personal_projects/arc-mlu/notebooks/../mlu/mlu.py:392\u001b[0m, in \u001b[0;36mMLU.call\u001b[0;34m(self, task, expected_output, mode, prune_after, **kwargs)\u001b[0m\n\u001b[1;32m    385\u001b[0m \u001b[38;5;66;03m# Execute task with relevant general knowledge\u001b[39;00m\n\u001b[1;32m    386\u001b[0m oa_input \u001b[38;5;241m=\u001b[39m \u001b[38;5;124mf\u001b[39m\u001b[38;5;124m\"\"\"\u001b[39m\n\u001b[1;32m    387\u001b[0m \u001b[38;5;124mTask: \u001b[39m\u001b[38;5;132;01m{\u001b[39;00mtask\u001b[38;5;132;01m}\u001b[39;00m\n\u001b[1;32m    388\u001b[0m \u001b[38;5;124mRelevant Knowledge: \u001b[39m\u001b[38;5;132;01m{\u001b[39;00mgeneral_knowledge_str\u001b[38;5;132;01m}\u001b[39;00m\n\u001b[1;32m    389\u001b[0m \n\u001b[1;32m    390\u001b[0m \u001b[38;5;124mUse the above relevant knowledge to inform your response. If no relevant knowledge is provided, rely on your general understanding.\u001b[39m\n\u001b[1;32m    391\u001b[0m \u001b[38;5;124m\u001b[39m\u001b[38;5;124m\"\"\"\u001b[39m\n\u001b[0;32m--> 392\u001b[0m oa_response \u001b[38;5;241m=\u001b[39m \u001b[38;5;28;43mself\u001b[39;49m\u001b[38;5;241;43m.\u001b[39;49m\u001b[43moperational_agent\u001b[49m\u001b[43m(\u001b[49m\n\u001b[1;32m    393\u001b[0m \u001b[43m    \u001b[49m\u001b[43moa_input\u001b[49m\u001b[43m,\u001b[49m\n\u001b[1;32m    394\u001b[0m \u001b[43m\u001b[49m\u001b[43m)\u001b[49m\n\u001b[1;32m    396\u001b[0m right_answer \u001b[38;5;241m=\u001b[39m \u001b[38;5;28;01mNone\u001b[39;00m  \u001b[38;5;66;03m# need to return the right answer from the feedback agent and add it. we essentially compare ans to output only in training step when expected output is given.\u001b[39;00m\n\u001b[1;32m    397\u001b[0m \u001b[38;5;28;01mif\u001b[39;00m mode \u001b[38;5;241m==\u001b[39m \u001b[38;5;124m\"\u001b[39m\u001b[38;5;124mtraining\u001b[39m\u001b[38;5;124m\"\u001b[39m:\n",
      "File \u001b[0;32m~/Desktop/personal_projects/arc-mlu/notebooks/../mlu/mlu.py:101\u001b[0m, in \u001b[0;36mMLU.create_operational_agent.<locals>.<lambda>\u001b[0;34m(input)\u001b[0m\n\u001b[1;32m     93\u001b[0m     \u001b[38;5;28mself\u001b[39m\u001b[38;5;241m.\u001b[39moperational_agent \u001b[38;5;241m=\u001b[39m Agent(\n\u001b[1;32m     94\u001b[0m         name\u001b[38;5;241m=\u001b[39m\u001b[38;5;124m\"\u001b[39m\u001b[38;5;124mOperationalAgent\u001b[39m\u001b[38;5;124m\"\u001b[39m,\n\u001b[1;32m     95\u001b[0m         role\u001b[38;5;241m=\u001b[39m\u001b[38;5;124m\"\u001b[39m\u001b[38;5;124mExecute tasks based on the provided prompt\u001b[39m\u001b[38;5;124m\"\u001b[39m,\n\u001b[0;32m   (...)\u001b[0m\n\u001b[1;32m     98\u001b[0m         disable_logging\u001b[38;5;241m=\u001b[39mdisable_loging,\n\u001b[1;32m     99\u001b[0m     )\n\u001b[1;32m    100\u001b[0m \u001b[38;5;28;01melse\u001b[39;00m:\n\u001b[0;32m--> 101\u001b[0m     \u001b[38;5;28mself\u001b[39m\u001b[38;5;241m.\u001b[39moperational_agent \u001b[38;5;241m=\u001b[39m \u001b[38;5;28;01mlambda\u001b[39;00m \u001b[38;5;28minput\u001b[39m: \u001b[38;5;28;43mself\u001b[39;49m\u001b[38;5;241;43m.\u001b[39;49m\u001b[43mcustom_analysis_agent\u001b[49m\u001b[43m(\u001b[49m\n\u001b[1;32m    102\u001b[0m \u001b[43m        \u001b[49m\u001b[43mprompt\u001b[49m\u001b[43m,\u001b[49m\u001b[43m \u001b[49m\u001b[38;5;28;43minput\u001b[39;49m\n\u001b[1;32m    103\u001b[0m \u001b[43m    \u001b[49m\u001b[43m)\u001b[49m\n",
      "Cell \u001b[0;32mIn[5], line 7\u001b[0m, in \u001b[0;36m<lambda>\u001b[0;34m(prompt, input)\u001b[0m\n\u001b[1;32m      3\u001b[0m \u001b[38;5;28;01mfrom\u001b[39;00m \u001b[38;5;21;01mlogical_agents\u001b[39;00m \u001b[38;5;28;01mimport\u001b[39;00m (logic_concept_reasoning_network,\n\u001b[1;32m      4\u001b[0m                             pattern_based_logical_reasoning_network)\n\u001b[1;32m      6\u001b[0m reasoning_iterations\u001b[38;5;241m=\u001b[39m\u001b[38;5;241m4\u001b[39m\n\u001b[0;32m----> 7\u001b[0m reasoning_agent\u001b[38;5;241m=\u001b[39m\u001b[38;5;28;01mlambda\u001b[39;00m prompt,\u001b[38;5;28minput\u001b[39m: \u001b[43mpattern_based_logical_reasoning_network\u001b[49m\u001b[43m(\u001b[49m\u001b[38;5;124;43mf\u001b[39;49m\u001b[38;5;124;43m\"\u001b[39;49m\u001b[38;5;132;43;01m{\u001b[39;49;00m\u001b[43mprompt\u001b[49m\u001b[38;5;132;43;01m}\u001b[39;49;00m\u001b[38;5;130;43;01m\\n\u001b[39;49;00m\u001b[38;5;132;43;01m{\u001b[39;49;00m\u001b[38;5;28;43minput\u001b[39;49m\u001b[38;5;132;43;01m}\u001b[39;49;00m\u001b[38;5;124;43m\"\u001b[39;49m\u001b[43m,\u001b[49m\u001b[43m \u001b[49m\u001b[43mmax_iterations\u001b[49m\u001b[38;5;241;43m=\u001b[39;49m\u001b[43mreasoning_iterations\u001b[49m\u001b[43m)\u001b[49m\n\u001b[1;32m      8\u001b[0m \u001b[38;5;66;03m# reasoning_agent=None\u001b[39;00m\n\u001b[1;32m      9\u001b[0m set_live_verbosity(\u001b[38;5;241m0\u001b[39m)\n",
      "File \u001b[0;32m~/Desktop/personal_projects/arc-mlu/notebooks/../logical_agents/logic_pattern.py:200\u001b[0m, in \u001b[0;36mpattern_based_logical_reasoning_network\u001b[0;34m(prompt, max_iterations)\u001b[0m\n\u001b[1;32m    198\u001b[0m \u001b[38;5;66;03m# Transformation Analysis\u001b[39;00m\n\u001b[1;32m    199\u001b[0m print_cond(\u001b[38;5;124mf\u001b[39m\u001b[38;5;124m\"\u001b[39m\u001b[38;5;124mIteration: \u001b[39m\u001b[38;5;132;01m{\u001b[39;00mconversation\u001b[38;5;241m.\u001b[39miterations\u001b[38;5;132;01m}\u001b[39;00m\u001b[38;5;124m - Transformation Analysis\u001b[39m\u001b[38;5;124m\"\u001b[39m)\n\u001b[0;32m--> 200\u001b[0m transformations \u001b[38;5;241m=\u001b[39m \u001b[43mtransformation_analyzer\u001b[49m\u001b[43m(\u001b[49m\n\u001b[1;32m    201\u001b[0m \u001b[43m    \u001b[49m\u001b[38;5;124;43mf\u001b[39;49m\u001b[38;5;124;43m\"\u001b[39;49m\u001b[38;5;124;43mPrompt: \u001b[39;49m\u001b[38;5;132;43;01m{\u001b[39;49;00m\u001b[43mprompt\u001b[49m\u001b[38;5;132;43;01m}\u001b[39;49;00m\u001b[38;5;130;43;01m\\n\u001b[39;49;00m\u001b[38;5;124;43mPatterns: \u001b[39;49m\u001b[38;5;132;43;01m{\u001b[39;49;00m\u001b[43mpatterns\u001b[49m\u001b[38;5;132;43;01m}\u001b[39;49;00m\u001b[38;5;130;43;01m\\n\u001b[39;49;00m\u001b[38;5;124;43mCurrent transformations: \u001b[39;49m\u001b[38;5;132;43;01m{\u001b[39;49;00m\u001b[43mconversation\u001b[49m\u001b[38;5;241;43m.\u001b[39;49m\u001b[43mtransformations\u001b[49m\u001b[38;5;132;43;01m}\u001b[39;49;00m\u001b[38;5;124;43m\"\u001b[39;49m\u001b[43m,\u001b[49m\n\u001b[1;32m    202\u001b[0m \u001b[43m\u001b[49m\u001b[43m)\u001b[49m\u001b[38;5;241m.\u001b[39mtransformations\n\u001b[1;32m    203\u001b[0m conversation\u001b[38;5;241m.\u001b[39mtransformations \u001b[38;5;241m=\u001b[39m transformations\n\u001b[1;32m    205\u001b[0m \u001b[38;5;66;03m# Logical Inference\u001b[39;00m\n",
      "File \u001b[0;32m~/Desktop/personal_projects/arc-mlu/notebooks/../agents/core/agent.py:97\u001b[0m, in \u001b[0;36mAgent.__call__\u001b[0;34m(self, task, context)\u001b[0m\n\u001b[1;32m     87\u001b[0m context\u001b[38;5;241m.\u001b[39madd(\n\u001b[1;32m     88\u001b[0m     \u001b[38;5;28mself\u001b[39m\u001b[38;5;241m.\u001b[39mname,\n\u001b[1;32m     89\u001b[0m     task,\n\u001b[0;32m   (...)\u001b[0m\n\u001b[1;32m     93\u001b[0m     end_time\u001b[38;5;241m=\u001b[39mend_time,\n\u001b[1;32m     94\u001b[0m )\n\u001b[1;32m     96\u001b[0m \u001b[38;5;28mself\u001b[39m\u001b[38;5;241m.\u001b[39mstatus \u001b[38;5;241m=\u001b[39m AgentStatus\u001b[38;5;241m.\u001b[39mFAILED\n\u001b[0;32m---> 97\u001b[0m \u001b[38;5;28;01mraise\u001b[39;00m e\n",
      "File \u001b[0;32m~/Desktop/personal_projects/arc-mlu/notebooks/../agents/core/agent.py:54\u001b[0m, in \u001b[0;36mAgent.__call__\u001b[0;34m(self, task, context)\u001b[0m\n\u001b[1;32m     52\u001b[0m attempts \u001b[38;5;241m+\u001b[39m\u001b[38;5;241m=\u001b[39m \u001b[38;5;241m1\u001b[39m\n\u001b[1;32m     53\u001b[0m \u001b[38;5;28;01mtry\u001b[39;00m:\n\u001b[0;32m---> 54\u001b[0m     result \u001b[38;5;241m=\u001b[39m \u001b[38;5;28;43mself\u001b[39;49m\u001b[38;5;241;43m.\u001b[39;49m\u001b[43m_execute_task\u001b[49m\u001b[43m(\u001b[49m\u001b[43msystem_prompt\u001b[49m\u001b[43m,\u001b[49m\u001b[43m \u001b[49m\u001b[43mcontext_str\u001b[49m\u001b[43m,\u001b[49m\u001b[43m \u001b[49m\u001b[43mtask\u001b[49m\u001b[43m)\u001b[49m\n\u001b[1;32m     55\u001b[0m     \u001b[38;5;28;01mif\u001b[39;00m inspect\u001b[38;5;241m.\u001b[39misclass(\u001b[38;5;28mself\u001b[39m\u001b[38;5;241m.\u001b[39moutput_model) \u001b[38;5;129;01mand\u001b[39;00m \u001b[38;5;28missubclass\u001b[39m(\n\u001b[1;32m     56\u001b[0m         \u001b[38;5;28mself\u001b[39m\u001b[38;5;241m.\u001b[39moutput_model, BaseModel\n\u001b[1;32m     57\u001b[0m     ):\n\u001b[1;32m     58\u001b[0m         pydantic_result \u001b[38;5;241m=\u001b[39m \u001b[38;5;28mself\u001b[39m\u001b[38;5;241m.\u001b[39moutput_model\u001b[38;5;241m.\u001b[39mparse_raw(result)\n",
      "File \u001b[0;32m~/Desktop/personal_projects/arc-mlu/notebooks/../agents/core/agent.py:100\u001b[0m, in \u001b[0;36mAgent._execute_task\u001b[0;34m(self, system_prompt, context, task)\u001b[0m\n\u001b[1;32m     99\u001b[0m \u001b[38;5;28;01mdef\u001b[39;00m \u001b[38;5;21m_execute_task\u001b[39m(\u001b[38;5;28mself\u001b[39m, system_prompt: \u001b[38;5;28mstr\u001b[39m, context: \u001b[38;5;28mstr\u001b[39m, task: \u001b[38;5;28mstr\u001b[39m) \u001b[38;5;241m-\u001b[39m\u001b[38;5;241m>\u001b[39m Any:\n\u001b[0;32m--> 100\u001b[0m     \u001b[38;5;28;01mreturn\u001b[39;00m \u001b[38;5;28;43mself\u001b[39;49m\u001b[38;5;241;43m.\u001b[39;49m\u001b[43mllm\u001b[49m\u001b[38;5;241;43m.\u001b[39;49m\u001b[43mgenerate\u001b[49m\u001b[43m(\u001b[49m\n\u001b[1;32m    101\u001b[0m \u001b[43m        \u001b[49m\u001b[43msystem_prompt\u001b[49m\u001b[38;5;241;43m=\u001b[39;49m\u001b[43msystem_prompt\u001b[49m\u001b[43m,\u001b[49m\n\u001b[1;32m    102\u001b[0m \u001b[43m        \u001b[49m\u001b[43mcontext\u001b[49m\u001b[38;5;241;43m=\u001b[39;49m\u001b[43mcontext\u001b[49m\u001b[43m,\u001b[49m\n\u001b[1;32m    103\u001b[0m \u001b[43m        \u001b[49m\u001b[43mtask\u001b[49m\u001b[38;5;241;43m=\u001b[39;49m\u001b[43mtask\u001b[49m\u001b[43m,\u001b[49m\n\u001b[1;32m    104\u001b[0m \u001b[43m        \u001b[49m\u001b[43mschema\u001b[49m\u001b[38;5;241;43m=\u001b[39;49m\u001b[38;5;28;43mself\u001b[39;49m\u001b[38;5;241;43m.\u001b[39;49m\u001b[43moutput_model\u001b[49m\u001b[43m,\u001b[49m\n\u001b[1;32m    105\u001b[0m \u001b[43m    \u001b[49m\u001b[43m)\u001b[49m\n",
      "File \u001b[0;32m~/Desktop/personal_projects/arc-mlu/notebooks/../agents/llm/openai_chatgpt.py:39\u001b[0m, in \u001b[0;36mOpenAIChatGPT.generate\u001b[0;34m(self, system_prompt, context, task, schema)\u001b[0m\n\u001b[1;32m     26\u001b[0m \u001b[38;5;28;01mtry\u001b[39;00m:\n\u001b[1;32m     27\u001b[0m     messages \u001b[38;5;241m=\u001b[39m [\n\u001b[1;32m     28\u001b[0m         {\n\u001b[1;32m     29\u001b[0m             \u001b[38;5;124m\"\u001b[39m\u001b[38;5;124mrole\u001b[39m\u001b[38;5;124m\"\u001b[39m: \u001b[38;5;124m\"\u001b[39m\u001b[38;5;124msystem\u001b[39m\u001b[38;5;124m\"\u001b[39m,\n\u001b[0;32m   (...)\u001b[0m\n\u001b[1;32m     36\u001b[0m         },\n\u001b[1;32m     37\u001b[0m     ]\n\u001b[0;32m---> 39\u001b[0m     response \u001b[38;5;241m=\u001b[39m \u001b[38;5;28;43mself\u001b[39;49m\u001b[38;5;241;43m.\u001b[39;49m\u001b[43mclient\u001b[49m\u001b[38;5;241;43m.\u001b[39;49m\u001b[43mchat\u001b[49m\u001b[38;5;241;43m.\u001b[39;49m\u001b[43mcompletions\u001b[49m\u001b[38;5;241;43m.\u001b[39;49m\u001b[43mcreate\u001b[49m\u001b[43m(\u001b[49m\n\u001b[1;32m     40\u001b[0m \u001b[43m        \u001b[49m\u001b[43mmodel\u001b[49m\u001b[38;5;241;43m=\u001b[39;49m\u001b[38;5;28;43mself\u001b[39;49m\u001b[38;5;241;43m.\u001b[39;49m\u001b[43mmodel\u001b[49m\u001b[43m,\u001b[49m\n\u001b[1;32m     41\u001b[0m \u001b[43m        \u001b[49m\u001b[43mmessages\u001b[49m\u001b[38;5;241;43m=\u001b[39;49m\u001b[43mmessages\u001b[49m\u001b[43m,\u001b[49m\n\u001b[1;32m     42\u001b[0m \u001b[43m        \u001b[49m\u001b[43mmax_tokens\u001b[49m\u001b[38;5;241;43m=\u001b[39;49m\u001b[38;5;28;43mself\u001b[39;49m\u001b[38;5;241;43m.\u001b[39;49m\u001b[43mmax_tokens\u001b[49m\u001b[43m,\u001b[49m\n\u001b[1;32m     43\u001b[0m \u001b[43m        \u001b[49m\u001b[43mresponse_model\u001b[49m\u001b[38;5;241;43m=\u001b[39;49m\u001b[43mschema\u001b[49m\u001b[43m,\u001b[49m\n\u001b[1;32m     44\u001b[0m \u001b[43m    \u001b[49m\u001b[43m)\u001b[49m\n\u001b[1;32m     45\u001b[0m     \u001b[38;5;28;01mtry\u001b[39;00m:\n\u001b[1;32m     46\u001b[0m         \u001b[38;5;28;01mreturn\u001b[39;00m response\u001b[38;5;241m.\u001b[39mmodel_dump_json()\n",
      "File \u001b[0;32m/opt/homebrew/Caskroom/miniconda/base/envs/voice-clone/lib/python3.10/site-packages/instructor/patch.py:143\u001b[0m, in \u001b[0;36mpatch.<locals>.new_create_sync\u001b[0;34m(response_model, validation_context, max_retries, strict, *args, **kwargs)\u001b[0m\n\u001b[1;32m    131\u001b[0m \u001b[38;5;129m@wraps\u001b[39m(func)\n\u001b[1;32m    132\u001b[0m \u001b[38;5;28;01mdef\u001b[39;00m \u001b[38;5;21mnew_create_sync\u001b[39m(\n\u001b[1;32m    133\u001b[0m     response_model: \u001b[38;5;28mtype\u001b[39m[T_Model] \u001b[38;5;241m=\u001b[39m \u001b[38;5;28;01mNone\u001b[39;00m,\n\u001b[0;32m   (...)\u001b[0m\n\u001b[1;32m    138\u001b[0m     \u001b[38;5;241m*\u001b[39m\u001b[38;5;241m*\u001b[39mkwargs: T_ParamSpec\u001b[38;5;241m.\u001b[39mkwargs,\n\u001b[1;32m    139\u001b[0m ) \u001b[38;5;241m-\u001b[39m\u001b[38;5;241m>\u001b[39m T_Model:\n\u001b[1;32m    140\u001b[0m     response_model, new_kwargs \u001b[38;5;241m=\u001b[39m handle_response_model(\n\u001b[1;32m    141\u001b[0m         response_model\u001b[38;5;241m=\u001b[39mresponse_model, mode\u001b[38;5;241m=\u001b[39mmode, \u001b[38;5;241m*\u001b[39m\u001b[38;5;241m*\u001b[39mkwargs\n\u001b[1;32m    142\u001b[0m     )\n\u001b[0;32m--> 143\u001b[0m     response \u001b[38;5;241m=\u001b[39m \u001b[43mretry_sync\u001b[49m\u001b[43m(\u001b[49m\n\u001b[1;32m    144\u001b[0m \u001b[43m        \u001b[49m\u001b[43mfunc\u001b[49m\u001b[38;5;241;43m=\u001b[39;49m\u001b[43mfunc\u001b[49m\u001b[43m,\u001b[49m\n\u001b[1;32m    145\u001b[0m \u001b[43m        \u001b[49m\u001b[43mresponse_model\u001b[49m\u001b[38;5;241;43m=\u001b[39;49m\u001b[43mresponse_model\u001b[49m\u001b[43m,\u001b[49m\n\u001b[1;32m    146\u001b[0m \u001b[43m        \u001b[49m\u001b[43mvalidation_context\u001b[49m\u001b[38;5;241;43m=\u001b[39;49m\u001b[43mvalidation_context\u001b[49m\u001b[43m,\u001b[49m\n\u001b[1;32m    147\u001b[0m \u001b[43m        \u001b[49m\u001b[43mmax_retries\u001b[49m\u001b[38;5;241;43m=\u001b[39;49m\u001b[43mmax_retries\u001b[49m\u001b[43m,\u001b[49m\n\u001b[1;32m    148\u001b[0m \u001b[43m        \u001b[49m\u001b[43margs\u001b[49m\u001b[38;5;241;43m=\u001b[39;49m\u001b[43margs\u001b[49m\u001b[43m,\u001b[49m\n\u001b[1;32m    149\u001b[0m \u001b[43m        \u001b[49m\u001b[43mstrict\u001b[49m\u001b[38;5;241;43m=\u001b[39;49m\u001b[43mstrict\u001b[49m\u001b[43m,\u001b[49m\n\u001b[1;32m    150\u001b[0m \u001b[43m        \u001b[49m\u001b[43mkwargs\u001b[49m\u001b[38;5;241;43m=\u001b[39;49m\u001b[43mnew_kwargs\u001b[49m\u001b[43m,\u001b[49m\n\u001b[1;32m    151\u001b[0m \u001b[43m        \u001b[49m\u001b[43mmode\u001b[49m\u001b[38;5;241;43m=\u001b[39;49m\u001b[43mmode\u001b[49m\u001b[43m,\u001b[49m\n\u001b[1;32m    152\u001b[0m \u001b[43m    \u001b[49m\u001b[43m)\u001b[49m\n\u001b[1;32m    153\u001b[0m     \u001b[38;5;28;01mreturn\u001b[39;00m response\n",
      "File \u001b[0;32m/opt/homebrew/Caskroom/miniconda/base/envs/voice-clone/lib/python3.10/site-packages/instructor/retry.py:162\u001b[0m, in \u001b[0;36mretry_sync\u001b[0;34m(func, response_model, validation_context, args, kwargs, max_retries, strict, mode)\u001b[0m\n\u001b[1;32m    160\u001b[0m \u001b[38;5;28;01mtry\u001b[39;00m:\n\u001b[1;32m    161\u001b[0m     response \u001b[38;5;241m=\u001b[39m \u001b[38;5;28;01mNone\u001b[39;00m\n\u001b[0;32m--> 162\u001b[0m     \u001b[38;5;28;01mfor\u001b[39;00m attempt \u001b[38;5;129;01min\u001b[39;00m max_retries:\n\u001b[1;32m    163\u001b[0m         \u001b[38;5;28;01mwith\u001b[39;00m attempt:\n\u001b[1;32m    164\u001b[0m             \u001b[38;5;28;01mtry\u001b[39;00m:\n",
      "File \u001b[0;32m/opt/homebrew/Caskroom/miniconda/base/envs/voice-clone/lib/python3.10/site-packages/tenacity/__init__.py:347\u001b[0m, in \u001b[0;36mBaseRetrying.__iter__\u001b[0;34m(self)\u001b[0m\n\u001b[1;32m    345\u001b[0m retry_state \u001b[38;5;241m=\u001b[39m RetryCallState(\u001b[38;5;28mself\u001b[39m, fn\u001b[38;5;241m=\u001b[39m\u001b[38;5;28;01mNone\u001b[39;00m, args\u001b[38;5;241m=\u001b[39m(), kwargs\u001b[38;5;241m=\u001b[39m{})\n\u001b[1;32m    346\u001b[0m \u001b[38;5;28;01mwhile\u001b[39;00m \u001b[38;5;28;01mTrue\u001b[39;00m:\n\u001b[0;32m--> 347\u001b[0m     do \u001b[38;5;241m=\u001b[39m \u001b[38;5;28;43mself\u001b[39;49m\u001b[38;5;241;43m.\u001b[39;49m\u001b[43miter\u001b[49m\u001b[43m(\u001b[49m\u001b[43mretry_state\u001b[49m\u001b[38;5;241;43m=\u001b[39;49m\u001b[43mretry_state\u001b[49m\u001b[43m)\u001b[49m\n\u001b[1;32m    348\u001b[0m     \u001b[38;5;28;01mif\u001b[39;00m \u001b[38;5;28misinstance\u001b[39m(do, DoAttempt):\n\u001b[1;32m    349\u001b[0m         \u001b[38;5;28;01myield\u001b[39;00m AttemptManager(retry_state\u001b[38;5;241m=\u001b[39mretry_state)\n",
      "File \u001b[0;32m/opt/homebrew/Caskroom/miniconda/base/envs/voice-clone/lib/python3.10/site-packages/tenacity/__init__.py:325\u001b[0m, in \u001b[0;36mBaseRetrying.iter\u001b[0;34m(self, retry_state)\u001b[0m\n\u001b[1;32m    323\u001b[0m     retry_exc \u001b[38;5;241m=\u001b[39m \u001b[38;5;28mself\u001b[39m\u001b[38;5;241m.\u001b[39mretry_error_cls(fut)\n\u001b[1;32m    324\u001b[0m     \u001b[38;5;28;01mif\u001b[39;00m \u001b[38;5;28mself\u001b[39m\u001b[38;5;241m.\u001b[39mreraise:\n\u001b[0;32m--> 325\u001b[0m         \u001b[38;5;28;01mraise\u001b[39;00m \u001b[43mretry_exc\u001b[49m\u001b[38;5;241;43m.\u001b[39;49m\u001b[43mreraise\u001b[49m\u001b[43m(\u001b[49m\u001b[43m)\u001b[49m\n\u001b[1;32m    326\u001b[0m     \u001b[38;5;28;01mraise\u001b[39;00m retry_exc \u001b[38;5;28;01mfrom\u001b[39;00m \u001b[38;5;21;01mfut\u001b[39;00m\u001b[38;5;21;01m.\u001b[39;00m\u001b[38;5;21;01mexception\u001b[39;00m()\n\u001b[1;32m    328\u001b[0m \u001b[38;5;28;01mif\u001b[39;00m \u001b[38;5;28mself\u001b[39m\u001b[38;5;241m.\u001b[39mwait:\n",
      "File \u001b[0;32m/opt/homebrew/Caskroom/miniconda/base/envs/voice-clone/lib/python3.10/site-packages/tenacity/__init__.py:158\u001b[0m, in \u001b[0;36mRetryError.reraise\u001b[0;34m(self)\u001b[0m\n\u001b[1;32m    156\u001b[0m \u001b[38;5;28;01mdef\u001b[39;00m \u001b[38;5;21mreraise\u001b[39m(\u001b[38;5;28mself\u001b[39m) \u001b[38;5;241m-\u001b[39m\u001b[38;5;241m>\u001b[39m t\u001b[38;5;241m.\u001b[39mNoReturn:\n\u001b[1;32m    157\u001b[0m     \u001b[38;5;28;01mif\u001b[39;00m \u001b[38;5;28mself\u001b[39m\u001b[38;5;241m.\u001b[39mlast_attempt\u001b[38;5;241m.\u001b[39mfailed:\n\u001b[0;32m--> 158\u001b[0m         \u001b[38;5;28;01mraise\u001b[39;00m \u001b[38;5;28;43mself\u001b[39;49m\u001b[38;5;241;43m.\u001b[39;49m\u001b[43mlast_attempt\u001b[49m\u001b[38;5;241;43m.\u001b[39;49m\u001b[43mresult\u001b[49m\u001b[43m(\u001b[49m\u001b[43m)\u001b[49m\n\u001b[1;32m    159\u001b[0m     \u001b[38;5;28;01mraise\u001b[39;00m \u001b[38;5;28mself\u001b[39m\n",
      "File \u001b[0;32m/opt/homebrew/Caskroom/miniconda/base/envs/voice-clone/lib/python3.10/concurrent/futures/_base.py:451\u001b[0m, in \u001b[0;36mFuture.result\u001b[0;34m(self, timeout)\u001b[0m\n\u001b[1;32m    449\u001b[0m     \u001b[38;5;28;01mraise\u001b[39;00m CancelledError()\n\u001b[1;32m    450\u001b[0m \u001b[38;5;28;01melif\u001b[39;00m \u001b[38;5;28mself\u001b[39m\u001b[38;5;241m.\u001b[39m_state \u001b[38;5;241m==\u001b[39m FINISHED:\n\u001b[0;32m--> 451\u001b[0m     \u001b[38;5;28;01mreturn\u001b[39;00m \u001b[38;5;28;43mself\u001b[39;49m\u001b[38;5;241;43m.\u001b[39;49m\u001b[43m__get_result\u001b[49m\u001b[43m(\u001b[49m\u001b[43m)\u001b[49m\n\u001b[1;32m    453\u001b[0m \u001b[38;5;28mself\u001b[39m\u001b[38;5;241m.\u001b[39m_condition\u001b[38;5;241m.\u001b[39mwait(timeout)\n\u001b[1;32m    455\u001b[0m \u001b[38;5;28;01mif\u001b[39;00m \u001b[38;5;28mself\u001b[39m\u001b[38;5;241m.\u001b[39m_state \u001b[38;5;129;01min\u001b[39;00m [CANCELLED, CANCELLED_AND_NOTIFIED]:\n",
      "File \u001b[0;32m/opt/homebrew/Caskroom/miniconda/base/envs/voice-clone/lib/python3.10/concurrent/futures/_base.py:403\u001b[0m, in \u001b[0;36mFuture.__get_result\u001b[0;34m(self)\u001b[0m\n\u001b[1;32m    401\u001b[0m \u001b[38;5;28;01mif\u001b[39;00m \u001b[38;5;28mself\u001b[39m\u001b[38;5;241m.\u001b[39m_exception:\n\u001b[1;32m    402\u001b[0m     \u001b[38;5;28;01mtry\u001b[39;00m:\n\u001b[0;32m--> 403\u001b[0m         \u001b[38;5;28;01mraise\u001b[39;00m \u001b[38;5;28mself\u001b[39m\u001b[38;5;241m.\u001b[39m_exception\n\u001b[1;32m    404\u001b[0m     \u001b[38;5;28;01mfinally\u001b[39;00m:\n\u001b[1;32m    405\u001b[0m         \u001b[38;5;66;03m# Break a reference cycle with the exception in self._exception\u001b[39;00m\n\u001b[1;32m    406\u001b[0m         \u001b[38;5;28mself\u001b[39m \u001b[38;5;241m=\u001b[39m \u001b[38;5;28;01mNone\u001b[39;00m\n",
      "File \u001b[0;32m/opt/homebrew/Caskroom/miniconda/base/envs/voice-clone/lib/python3.10/site-packages/instructor/retry.py:192\u001b[0m, in \u001b[0;36mretry_sync\u001b[0;34m(func, response_model, validation_context, args, kwargs, max_retries, strict, mode)\u001b[0m\n\u001b[1;32m    188\u001b[0m                 \u001b[38;5;28;01mif\u001b[39;00m mode \u001b[38;5;129;01min\u001b[39;00m {Mode\u001b[38;5;241m.\u001b[39mANTHROPIC_TOOLS, Mode\u001b[38;5;241m.\u001b[39mANTHROPIC_JSON}:\n\u001b[1;32m    189\u001b[0m                     kwargs[\u001b[38;5;124m\"\u001b[39m\u001b[38;5;124mmessages\u001b[39m\u001b[38;5;124m\"\u001b[39m] \u001b[38;5;241m=\u001b[39m merge_consecutive_messages(\n\u001b[1;32m    190\u001b[0m                         kwargs[\u001b[38;5;124m\"\u001b[39m\u001b[38;5;124mmessages\u001b[39m\u001b[38;5;124m\"\u001b[39m]\n\u001b[1;32m    191\u001b[0m                     )\n\u001b[0;32m--> 192\u001b[0m                 \u001b[38;5;28;01mraise\u001b[39;00m e\n\u001b[1;32m    193\u001b[0m \u001b[38;5;28;01mexcept\u001b[39;00m RetryError \u001b[38;5;28;01mas\u001b[39;00m e:\n\u001b[1;32m    194\u001b[0m     \u001b[38;5;28;01mraise\u001b[39;00m InstructorRetryException(\n\u001b[1;32m    195\u001b[0m         e,\n\u001b[1;32m    196\u001b[0m         last_completion\u001b[38;5;241m=\u001b[39mresponse,\n\u001b[0;32m   (...)\u001b[0m\n\u001b[1;32m    199\u001b[0m         total_usage\u001b[38;5;241m=\u001b[39mtotal_usage,\n\u001b[1;32m    200\u001b[0m     ) \u001b[38;5;28;01mfrom\u001b[39;00m \u001b[38;5;21;01me\u001b[39;00m\n",
      "File \u001b[0;32m/opt/homebrew/Caskroom/miniconda/base/envs/voice-clone/lib/python3.10/site-packages/instructor/retry.py:168\u001b[0m, in \u001b[0;36mretry_sync\u001b[0;34m(func, response_model, validation_context, args, kwargs, max_retries, strict, mode)\u001b[0m\n\u001b[1;32m    166\u001b[0m     stream \u001b[38;5;241m=\u001b[39m kwargs\u001b[38;5;241m.\u001b[39mget(\u001b[38;5;124m\"\u001b[39m\u001b[38;5;124mstream\u001b[39m\u001b[38;5;124m\"\u001b[39m, \u001b[38;5;28;01mFalse\u001b[39;00m)\n\u001b[1;32m    167\u001b[0m     response \u001b[38;5;241m=\u001b[39m update_total_usage(response, total_usage)\n\u001b[0;32m--> 168\u001b[0m     \u001b[38;5;28;01mreturn\u001b[39;00m \u001b[43mprocess_response\u001b[49m\u001b[43m(\u001b[49m\n\u001b[1;32m    169\u001b[0m \u001b[43m        \u001b[49m\u001b[43mresponse\u001b[49m\u001b[43m,\u001b[49m\n\u001b[1;32m    170\u001b[0m \u001b[43m        \u001b[49m\u001b[43mresponse_model\u001b[49m\u001b[38;5;241;43m=\u001b[39;49m\u001b[43mresponse_model\u001b[49m\u001b[43m,\u001b[49m\n\u001b[1;32m    171\u001b[0m \u001b[43m        \u001b[49m\u001b[43mstream\u001b[49m\u001b[38;5;241;43m=\u001b[39;49m\u001b[43mstream\u001b[49m\u001b[43m,\u001b[49m\n\u001b[1;32m    172\u001b[0m \u001b[43m        \u001b[49m\u001b[43mvalidation_context\u001b[49m\u001b[38;5;241;43m=\u001b[39;49m\u001b[43mvalidation_context\u001b[49m\u001b[43m,\u001b[49m\n\u001b[1;32m    173\u001b[0m \u001b[43m        \u001b[49m\u001b[43mstrict\u001b[49m\u001b[38;5;241;43m=\u001b[39;49m\u001b[43mstrict\u001b[49m\u001b[43m,\u001b[49m\n\u001b[1;32m    174\u001b[0m \u001b[43m        \u001b[49m\u001b[43mmode\u001b[49m\u001b[38;5;241;43m=\u001b[39;49m\u001b[43mmode\u001b[49m\u001b[43m,\u001b[49m\n\u001b[1;32m    175\u001b[0m \u001b[43m    \u001b[49m\u001b[43m)\u001b[49m\n\u001b[1;32m    176\u001b[0m \u001b[38;5;28;01mexcept\u001b[39;00m (ValidationError, JSONDecodeError) \u001b[38;5;28;01mas\u001b[39;00m e:\n\u001b[1;32m    177\u001b[0m     logger\u001b[38;5;241m.\u001b[39mdebug(\u001b[38;5;124mf\u001b[39m\u001b[38;5;124m\"\u001b[39m\u001b[38;5;124mError response: \u001b[39m\u001b[38;5;132;01m{\u001b[39;00mresponse\u001b[38;5;132;01m}\u001b[39;00m\u001b[38;5;124m\"\u001b[39m)\n",
      "File \u001b[0;32m/opt/homebrew/Caskroom/miniconda/base/envs/voice-clone/lib/python3.10/site-packages/instructor/process_response.py:144\u001b[0m, in \u001b[0;36mprocess_response\u001b[0;34m(response, response_model, stream, validation_context, strict, mode)\u001b[0m\n\u001b[1;32m    138\u001b[0m     model \u001b[38;5;241m=\u001b[39m response_model\u001b[38;5;241m.\u001b[39mfrom_streaming_response(\n\u001b[1;32m    139\u001b[0m         response,\n\u001b[1;32m    140\u001b[0m         mode\u001b[38;5;241m=\u001b[39mmode,\n\u001b[1;32m    141\u001b[0m     )\n\u001b[1;32m    142\u001b[0m     \u001b[38;5;28;01mreturn\u001b[39;00m model\n\u001b[0;32m--> 144\u001b[0m model \u001b[38;5;241m=\u001b[39m \u001b[43mresponse_model\u001b[49m\u001b[38;5;241;43m.\u001b[39;49m\u001b[43mfrom_response\u001b[49m\u001b[43m(\u001b[49m\n\u001b[1;32m    145\u001b[0m \u001b[43m    \u001b[49m\u001b[43mresponse\u001b[49m\u001b[43m,\u001b[49m\n\u001b[1;32m    146\u001b[0m \u001b[43m    \u001b[49m\u001b[43mvalidation_context\u001b[49m\u001b[38;5;241;43m=\u001b[39;49m\u001b[43mvalidation_context\u001b[49m\u001b[43m,\u001b[49m\n\u001b[1;32m    147\u001b[0m \u001b[43m    \u001b[49m\u001b[43mstrict\u001b[49m\u001b[38;5;241;43m=\u001b[39;49m\u001b[43mstrict\u001b[49m\u001b[43m,\u001b[49m\n\u001b[1;32m    148\u001b[0m \u001b[43m    \u001b[49m\u001b[43mmode\u001b[49m\u001b[38;5;241;43m=\u001b[39;49m\u001b[43mmode\u001b[49m\u001b[43m,\u001b[49m\n\u001b[1;32m    149\u001b[0m \u001b[43m\u001b[49m\u001b[43m)\u001b[49m\n\u001b[1;32m    151\u001b[0m \u001b[38;5;66;03m# ? This really hints at the fact that we need a better way of\u001b[39;00m\n\u001b[1;32m    152\u001b[0m \u001b[38;5;66;03m# ? attaching usage data and the raw response to the model we return.\u001b[39;00m\n\u001b[1;32m    153\u001b[0m \u001b[38;5;28;01mif\u001b[39;00m \u001b[38;5;28misinstance\u001b[39m(model, IterableBase):\n",
      "File \u001b[0;32m/opt/homebrew/Caskroom/miniconda/base/envs/voice-clone/lib/python3.10/site-packages/instructor/function_calls.py:125\u001b[0m, in \u001b[0;36mOpenAISchema.from_response\u001b[0;34m(cls, completion, validation_context, strict, mode)\u001b[0m\n\u001b[1;32m    122\u001b[0m     \u001b[38;5;28;01mreturn\u001b[39;00m \u001b[38;5;28mcls\u001b[39m\u001b[38;5;241m.\u001b[39mparse_functions(completion, validation_context, strict)\n\u001b[1;32m    124\u001b[0m \u001b[38;5;28;01mif\u001b[39;00m mode \u001b[38;5;129;01min\u001b[39;00m {Mode\u001b[38;5;241m.\u001b[39mTOOLS, Mode\u001b[38;5;241m.\u001b[39mMISTRAL_TOOLS}:\n\u001b[0;32m--> 125\u001b[0m     \u001b[38;5;28;01mreturn\u001b[39;00m \u001b[38;5;28;43mcls\u001b[39;49m\u001b[38;5;241;43m.\u001b[39;49m\u001b[43mparse_tools\u001b[49m\u001b[43m(\u001b[49m\u001b[43mcompletion\u001b[49m\u001b[43m,\u001b[49m\u001b[43m \u001b[49m\u001b[43mvalidation_context\u001b[49m\u001b[43m,\u001b[49m\u001b[43m \u001b[49m\u001b[43mstrict\u001b[49m\u001b[43m)\u001b[49m\n\u001b[1;32m    127\u001b[0m \u001b[38;5;28;01mif\u001b[39;00m mode \u001b[38;5;129;01min\u001b[39;00m {Mode\u001b[38;5;241m.\u001b[39mJSON, Mode\u001b[38;5;241m.\u001b[39mJSON_SCHEMA, Mode\u001b[38;5;241m.\u001b[39mMD_JSON}:\n\u001b[1;32m    128\u001b[0m     \u001b[38;5;28;01mreturn\u001b[39;00m \u001b[38;5;28mcls\u001b[39m\u001b[38;5;241m.\u001b[39mparse_json(completion, validation_context, strict)\n",
      "File \u001b[0;32m/opt/homebrew/Caskroom/miniconda/base/envs/voice-clone/lib/python3.10/site-packages/instructor/function_calls.py:270\u001b[0m, in \u001b[0;36mOpenAISchema.parse_tools\u001b[0;34m(cls, completion, validation_context, strict)\u001b[0m\n\u001b[1;32m    266\u001b[0m tool_call \u001b[38;5;241m=\u001b[39m message\u001b[38;5;241m.\u001b[39mtool_calls[\u001b[38;5;241m0\u001b[39m]  \u001b[38;5;66;03m# type: ignore\u001b[39;00m\n\u001b[1;32m    267\u001b[0m \u001b[38;5;28;01massert\u001b[39;00m (\n\u001b[1;32m    268\u001b[0m     tool_call\u001b[38;5;241m.\u001b[39mfunction\u001b[38;5;241m.\u001b[39mname \u001b[38;5;241m==\u001b[39m \u001b[38;5;28mcls\u001b[39m\u001b[38;5;241m.\u001b[39mopenai_schema[\u001b[38;5;124m\"\u001b[39m\u001b[38;5;124mname\u001b[39m\u001b[38;5;124m\"\u001b[39m]  \u001b[38;5;66;03m# type: ignore[index]\u001b[39;00m\n\u001b[1;32m    269\u001b[0m ), \u001b[38;5;124m\"\u001b[39m\u001b[38;5;124mTool name does not match\u001b[39m\u001b[38;5;124m\"\u001b[39m\n\u001b[0;32m--> 270\u001b[0m \u001b[38;5;28;01mreturn\u001b[39;00m \u001b[38;5;28;43mcls\u001b[39;49m\u001b[38;5;241;43m.\u001b[39;49m\u001b[43mmodel_validate_json\u001b[49m\u001b[43m(\u001b[49m\n\u001b[1;32m    271\u001b[0m \u001b[43m    \u001b[49m\u001b[43mtool_call\u001b[49m\u001b[38;5;241;43m.\u001b[39;49m\u001b[43mfunction\u001b[49m\u001b[38;5;241;43m.\u001b[39;49m\u001b[43marguments\u001b[49m\u001b[43m,\u001b[49m\u001b[43m  \u001b[49m\u001b[38;5;66;43;03m# type: ignore\u001b[39;49;00m\n\u001b[1;32m    272\u001b[0m \u001b[43m    \u001b[49m\u001b[43mcontext\u001b[49m\u001b[38;5;241;43m=\u001b[39;49m\u001b[43mvalidation_context\u001b[49m\u001b[43m,\u001b[49m\n\u001b[1;32m    273\u001b[0m \u001b[43m    \u001b[49m\u001b[43mstrict\u001b[49m\u001b[38;5;241;43m=\u001b[39;49m\u001b[43mstrict\u001b[49m\u001b[43m,\u001b[49m\n\u001b[1;32m    274\u001b[0m \u001b[43m\u001b[49m\u001b[43m)\u001b[49m\n",
      "File \u001b[0;32m/opt/homebrew/Caskroom/miniconda/base/envs/voice-clone/lib/python3.10/site-packages/pydantic/main.py:580\u001b[0m, in \u001b[0;36mBaseModel.model_validate_json\u001b[0;34m(cls, json_data, strict, context)\u001b[0m\n\u001b[1;32m    578\u001b[0m \u001b[38;5;66;03m# `__tracebackhide__` tells pytest and some other tools to omit this function from tracebacks\u001b[39;00m\n\u001b[1;32m    579\u001b[0m __tracebackhide__ \u001b[38;5;241m=\u001b[39m \u001b[38;5;28;01mTrue\u001b[39;00m\n\u001b[0;32m--> 580\u001b[0m \u001b[38;5;28;01mreturn\u001b[39;00m \u001b[38;5;28;43mcls\u001b[39;49m\u001b[38;5;241;43m.\u001b[39;49m\u001b[43m__pydantic_validator__\u001b[49m\u001b[38;5;241;43m.\u001b[39;49m\u001b[43mvalidate_json\u001b[49m\u001b[43m(\u001b[49m\u001b[43mjson_data\u001b[49m\u001b[43m,\u001b[49m\u001b[43m \u001b[49m\u001b[43mstrict\u001b[49m\u001b[38;5;241;43m=\u001b[39;49m\u001b[43mstrict\u001b[49m\u001b[43m,\u001b[49m\u001b[43m \u001b[49m\u001b[43mcontext\u001b[49m\u001b[38;5;241;43m=\u001b[39;49m\u001b[43mcontext\u001b[49m\u001b[43m)\u001b[49m\n",
      "\u001b[0;31mValidationError\u001b[0m: 1 validation error for ListTransformation\n  Invalid JSON: EOF while parsing a string at line 1 column 2232 [type=json_invalid, input_value='{\"transformations\":[{\"in...1, 1, 1, 1, 1, 1, 1, 1,', input_type=str]\n    For further information visit https://errors.pydantic.dev/2.7/v/json_invalid"
     ]
    }
   ],
   "source": [
    "from train_test_helper import train_and_evaluate\n",
    "\n",
    "from logical_agents import (logic_concept_reasoning_network,\n",
    "                            pattern_based_logical_reasoning_network)\n",
    "\n",
    "reasoning_iterations=4\n",
    "reasoning_agent=lambda prompt,input: pattern_based_logical_reasoning_network(f\"{prompt}\\n{input}\", max_iterations=reasoning_iterations)\n",
    "# reasoning_agent=None\n",
    "set_live_verbosity(0)\n",
    "\n",
    "n = 100\n",
    "import random\n",
    "\n",
    "selected_data = random.sample(data, n)\n",
    "\n",
    "results, train_dtw_scores, test_dtw_scores=train_and_evaluate(\n",
    "    dataset=selected_data,  \n",
    "    mlu=mlu,\n",
    "    prompt_key=\"query\",\n",
    "    response_key=\"reply\",\n",
    "    epochs=1,\n",
    "    test_size=0,\n",
    "    train_batch_size=1,\n",
    "    test_batch_size=1,\n",
    "    initial_serial_items=1,\n",
    "    logging=True,\n",
    "    training_analysis_agent = reasoning_agent,\n",
    "    testing_analysis_agent = reasoning_agent,\n",
    ")"
   ]
  },
  {
   "cell_type": "code",
   "execution_count": null,
   "metadata": {},
   "outputs": [],
   "source": [
    "mlu.print_knowledge_base()"
   ]
  }
 ],
 "metadata": {
  "kernelspec": {
   "display_name": "voice-clone",
   "language": "python",
   "name": "python3"
  },
  "language_info": {
   "codemirror_mode": {
    "name": "ipython",
    "version": 3
   },
   "file_extension": ".py",
   "mimetype": "text/x-python",
   "name": "python",
   "nbconvert_exporter": "python",
   "pygments_lexer": "ipython3",
   "version": "3.10.13"
  }
 },
 "nbformat": 4,
 "nbformat_minor": 2
}
