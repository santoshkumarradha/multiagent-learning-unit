{
 "cells": [
  {
   "cell_type": "code",
   "execution_count": 1,
   "metadata": {},
   "outputs": [],
   "source": [
    "import sys;sys.path.append('../')\n",
    "import os\n",
    "\n",
    "from rich import print\n",
    "\n",
    "openai_key=open('../openai.key').read().strip()\n",
    "os.environ['OPENAI_API_KEY'] = openai_key\n",
    "\n",
    "from multi_agent_llm import OpenAILLM\n",
    "from multi_agent_llm.agents.clu.split_clu import CLU\n",
    "\n",
    "llm = OpenAILLM(model_name=\"gpt-4o-mini\")"
   ]
  },
  {
   "cell_type": "markdown",
   "metadata": {},
   "source": []
  },
  {
   "cell_type": "code",
   "execution_count": 2,
   "metadata": {},
   "outputs": [],
   "source": [
    "clu = CLU(main_role=\"\"\"\n",
    "    Your task is to learn how to reason step by step. Break down complex tasks into smaller, manageable sub-steps. \n",
    "    Extract intermediate conclusions at each step before arriving at the final answer. Dont learn anything task specific but learn in general \n",
    "    how to enhance your answer by thinking step by step and planning on how to go towards final answer.\n",
    "    \"\"\",\n",
    "    collection_name=\"step_by_step_knowledge_base_v1\",\n",
    "    compress_knowledge=False,\n",
    "    retrival_limit=15,\n",
    "    llm=llm,\n",
    "    pruning_queue_size=1,\n",
    "    exploration_rate=0.2,\n",
    "    verbose=True,\n",
    ")"
   ]
  },
  {
   "cell_type": "code",
   "execution_count": 3,
   "metadata": {},
   "outputs": [],
   "source": [
    "from typing import List\n",
    "\n",
    "from pydantic import BaseModel, Field\n",
    "\n",
    "\n",
    "class Step(BaseModel):\n",
    "    explanation: str = Field(..., description=\"Explanation for this step of reasoning\")\n",
    "    intermediate_answer: str = Field(..., description=\"Intermediate answer or conclusion for this step\")\n",
    "\n",
    "class QA(BaseModel):\n",
    "    steps: List[Step] = Field(..., description=\"List of steps in the reasoning process\")\n",
    "    answer: str = Field(..., description=\"Final answer (A/B/C/D/Uncertain) without any additional explanation.\")"
   ]
  },
  {
   "cell_type": "code",
   "execution_count": null,
   "metadata": {},
   "outputs": [],
   "source": [
    "training_example = \"\"\"\n",
    "    Question: A man walks 5 miles north, then 3 miles east. How far is he from his starting point?\n",
    "\"\"\"\n",
    "\n",
    "# Train CLU with the step-by-step example\n",
    "for i in range(1):\n",
    "    result = clu.train(training_example, expected_output=QA(steps=[\n",
    "        Step(explanation=\"Recognize the movement in two directions (north and east)\", intermediate_answer=\"5 miles north and 3 miles east\"),\n",
    "        Step(explanation=\"Form a right triangle\", intermediate_answer=\"Right triangle with sides 5 and 3\"),\n",
    "        Step(explanation=\"Apply Pythagorean theorem\", intermediate_answer=\"sqrt(5^2 + 3^2) = sqrt(34)\"),\n",
    "        Step(explanation=\"Calculate the distance\", intermediate_answer=\"5.83 miles\")\n",
    "    ], answer=\"5.83 miles\"), response_schema=QA)\n",
    "    print(result)"
   ]
  },
  {
   "cell_type": "code",
   "execution_count": null,
   "metadata": {},
   "outputs": [],
   "source": [
    "# Infer the reasoning process learned by CLU\n",
    "result = clu.inference(\"Explain how you reasoned through this problem step by step.\")\n",
    "print(result['response'])"
   ]
  }
 ],
 "metadata": {
  "kernelspec": {
   "display_name": "Python 3",
   "language": "python",
   "name": "python3"
  },
  "language_info": {
   "codemirror_mode": {
    "name": "ipython",
    "version": 3
   },
   "file_extension": ".py",
   "mimetype": "text/x-python",
   "name": "python",
   "nbconvert_exporter": "python",
   "pygments_lexer": "ipython3",
   "version": "3.10.14"
  }
 },
 "nbformat": 4,
 "nbformat_minor": 2
}
