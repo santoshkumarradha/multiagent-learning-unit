{
 "cells": [
  {
   "cell_type": "code",
   "execution_count": 5,
   "metadata": {},
   "outputs": [],
   "source": [
    "import sys;sys.path.append('../')\n",
    "import os\n",
    "\n",
    "from rich import print\n",
    "\n",
    "openai_key=open('../openai.key').read().strip()\n",
    "os.environ['OPENAI_API_KEY'] = openai_key"
   ]
  },
  {
   "cell_type": "code",
   "execution_count": 6,
   "metadata": {},
   "outputs": [],
   "source": [
    "from multi_agent_llm import RCLU, KMU, OpenAILLM\n",
    "\n",
    "llm = OpenAILLM(model_name=\"gpt-4o-mini\")"
   ]
  },
  {
   "cell_type": "code",
   "execution_count": 7,
   "metadata": {},
   "outputs": [],
   "source": [
    "# Perform reasoning\n",
    "from pydantic import BaseModel, Field\n",
    "\n",
    "\n",
    "class OperationalAgentOutput(BaseModel):\n",
    "    explanation: str = Field(\n",
    "        ..., description=\"Explanation of logic of transformation\"\n",
    "    )\n",
    "    answer: str = Field(...,description=\"Final answer\")"
   ]
  },
  {
   "cell_type": "code",
   "execution_count": 8,
   "metadata": {},
   "outputs": [
    {
     "data": {
      "text/html": [
       "<pre style=\"white-space:pre;overflow-x:auto;line-height:normal;font-family:Menlo,'DejaVu Sans Mono',consolas,'Courier New',monospace\"><span style=\"color: #3296c8; text-decoration-color: #3296c8\">Starting Training Process</span>\n",
       "</pre>\n"
      ],
      "text/plain": [
       "\u001b[38;2;50;150;200mStarting Training Process\u001b[0m\n"
      ]
     },
     "metadata": {},
     "output_type": "display_data"
    },
    {
     "data": {
      "text/html": [
       "<pre style=\"white-space:pre;overflow-x:auto;line-height:normal;font-family:Menlo,'DejaVu Sans Mono',consolas,'Courier New',monospace\"><span style=\"color: #3296c8; text-decoration-color: #3296c8\">Starting Reasoning Process</span>\n",
       "</pre>\n"
      ],
      "text/plain": [
       "\u001b[38;2;50;150;200mStarting Reasoning Process\u001b[0m\n"
      ]
     },
     "metadata": {},
     "output_type": "display_data"
    },
    {
     "data": {
      "text/html": [
       "<pre style=\"white-space:pre;overflow-x:auto;line-height:normal;font-family:Menlo,'DejaVu Sans Mono',consolas,'Courier New',monospace\">╭────────────────────────────────────────────────────────────────────╮\n",
       "│ <span style=\"font-style: italic\">                  </span><span style=\"font-weight: bold; font-style: italic\">Positive General KMU Retrieval</span><span style=\"font-style: italic\">                  </span> │\n",
       "│  <span style=\"color: #008080; text-decoration-color: #008080\">Input:</span>   Given:                                                   │\n",
       "│           \"Neural networks transform data efficiently\" → \"eeraf\"   │\n",
       "│           \"Artificial intelligence automates decisions\" → \"rnue\"   │\n",
       "│           Query:                                                   │\n",
       "│           What is \"Gradient descent optimizes loss functions\" → ?  │\n",
       "│  <span style=\"color: #008000; text-decoration-color: #008000\">Output:</span>  []                                                       │\n",
       "╰────────────────────────────────────────────────────────────────────╯\n",
       "</pre>\n"
      ],
      "text/plain": [
       "╭────────────────────────────────────────────────────────────────────╮\n",
       "│ \u001b[3m                  \u001b[0m\u001b[1;3mPositive General KMU Retrieval\u001b[0m\u001b[3m                  \u001b[0m │\n",
       "│  \u001b[36mInput:\u001b[0m   Given:                                                   │\n",
       "│           \"Neural networks transform data efficiently\" → \"eeraf\"   │\n",
       "│           \"Artificial intelligence automates decisions\" → \"rnue\"   │\n",
       "│           Query:                                                   │\n",
       "│           What is \"Gradient descent optimizes loss functions\" → ?  │\n",
       "│  \u001b[32mOutput:\u001b[0m  []                                                       │\n",
       "╰────────────────────────────────────────────────────────────────────╯\n"
      ]
     },
     "metadata": {},
     "output_type": "display_data"
    },
    {
     "data": {
      "text/html": [
       "<pre style=\"white-space:pre;overflow-x:auto;line-height:normal;font-family:Menlo,'DejaVu Sans Mono',consolas,'Courier New',monospace\">╭─────────────────────────────────────────────────────────────────────────────────────────────────────────────────╮\n",
       "│ <span style=\"font-style: italic\">                                        </span><span style=\"font-weight: bold; font-style: italic\">Negative General KMU Retrieval</span><span style=\"font-style: italic\">                                         </span> │\n",
       "│  <span style=\"color: #008080; text-decoration-color: #008080\">Input:</span>   Given:                                                                                                │\n",
       "│           \"Neural networks transform data efficiently\" → \"eeraf\"                                                │\n",
       "│           \"Artificial intelligence automates decisions\" → \"rnue\"                                                │\n",
       "│           Query:                                                                                                │\n",
       "│           What is \"Gradient descent optimizes loss functions\" → ?                                               │\n",
       "│  <span style=\"color: #008000; text-decoration-color: #008000\">Output:</span>  ['Use holistic transformation logic to analyze cryptographic puzzles; avoid misleading conclusions    │\n",
       "│           by not focusing only on initial letters or segments.', 'In cryptographic puzzles, avoid               │\n",
       "│           oversimplifying analyses by focusing solely on letter relationships. It is essential to consider      │\n",
       "│           broader structural patterns and relationships in the phrases to achieve accurate outputs.',           │\n",
       "│           'Identify interdependencies among letters and their placement in words to improve predictions in      │\n",
       "│           cryptographic puzzles. Avoid isolation of output analysis.', 'Focus on holistic transformation logic  │\n",
       "│           over solely initial letters or sounds to uncover hidden rules in cryptographic puzzles.', 'Consider   │\n",
       "│           encoding techniques that incorporate relative letter positions in relation to the whole phrase        │\n",
       "│           length, rather than focusing solely on word structure. This may uncover hidden rules in               │\n",
       "│           cryptographic puzzles.', 'Identify structural rules by analyzing the relationship between input       │\n",
       "│           phrase word count and output characteristics. Methods: 1. Track transformations for patterns. 2.      │\n",
       "│           Test multiple inputs of varying lengths. 3. Document findings to enhance understanding of the         │\n",
       "│           cryptographic mechanics.', 'Recognize and analyze distinct transformation patterns and letter         │\n",
       "│           selection rules to enhance output success.', 'Avoid over-relying on the end letters of terms in       │\n",
       "│           cryptographic transformations, as this can lead to faulty interpretations. Instead, consider a        │\n",
       "│           holistic approach that examines overall patterns and relationships.', 'Transformation logic: 1)       │\n",
       "│           Complex selection/rearrangement of letters is key; 2) Avoid oversimplified assumptions to prevent     │\n",
       "│           incorrect outputs.', 'To decode cryptographic puzzles effectively, emphasize overall encoding         │\n",
       "│           techniques over isolated letter positions. This broad approach will help in uncovering the hidden     │\n",
       "│           rules and transformation logic.']                                                                     │\n",
       "╰─────────────────────────────────────────────────────────────────────────────────────────────────────────────────╯\n",
       "</pre>\n"
      ],
      "text/plain": [
       "╭─────────────────────────────────────────────────────────────────────────────────────────────────────────────────╮\n",
       "│ \u001b[3m                                        \u001b[0m\u001b[1;3mNegative General KMU Retrieval\u001b[0m\u001b[3m                                         \u001b[0m │\n",
       "│  \u001b[36mInput:\u001b[0m   Given:                                                                                                │\n",
       "│           \"Neural networks transform data efficiently\" → \"eeraf\"                                                │\n",
       "│           \"Artificial intelligence automates decisions\" → \"rnue\"                                                │\n",
       "│           Query:                                                                                                │\n",
       "│           What is \"Gradient descent optimizes loss functions\" → ?                                               │\n",
       "│  \u001b[32mOutput:\u001b[0m  ['Use holistic transformation logic to analyze cryptographic puzzles; avoid misleading conclusions    │\n",
       "│           by not focusing only on initial letters or segments.', 'In cryptographic puzzles, avoid               │\n",
       "│           oversimplifying analyses by focusing solely on letter relationships. It is essential to consider      │\n",
       "│           broader structural patterns and relationships in the phrases to achieve accurate outputs.',           │\n",
       "│           'Identify interdependencies among letters and their placement in words to improve predictions in      │\n",
       "│           cryptographic puzzles. Avoid isolation of output analysis.', 'Focus on holistic transformation logic  │\n",
       "│           over solely initial letters or sounds to uncover hidden rules in cryptographic puzzles.', 'Consider   │\n",
       "│           encoding techniques that incorporate relative letter positions in relation to the whole phrase        │\n",
       "│           length, rather than focusing solely on word structure. This may uncover hidden rules in               │\n",
       "│           cryptographic puzzles.', 'Identify structural rules by analyzing the relationship between input       │\n",
       "│           phrase word count and output characteristics. Methods: 1. Track transformations for patterns. 2.      │\n",
       "│           Test multiple inputs of varying lengths. 3. Document findings to enhance understanding of the         │\n",
       "│           cryptographic mechanics.', 'Recognize and analyze distinct transformation patterns and letter         │\n",
       "│           selection rules to enhance output success.', 'Avoid over-relying on the end letters of terms in       │\n",
       "│           cryptographic transformations, as this can lead to faulty interpretations. Instead, consider a        │\n",
       "│           holistic approach that examines overall patterns and relationships.', 'Transformation logic: 1)       │\n",
       "│           Complex selection/rearrangement of letters is key; 2) Avoid oversimplified assumptions to prevent     │\n",
       "│           incorrect outputs.', 'To decode cryptographic puzzles effectively, emphasize overall encoding         │\n",
       "│           techniques over isolated letter positions. This broad approach will help in uncovering the hidden     │\n",
       "│           rules and transformation logic.']                                                                     │\n",
       "╰─────────────────────────────────────────────────────────────────────────────────────────────────────────────────╯\n"
      ]
     },
     "metadata": {},
     "output_type": "display_data"
    },
    {
     "data": {
      "text/html": [
       "<pre style=\"white-space:pre;overflow-x:auto;line-height:normal;font-family:Menlo,'DejaVu Sans Mono',consolas,'Courier New',monospace\">╭────────────────────────────────────────────────────────────────────╮\n",
       "│ <span style=\"font-style: italic\">                  </span><span style=\"font-weight: bold; font-style: italic\">Positive Prompt KMU Retrieval</span><span style=\"font-style: italic\">                   </span> │\n",
       "│  <span style=\"color: #008080; text-decoration-color: #008080\">Input:</span>   Given:                                                   │\n",
       "│           \"Neural networks transform data efficiently\" → \"eeraf\"   │\n",
       "│           \"Artificial intelligence automates decisions\" → \"rnue\"   │\n",
       "│           Query:                                                   │\n",
       "│           What is \"Gradient descent optimizes loss functions\" → ?  │\n",
       "│  <span style=\"color: #008000; text-decoration-color: #008000\">Output:</span>  []                                                       │\n",
       "╰────────────────────────────────────────────────────────────────────╯\n",
       "</pre>\n"
      ],
      "text/plain": [
       "╭────────────────────────────────────────────────────────────────────╮\n",
       "│ \u001b[3m                  \u001b[0m\u001b[1;3mPositive Prompt KMU Retrieval\u001b[0m\u001b[3m                   \u001b[0m │\n",
       "│  \u001b[36mInput:\u001b[0m   Given:                                                   │\n",
       "│           \"Neural networks transform data efficiently\" → \"eeraf\"   │\n",
       "│           \"Artificial intelligence automates decisions\" → \"rnue\"   │\n",
       "│           Query:                                                   │\n",
       "│           What is \"Gradient descent optimizes loss functions\" → ?  │\n",
       "│  \u001b[32mOutput:\u001b[0m  []                                                       │\n",
       "╰────────────────────────────────────────────────────────────────────╯\n"
      ]
     },
     "metadata": {},
     "output_type": "display_data"
    },
    {
     "data": {
      "text/html": [
       "<pre style=\"white-space:pre;overflow-x:auto;line-height:normal;font-family:Menlo,'DejaVu Sans Mono',consolas,'Courier New',monospace\">╭─────────────────────────────────────────────────────────────────────────────────────────────────────────────────╮\n",
       "│ <span style=\"font-style: italic\">                                         </span><span style=\"font-weight: bold; font-style: italic\">Negative Prompt KMU Retrieval</span><span style=\"font-style: italic\">                                         </span> │\n",
       "│  <span style=\"color: #008080; text-decoration-color: #008080\">Input:</span>   Given:                                                                                                │\n",
       "│           \"Neural networks transform data efficiently\" → \"eeraf\"                                                │\n",
       "│           \"Artificial intelligence automates decisions\" → \"rnue\"                                                │\n",
       "│           Query:                                                                                                │\n",
       "│           What is \"Gradient descent optimizes loss functions\" → ?                                               │\n",
       "│  <span style=\"color: #008000; text-decoration-color: #008000\">Output:</span>  ['Explore diverse letter combinations within phrases to uncover transformation patterns in            │\n",
       "│           cryptographic puzzles, promoting flexibility over strict criteria.', '- **Insight**: Inflexible       │\n",
       "│           extraction criteria can limit the effectiveness of output generation in cryptographic puzzles.\\n-     │\n",
       "│           **Strategy for Future Prompts**: \\n  1. Encourage flexible extraction criteria that consider          │\n",
       "│           multiple potential letters to enhance output.\\n  2. Promote iterative testing of different letters    │\n",
       "│           to identify those essential for correct transformations.\\n- **Application**: Ensure that prompts      │\n",
       "│           facilitate exploration of alternative letters, fostering a more holistic approach to uncovering       │\n",
       "│           transformation logic.', 'Focus on analyzing structural patterns in addition to letter frequency when  │\n",
       "│           interpreting transformation puzzles to align outputs with expected historical phrases.', 'To enhance  │\n",
       "│           effectiveness, it is crucial to explore diverse letter combinations and variations when analyzing     │\n",
       "│           cryptographic puzzles, as this broadens the potential for discovering hidden rules and                │\n",
       "│           transformation logic.', 'Understand that in cryptographic transformation, both specific key terms     │\n",
       "│           and broader selections of letters and their arrangements are crucial. When generating prompts,        │\n",
       "│           include a variety of input types and arrangements to better guide the reasoning process.', 'To        │\n",
       "│           improve comprehension of the transformation process in cryptographic puzzles, consider interactions   │\n",
       "│           between key elements rather than solely focusing on their individual dissection. This will aid in     │\n",
       "│           establishing accurate letter selection criteria.', 'Prioritize understanding transformation logic     │\n",
       "│           over mere frequency analysis when solving cryptographic puzzles. Recognize that correlation between   │\n",
       "│           phrases may provide vital insights into the hidden rules.', 'In cryptographic analysis, consider      │\n",
       "│           alternative letter combinations from within phrases to enhance the flexibility of pattern             │\n",
       "│           recognition and improve solution accuracy. Avoid rigid criteria that limit potential discoveries.',   │\n",
       "│           'To refine prompt strategies, ensure nuance in understanding hidden transformation logic within       │\n",
       "│           cryptographic outputs. This involves establishing clear correlations between input phrases and        │\n",
       "│           outputs to avoid missed connections. Integrate comparative validation with a thorough analysis of     │\n",
       "│           transformation rules.', 'Emphasize flexibility when analyzing patterns and relationships between      │\n",
       "│           letters in various phrases. This adaptability is crucial for decoding cryptographic puzzles.']        │\n",
       "╰─────────────────────────────────────────────────────────────────────────────────────────────────────────────────╯\n",
       "</pre>\n"
      ],
      "text/plain": [
       "╭─────────────────────────────────────────────────────────────────────────────────────────────────────────────────╮\n",
       "│ \u001b[3m                                         \u001b[0m\u001b[1;3mNegative Prompt KMU Retrieval\u001b[0m\u001b[3m                                         \u001b[0m │\n",
       "│  \u001b[36mInput:\u001b[0m   Given:                                                                                                │\n",
       "│           \"Neural networks transform data efficiently\" → \"eeraf\"                                                │\n",
       "│           \"Artificial intelligence automates decisions\" → \"rnue\"                                                │\n",
       "│           Query:                                                                                                │\n",
       "│           What is \"Gradient descent optimizes loss functions\" → ?                                               │\n",
       "│  \u001b[32mOutput:\u001b[0m  ['Explore diverse letter combinations within phrases to uncover transformation patterns in            │\n",
       "│           cryptographic puzzles, promoting flexibility over strict criteria.', '- **Insight**: Inflexible       │\n",
       "│           extraction criteria can limit the effectiveness of output generation in cryptographic puzzles.\\n-     │\n",
       "│           **Strategy for Future Prompts**: \\n  1. Encourage flexible extraction criteria that consider          │\n",
       "│           multiple potential letters to enhance output.\\n  2. Promote iterative testing of different letters    │\n",
       "│           to identify those essential for correct transformations.\\n- **Application**: Ensure that prompts      │\n",
       "│           facilitate exploration of alternative letters, fostering a more holistic approach to uncovering       │\n",
       "│           transformation logic.', 'Focus on analyzing structural patterns in addition to letter frequency when  │\n",
       "│           interpreting transformation puzzles to align outputs with expected historical phrases.', 'To enhance  │\n",
       "│           effectiveness, it is crucial to explore diverse letter combinations and variations when analyzing     │\n",
       "│           cryptographic puzzles, as this broadens the potential for discovering hidden rules and                │\n",
       "│           transformation logic.', 'Understand that in cryptographic transformation, both specific key terms     │\n",
       "│           and broader selections of letters and their arrangements are crucial. When generating prompts,        │\n",
       "│           include a variety of input types and arrangements to better guide the reasoning process.', 'To        │\n",
       "│           improve comprehension of the transformation process in cryptographic puzzles, consider interactions   │\n",
       "│           between key elements rather than solely focusing on their individual dissection. This will aid in     │\n",
       "│           establishing accurate letter selection criteria.', 'Prioritize understanding transformation logic     │\n",
       "│           over mere frequency analysis when solving cryptographic puzzles. Recognize that correlation between   │\n",
       "│           phrases may provide vital insights into the hidden rules.', 'In cryptographic analysis, consider      │\n",
       "│           alternative letter combinations from within phrases to enhance the flexibility of pattern             │\n",
       "│           recognition and improve solution accuracy. Avoid rigid criteria that limit potential discoveries.',   │\n",
       "│           'To refine prompt strategies, ensure nuance in understanding hidden transformation logic within       │\n",
       "│           cryptographic outputs. This involves establishing clear correlations between input phrases and        │\n",
       "│           outputs to avoid missed connections. Integrate comparative validation with a thorough analysis of     │\n",
       "│           transformation rules.', 'Emphasize flexibility when analyzing patterns and relationships between      │\n",
       "│           letters in various phrases. This adaptability is crucial for decoding cryptographic puzzles.']        │\n",
       "╰─────────────────────────────────────────────────────────────────────────────────────────────────────────────────╯\n"
      ]
     },
     "metadata": {},
     "output_type": "display_data"
    }
   ],
   "source": [
    "clu = RCLU(\n",
    "    llm,\n",
    "    main_goal=\"Try out various techniques and Find the hidden rule and learn the transformation logic of the cryptographic puzzle\",\n",
    "    name=\"PuzzleSolverRCLU0\"\n",
    ")\n",
    "\n",
    "# Perform training\n",
    "query = \"\"\"Given:\n",
    "\"Neural networks transform data efficiently\" → \"eeraf\"\n",
    "\"Artificial intelligence automates decisions\" → \"rnue\" \n",
    "Query:\n",
    "What is \"Gradient descent optimizes loss functions\" → ?\"\"\"\n",
    "\n",
    "expected_output = \"repou\"\n",
    "\n",
    "training_result = clu.train(query, expected_output, OperationalAgentOutput, verbose=True)"
   ]
  },
  {
   "cell_type": "code",
   "execution_count": null,
   "metadata": {},
   "outputs": [],
   "source": []
  }
 ],
 "metadata": {
  "kernelspec": {
   "display_name": "Python 3",
   "language": "python",
   "name": "python3"
  },
  "language_info": {
   "codemirror_mode": {
    "name": "ipython",
    "version": 3
   },
   "file_extension": ".py",
   "mimetype": "text/x-python",
   "name": "python",
   "nbconvert_exporter": "python",
   "pygments_lexer": "ipython3",
   "version": "3.10.14"
  }
 },
 "nbformat": 4,
 "nbformat_minor": 2
}
